{
 "cells": [
  {
   "cell_type": "markdown",
   "metadata": {},
   "source": [
    "# Blockbuster\n",
    "\n",
    "\n",
    "### add gif if needed\n",
    "\n",
    "# Table of Content\n",
<<<<<<< HEAD
=======
    "\n",
    "1. Introduction\n",
    "    * Business Overview of the Movie Industry\n",
    "    * Business Understanding\n",
    "    * Business Question/Hypothesis\n",
    " \n",
    " \n",
    "2. Data Exploration/Analysis\n",
    "    * Data Understanding\n",
    "    * Data Analysis\n",
    "  \n",
    "  \n",
    "3. Hypothesis Testing\n",
    "    * Statistical Inference\n",
    " \n",
    " \n",
    "3. End\n",
    "    * Recommendations\n",
    "    * Next Steps\n"
   ]
  },
  {
   "cell_type": "markdown",
   "metadata": {},
   "source": [
    "# This notebook was collaborated by all team mates"
   ]
  },
  {
   "cell_type": "markdown",
   "metadata": {},
   "source": [
    "# Business Overview of the US Movie Industry\n",
    "Little info about the movie industry, profits, some statistics basically. That will be helpful in forming our hypothesis"
   ]
  },
  {
   "cell_type": "markdown",
   "metadata": {},
   "source": [
    "# Business Problem/ What the client wants\n",
    "Computing Vision (a made-up company for the purposes of this project) sees all the big companies creating original video content and they want to get in on the fun. They have decided to create a new movie studio, but they don’t have much background in creating movies. You are charged with exploring what types of films are currently doing the best at the box office using different samples of available data. You then will translate those findings into actionable insights that the head of Computing Vision's new movie studio can use to help decide what type of films to create."
   ]
  },
  {
   "cell_type": "markdown",
   "metadata": {},
   "source": [
    "# Business Questions\n",
    "\n",
    "## Buisness Question 1:\n",
    "- Which combination of factors influence the success of a movie in terms of the best ROI?\n",
    "  ** correlation among the factors- profit, genre, runtime, ratings, etc\n",
    " \n",
    "## Buisness Question 2:\n",
    "- production budget\n",
    "_\n",
    "***\n",
    "\n",
    "## Buisness Question 3:\n",
    "- Movie studios that produces a lot of action movies have the best ROI\n",
    "\n",
    "\n",
    "###  happy to hear what others think in terms of what we should be looking out for in the data\n",
    "    "
   ]
  },
  {
   "cell_type": "markdown",
   "metadata": {},
   "source": [
    "# Data Exploration/ Analysis "
   ]
  },
  {
   "cell_type": "code",
   "execution_count": 2,
   "metadata": {},
   "outputs": [],
   "source": [
    "# Libraries import\n",
    "import datetime\n",
    "from datetime import datetime\n",
    "import pandas as pd\n",
    "import seaborn as sns\n",
    "import matplotlib.pyplot as plt\n",
    "%matplotlib inline\n",
    "import sqlite3 #import sqlite 3 module\n",
    "import os\n",
    "import warnings\n",
    "warnings.filterwarnings(\"ignore\")"
   ]
  },
  {
   "cell_type": "code",
   "execution_count": null,
   "metadata": {},
   "outputs": [],
   "source": [
    "# Finding the current directory to help with easy read\n",
    "#NB: Pandas read data from the current directory and may issue an error if the data is not located in the current dir\n",
    "\n",
    "cwd = os.getcwd()\n",
    "cwd"
   ]
  },
  {
   "cell_type": "code",
   "execution_count": null,
   "metadata": {},
   "outputs": [],
   "source": [
    "# Reading the CSv and tsv files into the instance\n",
    "DATA_DIR = \"../../Data/original_data/\"\n",
    "#DATA_DIR = \"C:/Users\\Raddodanquah/Documents/Flatiron/group-4-0206_3-4/Data/original_data/\"\n",
    "FILE_NAME1 = \"bom.movie_gross.csv\"\n",
    "FILE_NAME2 = \"tmdb.movies.csv\"\n",
    "FILE_NAME3 = \"tn.movie_budgets.csv\"\n",
    "FILE_NAME4 = \"rt_reviews.csv\"\n",
    "FILE_NAME5 = \"rt_movie_info.csv\"\n",
    "bom_movies = pd.read_csv(f\"{DATA_DIR}{FILE_NAME1}\")\n",
    "tmd_movies= pd.read_csv(f\"{DATA_DIR}{FILE_NAME2}\")\n",
    "tn_movies =pd.read_csv(f\"{DATA_DIR}{FILE_NAME3}\")\n",
    "rt_reviews =pd.read_csv(f\"{DATA_DIR}{FILE_NAME4}\", sep='\\t', engine='python' )\n",
    "rt_movie_info =pd.read_csv(f\"{DATA_DIR}{FILE_NAME5}\", sep='\\t', engine='python' )"
   ]
  },
  {
   "cell_type": "code",
   "execution_count": null,
   "metadata": {},
   "outputs": [],
   "source": [
    "# Connecting to the db file\n",
    "# NB: Just like the other reads, make sure the db connection is done in the right dir to avoid errors/empty tables\n",
    "\n",
    "dbfile =\"../../Data/im_combined.db\"\n",
    "# Create a SQL connection to our SQLite database\n",
    "con = sqlite3.connect(dbfile)\n",
    "\n",
    "# creating cursor\n",
    "cur = con.cursor()\n",
    "\n",
    "# reading all table names\n",
    "#table_list = [a for a in cur.execute(\"SELECT name FROM sqlite_master WHERE type = 'table'\")]\n",
    "# here is you table list\n",
    "#print(table_list)\n",
    "\n",
    "# Be sure to close the connection\n",
    "#con.close()"
   ]
  },
  {
   "cell_type": "markdown",
   "metadata": {},
   "source": [
    "# Understand the data - A focus on the columns and the data type respectively\n",
    "\n",
    "- bom_movies details\n",
    " * Data file has 3387 rows with 5 columns\n",
    "   * The columns are : title', 'studio', 'domestic_gross', 'foreign_gross', 'year'\n",
    " * There are missing data that we need to investigate and determine the best way to resolve this\n",
    " * Year column data type needs to be changed from int to datetime\n",
    " * foreign_gross data type needs to be changed to int and so is the domestic_gross\n",
    " * Convert the domestic_gross and foreign_gross into a more easy way to read, divide by 1,000,000\n",
    " *  <span style=\"color:red\"> May need to remove the studio column- early to decide  </style>\n",
    " * <span style=\"color:green\"> We will assume that the domestic and foreign gross revenue are in us dollars </style>\n",
    "\n",
    " \n",
    " \n",
    " - tmd_movies details\n",
    "  * Data file has 26517 rows with 10 columns\n",
    "    * The columns are : 'Unnamed: 0', 'genre_ids', 'id', 'original_language', 'original_title','popularity', 'release_date',    'title', 'vote_average', 'vote_count'\n",
    "  * There are no missing data - whewww!!(just kidding)\n",
    "  * Release date column data type needs to be changed to datetime\n",
    "  *  <span style=\"color:red\"> May need to remove some colums: unnamed, genre_ids?(maybe), original_title is redundant with title and original languae column- has 1 unique data type  </style>\n",
    "  * <span style=\"color:green\"> We will assume that with popularity, the bigger the number, the higher the popularity </style>\n",
    " \n",
    " \n",
    "  - tn_movie_budget details\n",
    "   * Data file has 5782 rows with 6 columns\n",
    "    * The columns are : id', 'release_date', 'movie', 'production_budget', 'domestic_gross',\n",
    "       'worldwide_gross'\n",
    "   * There are no missing data - whewww!!\n",
    "   * release_date column data type needs to be changed to datetime\n",
    "   * Production_budget, domestic_gross and worldwide_gross should all be float with easy to read data values\n",
    "  \n",
    " \n",
    " - rt_movie_info details\n",
    "  * Data file has 1560 rows with 12 columns\n",
    "    * The columns are : 'id', 'synopsis', 'rating', 'genre', 'director', 'writer',\n",
    "       'theater_date', 'dvd_date', 'currency', 'box_office', 'runtime',\n",
    "       'studio'\n",
    "   * Other than Id column, the rest of the data has missing values\n",
    "     * The columns that have more than 2/3rd of missing values can be dropped\n",
    "       * Studio\n",
    "       * box_office\n",
    "       * currency\n",
    "   * runtime column data type needs to be changed to datetime\n",
    "   * rating columns to integer\n",
    "   * Production_budget, domestic_gross and worldwide_gross should all be float with easy to read data values\n",
    "  \n"
   ]
  },
  {
   "cell_type": "markdown",
   "metadata": {},
   "source": [
    "# Data Cleansing and feature selection \n",
    "- Data cleansing is the process of ensuring that that the data is in its ready state to be used for analysis.\n",
    "  * Focus will be setting the columns to the right data type, dealing with null values and dropping for the starter, columns deemed not \"relevant\" to this analysis\n",
    "  \n",
    "- Feature Selection using domain/business knowledge as opposed to using rigourous statistical method of selecton such as LASSO, Ridge, etc\n",
    "  * Further drop columns that will not be anyway useful to the analysis"
   ]
  },
  {
   "cell_type": "markdown",
   "metadata": {},
   "source": [
    "# Data Cleansing for Bom Movie data\n",
    "\n",
    "## Initial data shape (row by col) --- (3387,5)\n",
    "- Removing null values and changing data type\n",
    "- Key action\n",
    "  * foreign_gross has about 40% missing value, so we drop the column\n",
    "  * The other columns have insignficant amount of missing value so we removed the rows\n",
    "  \n",
    "## Final data shape (row by col) --- (3356,4)"
   ]
  },
  {
   "cell_type": "code",
   "execution_count": null,
   "metadata": {},
   "outputs": [],
   "source": [
    "bom_movies.head()"
   ]
  },
  {
   "cell_type": "code",
   "execution_count": null,
   "metadata": {},
   "outputs": [],
   "source": [
    "bom_movies.isnull().sum() # checking for missing/null/na values in the data"
   ]
  },
  {
   "cell_type": "code",
   "execution_count": null,
   "metadata": {
    "scrolled": true
   },
   "outputs": [],
   "source": [
    "bom_movies.drop([\"foreign_gross\"], axis = 1, inplace = True) # dropped foreign_gross from the data\n",
    "bom_movies.head(4)"
   ]
  },
  {
   "cell_type": "code",
   "execution_count": null,
   "metadata": {},
   "outputs": [],
   "source": [
    "new_bom_movies= bom_movies.dropna(axis = 0, how ='any') # dropped all othe na/null/missing value from the remaining data\n",
    "new_bom_movies.isnull().sum()"
   ]
  },
  {
   "cell_type": "code",
   "execution_count": null,
   "metadata": {
    "scrolled": true
   },
   "outputs": [],
   "source": [
    "# Visualizing data for missing value\n",
    "# As you can see, there are no missing values\n",
    "plt.figure(figsize=(10,6))\n",
    "sns.displot(\n",
    "    data=new_bom_movies.isnull().melt(value_name=\"missing\"),\n",
    "    y=\"variable\",\n",
    "    hue=\"missing\",\n",
    "    multiple=\"fill\",\n",
    "    aspect=1.25\n",
    ")\n",
    "new_bom_movies.image = plt.savefig(\"visualizing_missing_data_with_barplot_Seaborn_distplot.png\", dpi=100)"
   ]
  },
  {
   "cell_type": "code",
   "execution_count": null,
   "metadata": {},
   "outputs": [],
   "source": [
    "new_bom_movies['domestic_gross']= new_bom_movies['domestic_gross'].astype(int) # Changing data type to Int\n",
    "#new_bom_movies['year']= pd.to_datetime(bom_movies.year, format='%Y%') # Changing data type to date"
   ]
  },
  {
   "cell_type": "code",
   "execution_count": null,
   "metadata": {},
   "outputs": [],
   "source": [
    "new_bom_movies.info() # making sure the data is in the form that we want it to be, cols, data types, etc"
   ]
  },
  {
   "cell_type": "markdown",
   "metadata": {
    "scrolled": false
   },
   "source": [
    "# Data Cleansing for tmd movie data\n",
    "\n",
    "## Initial data shape (row by col) --- (26517,10)\n",
    "- This dataset has no missing value as shown in the graph\n",
    "- Need to drop some columns that are not relevant to our business case\n",
    "   * Unnamed\n",
    "   * genre_ids\n",
    "   * original_title is redundant with title\n",
    "- Change column data type\n",
    "   * release_date to date data type\n",
    "   \n",
    "## Final data shape (row by col) --- (26517,7)"
   ]
  },
  {
   "cell_type": "code",
   "execution_count": null,
   "metadata": {},
   "outputs": [],
   "source": [
    "# Visualizing data for missing value\n",
    "# As you can see, there are no missing values, which means less work in that regard :)\n",
    "plt.figure(figsize=(10,6))\n",
    "sns.displot(\n",
    "    data=tmd_movies.isnull().melt(value_name=\"missing\"),\n",
    "    y=\"variable\",\n",
    "    hue=\"missing\",\n",
    "    multiple=\"fill\",\n",
    "    aspect=1.25\n",
    ")\n",
    "tmd_movies_image= plt.savefig(\"visualizing_missing_data_with_barplot_Seaborn_distplot.png\", dpi=100)"
   ]
  },
  {
   "cell_type": "code",
   "execution_count": null,
   "metadata": {},
   "outputs": [],
   "source": [
    "tmd_movies.reindex()\n",
    "new_tmd_movies= tmd_movies.drop(tmd_movies.columns[[0, 1,4]], axis=1)\n",
    "new_tmd_movies"
   ]
  },
  {
   "cell_type": "code",
   "execution_count": null,
   "metadata": {},
   "outputs": [],
   "source": [
    "new_tmd_movies.info() # checking to see the data type and what needs to be changed"
   ]
  },
  {
   "cell_type": "code",
   "execution_count": null,
   "metadata": {},
   "outputs": [],
   "source": [
    "# Changing data type to date\n",
    "new_tmd_movies[' release_date']= pd.to_datetime(new_tmd_movies. release_date, format= '%Y-%m-%d') "
   ]
  },
  {
   "cell_type": "code",
   "execution_count": null,
   "metadata": {},
   "outputs": [],
   "source": [
    "new_tmd_movies.info() # release date has the date datat type now"
   ]
  },
  {
   "cell_type": "markdown",
   "metadata": {},
   "source": [
    "# Data Cleansing for tn movie data\n",
    "\n",
    "## Initial data shape (row by col) --- (5782,6)\n",
    "- This dataset has no missing value as shown in the graph\n",
    "- Drop the wordwide gross as the focus of this business case will be on domestic gross revenue\n",
    "- Change column data type\n",
    "   * release_date should be consistent withthe format and type like the other tables\n",
    "   * domestic_gross and production budget format should be the same in other tables, no dollar sign, no commas\n",
    "   \n",
    "## Final data shape (row by col) --- (5782,5)"
   ]
  },
  {
   "cell_type": "code",
   "execution_count": null,
   "metadata": {},
   "outputs": [],
   "source": [
    "# Visualizing data for missing value\n",
    "# As you can see, there are no missing values\n",
    "plt.figure(figsize=(10,6))\n",
    "sns.displot(\n",
    "    data=tn_movies.isnull().melt(value_name=\"missing\"),\n",
    "    y=\"variable\",\n",
    "    hue=\"missing\",\n",
    "    multiple=\"fill\",\n",
    "    aspect=1.25\n",
    ")\n",
    "plt.savefig(\"visualizing_missing_data_with_barplot_Seaborn_distplot.png\", dpi=100)"
   ]
  },
  {
   "cell_type": "code",
   "execution_count": null,
   "metadata": {},
   "outputs": [],
   "source": [
    "tn_movies.head() # preview the data set"
   ]
  },
  {
   "cell_type": "code",
   "execution_count": null,
   "metadata": {},
   "outputs": [],
   "source": [
    "new_tn_movies= tn_movies.drop(tn_movies.columns[5], axis=1)\n",
    "new_tn_movies"
   ]
  },
  {
   "cell_type": "code",
   "execution_count": null,
   "metadata": {},
   "outputs": [],
   "source": [
    "# converting production_budget and domestic_gross columns into int and a consistent format just like others with no comma or $\n",
    "new_tn_movies['production_budget']= new_tn_movies['production_budget'].str.replace(',', '').str.replace('$', '').astype(int)\n",
    "new_tn_movies['domestic_gross']= new_tn_movies['domestic_gross'].str.replace(',', '').str.replace('$', '').astype(int)"
   ]
  },
  {
   "cell_type": "code",
   "execution_count": null,
   "metadata": {},
   "outputs": [],
   "source": [
    "new_tn_movies.head()"
   ]
  },
  {
   "cell_type": "code",
   "execution_count": null,
   "metadata": {},
   "outputs": [],
   "source": [
    "new_tn_movies.info()"
   ]
  },
  {
   "cell_type": "markdown",
   "metadata": {},
   "source": [
    "# Getting error converting,will revert"
   ]
  },
  {
   "cell_type": "code",
   "execution_count": null,
   "metadata": {},
   "outputs": [],
   "source": [
    "\n",
    "# changing to a consistent date type \n",
    "new_tn_movies['release_date']= pd.to_datetime(new_tn_movies['release_date'], ,errors = 'coerce',format = '%Y-%m-%d').dt.strftime(\"%Y%m\")"
   ]
  },
  {
   "cell_type": "markdown",
   "metadata": {},
   "source": [
    "# Data Cleansing for rt movie info data\n",
    "\n",
    "## Initial data shape (row by col) --- (1560,12)\n",
    "- This dataset hassome missing values, some as high as about 2/3rd missing values\n",
    "- Columns dropped\n",
    "   * studio, currency, and box_office will be dropped due to a significant amount of missing data\n",
    "   * synopsis which is just a brief summary of the movie will not be in scope for our work\n",
    "   \n",
    "- Create a new column (runtime_mins) and make the data type int\n",
    "\n",
    "## Final data shape (row by col) --- (1032,8)"
   ]
  },
  {
   "cell_type": "code",
   "execution_count": null,
   "metadata": {},
   "outputs": [],
   "source": [
    "rt_movie_info.head() # display the first few roles for review"
   ]
  },
  {
   "cell_type": "code",
   "execution_count": null,
   "metadata": {},
   "outputs": [],
   "source": [
    "rt_movie_info.info()"
   ]
  },
  {
   "cell_type": "code",
   "execution_count": null,
   "metadata": {},
   "outputs": [],
   "source": [
    "# Visualizing data for missing value\n",
    "# As you can see, there are no missing values [ cols with true or a mixture of orange and blue color]\n",
    "plt.figure(figsize=(10,6))\n",
    "sns.displot(\n",
    "    data=rt_movie_info.isnull().melt(value_name=\"missing\"),\n",
    "    y=\"variable\",\n",
    "    hue=\"missing\",\n",
    "    multiple=\"fill\",\n",
    "    aspect=1.25\n",
    ")\n",
    "plt.savefig(\"visualizing_missing_data_with_barplot_Seaborn_distplot.png\", dpi=100)"
   ]
  },
  {
   "cell_type": "code",
   "execution_count": null,
   "metadata": {},
   "outputs": [],
   "source": [
    "# drop the already mentioned columns [studio,box_office,currency](they have significant high volume of missing data), \n",
    "# drop [synopsis,theater_date,dvd_date]-- nto in scope for our business case\n",
    "# create a new df for the in scope features\n",
    "new_rt_movie_info= rt_movie_info[['id','rating', 'genre', 'director', 'writer','runtime']] # cols interested"
   ]
  },
  {
   "cell_type": "code",
   "execution_count": null,
   "metadata": {},
   "outputs": [],
   "source": [
    "new_rt_movie_info"
   ]
  },
  {
   "cell_type": "code",
   "execution_count": null,
   "metadata": {},
   "outputs": [],
   "source": [
    "# Visualizing data for missing value for the new df\n",
    "# As you can see, there are no missing values [ cols with true or a mixture of orange and blue color]\n",
    "plt.figure(figsize=(10,6))\n",
    "sns.displot(\n",
    "    data=new_rt_movie_info.isnull().melt(value_name=\"missing\"),\n",
    "    y=\"variable\",\n",
    "    hue=\"missing\",\n",
    "    multiple=\"fill\",\n",
    "    aspect=1.25\n",
    ")\n",
    "plt.savefig(\"visualizing_missing_data_with_barplot_Seaborn_distplot.png\", dpi=100)\n",
    "\n",
    "# for now we will keep the data as it is without removing any missing data. We can always come back and \n",
    "## take them out if needed\n"
   ]
  },
  {
   "cell_type": "code",
   "execution_count": null,
   "metadata": {},
   "outputs": [],
   "source": [
    "new_rt_movie_info.info() # checking to see the data type for the runtime col"
   ]
  },
  {
   "cell_type": "code",
   "execution_count": null,
   "metadata": {},
   "outputs": [],
   "source": [
    "#split team column into two columns\n",
    "new_rt_movie_info[['runtime/mins', 'minutes']] = new_rt_movie_info['runtime'].str.split(' ', 1, expand=True)\n",
    "\n"
   ]
  },
  {
   "cell_type": "code",
   "execution_count": null,
   "metadata": {},
   "outputs": [],
   "source": [
    "new_rt_movie_info.head()"
   ]
  },
  {
   "cell_type": "code",
   "execution_count": null,
   "metadata": {},
   "outputs": [],
   "source": [
    "new_rt_movie_info.info()"
   ]
  },
  {
   "cell_type": "code",
   "execution_count": null,
   "metadata": {},
   "outputs": [],
   "source": [
    "new_rt_movie_info= new_rt_movie_info.dropna(axis = 0, how ='any') # dropped all othe na/null/missing value from the remaining data\n",
    "new_rt_movie_info.isnull().sum()"
   ]
  },
  {
   "cell_type": "code",
   "execution_count": null,
   "metadata": {},
   "outputs": [],
   "source": [
    "# Visualizing data for missing value for the new df\n",
    "# As you can see, there are no missing values now\n",
    "plt.figure(figsize=(10,6))\n",
    "sns.displot(\n",
    "    data=new_rt_movie_info.isnull().melt(value_name=\"missing\"),\n",
    "    y=\"variable\",\n",
    "    hue=\"missing\",\n",
    "    multiple=\"fill\",\n",
    "    aspect=1.25\n",
    ")\n",
    "plt.savefig(\"visualizing_missing_data_with_barplot_Seaborn_distplot.png\", dpi=100)\n",
    "\n",
    "# for now we will keep the data as it is without removing any missing data. We can always come back and \n",
    "## take them out if needed\n"
   ]
  },
  {
   "cell_type": "code",
   "execution_count": null,
   "metadata": {},
   "outputs": [],
   "source": [
    "new_rt_movie_info['runtime/mins']= new_rt_movie_info['runtime/mins'].astype(int) # Changing data type to Int"
   ]
  },
  {
   "cell_type": "code",
   "execution_count": null,
   "metadata": {},
   "outputs": [],
   "source": [
    "new_rt_movie_info.info()"
   ]
  },
  {
   "cell_type": "markdown",
   "metadata": {},
   "source": [
    "# Take out the other 2 unwanted cols, runtime & minutes"
   ]
  },
  {
   "cell_type": "code",
   "execution_count": null,
   "metadata": {},
   "outputs": [],
   "source": [
    "new_rt_movie_info= rt_movie_info[['id','rating', 'genre', 'director', 'writer','runtime/mins']] # cols interested"
   ]
  },
  {
   "cell_type": "markdown",
   "metadata": {},
   "source": [
    "# So far with the flat files we have in good shape are:\n",
    "## new_bom_movies\n",
    "## new_rt_movie_info\n",
    "## new_tmd_movies\n",
    "## new_tn_movies\n",
    "\n"
   ]
  },
  {
   "cell_type": "code",
   "execution_count": null,
   "metadata": {},
   "outputs": [],
   "source": [
    "new_rt_movie_info"
   ]
  },
  {
   "cell_type": "markdown",
   "metadata": {},
   "source": [
    "### Pull two tables from the database "
   ]
  },
  {
   "cell_type": "code",
   "execution_count": null,
   "metadata": {},
   "outputs": [],
   "source": [
    "# Connecting to the db file\n",
    "# NB: Just like the other reads, make sure the db connection is done in the right dir to avoid errors/empty tables\n",
    "\n",
    "dbfile =\"C:/Users\\Raddodanquah/Documents/Flatiron/Final_project_Group4/Data/im.db\"\n",
    "# Create a SQL connection to our SQLite database\n",
    "con = sqlite3.connect(dbfile)\n",
    "\n",
    "# creating cursor\n",
    "cur = con.cursor()\n",
    "\n",
    "# reading all table names\n",
    "table_list = [a for a in cur.execute(\"SELECT name FROM sqlite_master WHERE type = 'table'\")]\n",
    "# here is you table list\n",
    "print(table_list)\n",
    "\n",
    "# Be sure to close the connection\n",
    "#con.close()"
   ]
  },
  {
   "cell_type": "code",
   "execution_count": null,
   "metadata": {},
   "outputs": [],
   "source": [
    "# Data is from 2010 and above because we dont financials for years less than 2010\n",
    "\n",
    "q = \"\"\"\n",
    "SELECT a.movie_id,a.primary_title,a.start_year,a.runtime_minutes,a.genres, b.averagerating,b.numvotes\n",
    "FROM movie_basics a\n",
    "JOIN movie_ratings b\n",
    "USING (movie_id)\n",
    "where start_year >=2010\n",
    ";\"\"\"\n",
    "db_database = pd.read_sql(q, con)\n",
    "\n",
    "con.close()"
   ]
  },
  {
   "cell_type": "code",
   "execution_count": null,
   "metadata": {},
   "outputs": [],
   "source": [
    "db_database"
   ]
  },
  {
   "cell_type": "code",
   "execution_count": null,
   "metadata": {},
   "outputs": [],
   "source": []
  },
  {
   "cell_type": "markdown",
   "metadata": {},
   "source": [
    "# Blockbuster\n",
    "\n",
    "\n",
    "### add gif if needed\n",
    "\n",
    "# Table of Content\n",
>>>>>>> origin
    "\n",
    "1. Introduction\n",
    "    * Business Overview of the Movie Industry\n",
    "    * Business Understanding\n",
    "    * Business Question/Hypothesis\n",
    " \n",
    " \n",
    "2. Data Exploration/Analysis\n",
    "    * Data Understanding\n",
    "    * Data Analysis\n",
    "  \n",
    "  \n",
    "3. Hypothesis Testing\n",
    "    * Statistical Inference\n",
    " \n",
    " \n",
    "3. End\n",
    "    * Recommendations\n",
    "    * Next Steps\n"
   ]
  },
  {
   "cell_type": "markdown",
   "metadata": {},
   "source": [
    "# This notebook was collaborated by all team mates"
   ]
  },
  {
   "cell_type": "markdown",
   "metadata": {},
   "source": [
    "# Business Overview of the US Movie Industry\n",
    "Little info about the movie industry, profits, some statistics basically. That will be helpful in forming our hypothesis"
   ]
  },
  {
   "cell_type": "markdown",
   "metadata": {},
   "source": [
    "# Business Problem/ What the client wants\n",
    "Computing Vision (a made-up company for the purposes of this project) sees all the big companies creating original video content and they want to get in on the fun. They have decided to create a new movie studio, but they don’t have much background in creating movies. You are charged with exploring what types of films are currently doing the best at the box office using different samples of available data. You then will translate those findings into actionable insights that the head of Computing Vision's new movie studio can use to help decide what type of films to create."
   ]
  },
  {
   "cell_type": "markdown",
   "metadata": {},
   "source": [
    "# Business Questions\n",
    "\n",
    "## Buisness Question 1:\n",
    "- Which combination of factors influence the success of a movie in terms of the best ROI?\n",
    "  ** correlation among the factors- profit, genre, runtime, ratings, etc\n",
    " \n",
    "## Buisness Question 2:\n",
    "- production budget\n",
    "_\n",
    "***\n",
    "\n",
    "## Buisness Question 3:\n",
    "- Movie studios that produces a lot of action movies have the best ROI\n",
    "\n",
    "\n",
    "###  happy to hear what others think in terms of what we should be looking out for in the data\n",
    "    "
   ]
  },
  {
   "cell_type": "markdown",
   "metadata": {},
   "source": [
    "# Data Exploration/ Analysis "
   ]
  },
  {
   "cell_type": "code",
<<<<<<< HEAD
   "execution_count": 148,
=======
   "execution_count": null,
>>>>>>> origin
   "metadata": {},
   "outputs": [],
   "source": [
    "# Libraries import\n",
    "import datetime\n",
    "from datetime import datetime\n",
    "import pandas as pd\n",
    "import seaborn as sns\n",
    "import matplotlib.pyplot as plt\n",
    "%matplotlib inline\n",
    "import numpy as np\n",
    "from scipy.stats import pearsonr\n",
    "import sqlite3 #import sqlite 3 module\n",
    "import os\n",
    "import warnings\n",
    "warnings.filterwarnings(\"ignore\")"
   ]
  },
  {
   "cell_type": "code",
   "execution_count": null,
   "metadata": {},
   "outputs": [],
   "source": [
    "# Finding the current directory to help with easy read\n",
    "#NB: Pandas read data from the current directory and may issue an error if the data is not located in the current dir\n",
    "\n",
    "cwd = os.getcwd()\n",
    "cwd"
   ]
  },
  {
   "cell_type": "code",
   "execution_count": null,
<<<<<<< HEAD
   "metadata": {},
   "outputs": [],
   "source": [
    "# Reading the CSv and tsv files into the instance\n",
    "DATA_DIR = \"../../Data/original_data/\"\n",
    "#DATA_DIR = \"C:/Users\\Raddodanquah/Documents/Flatiron/group-4-0206_3-4/Data/original_data/\"\n",
    "FILE_NAME1 = \"bom.movie_gross.csv\"\n",
    "FILE_NAME2 = \"tmdb.movies.csv\"\n",
    "FILE_NAME3 = \"tn.movie_budgets.csv\"\n",
    "#FILE_NAME4 = \"rt_reviews.csv\"\n",
    "#FILE_NAME5 = \"rt_movie_info.csv\"\n",
    "bom_movies = pd.read_csv(f\"{DATA_DIR}{FILE_NAME1}\")\n",
    "tmd_movies= pd.read_csv(f\"{DATA_DIR}{FILE_NAME2}\")\n",
    "tn_movies =pd.read_csv(f\"{DATA_DIR}{FILE_NAME3}\")\n",
    "#rt_reviews =pd.read_csv(f\"{DATA_DIR}{FILE_NAME4}\", sep='\\t', engine='python' )\n",
    "#rt_movie_info =pd.read_csv(f\"{DATA_DIR}{FILE_NAME5}\", sep='\\t', engine='python' )"
   ]
  },
  {
   "cell_type": "code",
   "execution_count": null,
   "metadata": {},
   "outputs": [],
   "source": [
    "# Connecting to the db file\n",
    "# NB: Just like the other reads, make sure the db connection is done in the right dir to avoid errors/empty tables\n",
    "\n",
    "#dbfile =\"../../Data/im_combined.db\"\n",
    "# Create a SQL connection to our SQLite database\n",
    "#con = sqlite3.connect(dbfile)\n",
    "\n",
    "# creating cursor\n",
    "#cur = con.cursor()\n",
    "\n",
    "# reading all table names\n",
    "#table_list = [a for a in cur.execute(\"SELECT name FROM sqlite_master WHERE type = 'table'\")]\n",
    "# here is you table list\n",
    "#print(table_list)\n",
    "\n",
    "# Be sure to close the connection\n",
    "#con.close()"
   ]
  },
  {
   "cell_type": "markdown",
   "metadata": {},
   "source": [
    "# Understand the data - A focus on the columns and the data type respectively\n",
    "\n",
    "- bom_movies details\n",
    " * Data file has 3387 rows with 5 columns\n",
    "   * The columns are : title', 'studio', 'domestic_gross', 'foreign_gross', 'year'\n",
    " * There are missing data that we need to investigate and determine the best way to resolve this\n",
    " * Year column data type needs to be changed from int to datetime\n",
    " * foreign_gross data type needs to be changed to int and so is the domestic_gross\n",
    " * Convert the domestic_gross and foreign_gross into a more easy way to read, divide by 1,000,000\n",
    " * <span style=\"color:green\"> We will assume that the domestic and foreign gross revenue are in us dollars </style>\n",
    "\n",
    " \n",
    " \n",
    " - tmd_movies details\n",
    "  * Data file has 26517 rows with 10 columns\n",
    "    * The columns are : 'Unnamed: 0', 'genre_ids', 'id', 'original_language', 'original_title','popularity', 'release_date',    'title', 'vote_average', 'vote_count'\n",
    "  * There are no missing data - whewww!!(just kidding)\n",
    "  * Release date column data type needs to be changed to datetime\n",
    "  *  <span style=\"color:red\"> May need to remove some colums: unnamed, genre_ids?(maybe), original_title is redundant with title and original languae column- has 1 unique data type  </style>\n",
    "  * <span style=\"color:green\"> We will assume that with popularity, the bigger the number, the higher the popularity </style>\n",
    " \n",
    " \n",
    "  - tn_movie_budget details\n",
    "   * Data file has 5782 rows with 6 columns\n",
    "    * The columns are : id', 'release_date', 'movie', 'production_budget', 'domestic_gross',\n",
    "       'worldwide_gross'\n",
    "   * There are no missing data - whewww!!\n",
    "   * release_date column data type needs to be changed to datetime\n",
    "   * Production_budget, domestic_gross and worldwide_gross should all be float with easy to read data values\n",
    "  \n",
    " \n",
    " - rt_movie_info details\n",
    "  * Data file has 1560 rows with 12 columns\n",
    "    * The columns are : 'id', 'synopsis', 'rating', 'genre', 'director', 'writer',\n",
    "       'theater_date', 'dvd_date', 'currency', 'box_office', 'runtime',\n",
    "       'studio'\n",
    "   * Other than Id column, the rest of the data has missing values\n",
    "     * The columns that have more than 2/3rd of missing values can be dropped\n",
    "       * Studio\n",
    "       * box_office\n",
    "       * currency\n",
    "   * runtime column data type needs to be changed to datetime\n",
    "   * rating columns to integer\n",
    "   * Production_budget, domestic_gross and worldwide_gross should all be float with easy to read data values\n",
    "  \n"
   ]
  },
  {
   "cell_type": "markdown",
   "metadata": {},
   "source": [
    "# Data Cleansing and feature selection \n",
    "- Data cleansing is the process of ensuring that that the data is in its ready state to be used for analysis.\n",
    "  * Focus will be setting the columns to the right data type, dealing with null values and dropping for the starter, columns deemed not \"relevant\" to this analysis\n",
    "  \n",
    "- Feature Selection using domain/business knowledge as opposed to using rigourous statistical method of selecton such as LASSO, Ridge, etc\n",
    "  * Further drop columns that will not be anyway useful to the analysis"
   ]
  },
  {
   "cell_type": "markdown",
   "metadata": {},
   "source": [
    "# Data Cleansing for Bom Movie data\n",
    "\n",
    "## Initial data shape (row by col) --- (3387,5)\n",
    "- Removing null values and changing data type\n",
    "- Key action\n",
    "  * foreign_gross has about 40% missing value, so we drop the column\n",
    "  * The other columns have insignficant amount of missing value so we removed the rows\n",
    "  \n",
    "## Final data shape (row by col) --- (3356,4)"
   ]
  },
  {
   "cell_type": "code",
   "execution_count": null,
   "metadata": {},
   "outputs": [],
   "source": [
    "bom_movies.head()"
   ]
  },
  {
   "cell_type": "code",
   "execution_count": null,
   "metadata": {},
   "outputs": [],
   "source": [
    "bom_movies.isnull().sum() # checking for missing/null/na values in the data"
   ]
  },
  {
   "cell_type": "code",
   "execution_count": null,
   "metadata": {
    "scrolled": true
   },
   "outputs": [],
   "source": [
    "bom_movies.drop([\"foreign_gross\"], axis = 1, inplace = True) # dropped foreign_gross from the data\n",
    "bom_movies.head(4)"
   ]
  },
  {
   "cell_type": "code",
   "execution_count": null,
   "metadata": {},
   "outputs": [],
   "source": [
    "new_bom_movies= bom_movies.dropna(axis = 0, how ='any') # dropped all othe na/null/missing value from the remaining data\n",
    "new_bom_movies.isnull().sum()"
   ]
  },
  {
   "cell_type": "code",
   "execution_count": null,
   "metadata": {
    "scrolled": true
   },
   "outputs": [],
   "source": [
    "# Visualizing data for missing value\n",
    "# As you can see, there are no missing values\n",
    "plt.figure(figsize=(10,6))\n",
    "sns.displot(\n",
    "    data=new_bom_movies.isnull().melt(value_name=\"missing\"),\n",
    "    y=\"variable\",\n",
    "    hue=\"missing\",\n",
    "    multiple=\"fill\",\n",
    "    aspect=1.25\n",
    ")\n",
    "new_bom_movies.image = plt.savefig(\"visualizing_missing_data_with_barplot_Seaborn_distplot.png\", dpi=100)"
   ]
  },
  {
   "cell_type": "code",
   "execution_count": null,
   "metadata": {},
   "outputs": [],
   "source": [
    "new_bom_movies['domestic_gross']= new_bom_movies['domestic_gross'].astype(int) # Changing data type to Int\n",
    "#new_bom_movies['year']= pd.to_datetime(bom_movies.year, format='%Y%') # Changing data type to date"
   ]
  },
  {
   "cell_type": "code",
   "execution_count": null,
   "metadata": {},
   "outputs": [],
   "source": [
    "new_bom_movies.info() # making sure the data is in the form that we want it to be, cols, data types, etc"
   ]
  },
  {
   "cell_type": "markdown",
   "metadata": {
    "scrolled": false
   },
   "source": [
    "# Data Cleansing for tmd movie data\n",
    "\n",
    "## Initial data shape (row by col) --- (26517,10)\n",
    "- This dataset has no missing value as shown in the graph\n",
    "- Need to drop some columns that are not relevant to our business case\n",
    "   * Unnamed\n",
    "   * genre_ids\n",
    "   * original_title is redundant with title\n",
    "- Change column data type\n",
    "   * release_date to date data type\n",
    "   \n",
    "## Final data shape (row by col) --- (26517,7)"
   ]
  },
  {
   "cell_type": "code",
   "execution_count": null,
   "metadata": {},
   "outputs": [],
   "source": [
    "# Visualizing data for missing value\n",
    "# As you can see, there are no missing values, which means less work in that regard :)\n",
    "plt.figure(figsize=(10,6))\n",
    "sns.displot(\n",
    "    data=tmd_movies.isnull().melt(value_name=\"missing\"),\n",
    "    y=\"variable\",\n",
    "    hue=\"missing\",\n",
    "    multiple=\"fill\",\n",
    "    aspect=1.25\n",
    ")\n",
    "tmd_movies_image= plt.savefig(\"visualizing_missing_data_with_barplot_Seaborn_distplot.png\", dpi=100)"
   ]
  },
  {
   "cell_type": "code",
   "execution_count": null,
   "metadata": {},
   "outputs": [],
   "source": [
    "\n",
    "new_tmd_movies= tmd_movies.drop(tmd_movies.columns[[0, 1,4]], axis=1)\n",
    "new_tmd_movies"
   ]
  },
  {
   "cell_type": "code",
   "execution_count": null,
   "metadata": {},
   "outputs": [],
   "source": [
    "new_tmd_movies.info() # checking to see the data type and what needs to be changed"
   ]
  },
  {
   "cell_type": "code",
   "execution_count": null,
   "metadata": {},
   "outputs": [],
   "source": [
    "# Changing data type to date\n",
    "new_tmd_movies[' release_date']= pd.to_datetime(new_tmd_movies. release_date, format= '%Y-%m-%d') "
   ]
  },
  {
   "cell_type": "code",
   "execution_count": null,
   "metadata": {},
   "outputs": [],
   "source": [
    "new_tmd_movies.info() # release date has the date datat type now"
   ]
  },
  {
   "cell_type": "markdown",
   "metadata": {},
   "source": [
    "###### Data Cleansing for tn movie data\n",
    "\n",
    "## Initial data shape (row by col) --- (5782,6)\n",
    "- This dataset has no missing value as shown in the graph\n",
    "- Drop the wordwide gross as the focus of this business case will be on domestic gross revenue\n",
    "- Change column data type\n",
    "   * release_date should be consistent withthe format and type like the other tables\n",
    "   * domestic_gross and production budget and worldwide_budget format should be the same in other tables, no dollar sign, no commas\n",
    "   \n",
    "## Final data shape (row by col) --- (5782,6)"
   ]
  },
  {
   "cell_type": "code",
   "execution_count": null,
   "metadata": {},
   "outputs": [],
   "source": [
    "# Visualizing data for missing value\n",
    "# As you can see, there are no missing values\n",
    "plt.figure(figsize=(10,6))\n",
    "sns.displot(\n",
    "    data=tn_movies.isnull().melt(value_name=\"missing\"),\n",
    "    y=\"variable\",\n",
    "    hue=\"missing\",\n",
    "    multiple=\"fill\",\n",
    "    aspect=1.25\n",
    ")\n",
    "plt.savefig(\"visualizing_missing_data_with_barplot_Seaborn_distplot.png\", dpi=100)"
   ]
  },
  {
   "cell_type": "code",
   "execution_count": null,
   "metadata": {},
   "outputs": [],
   "source": [
    "# converting production_budget and domestic_gross columns into int and a consistent format just like others with no comma or $\n",
    "tn_movies['production_budget']= tn_movies['production_budget'].str.replace(',', '').str.replace('$', '').astype(int)\n",
    "tn_movies['domestic_gross']= tn_movies['domestic_gross'].str.replace(',', '').str.replace('$', '').astype(int)\n",
    "#tn_movies['worldwide_gross']= tn_movies['worldwide_gross'].str.replace(',', '').str.replace('$', '').astype(int)"
   ]
  },
  {
   "cell_type": "code",
   "execution_count": null,
   "metadata": {},
   "outputs": [],
   "source": [
    "tn_movies['worldwide_gross']= tn_movies['worldwide_gross'].str.replace(',', '').str.replace('$', '').astype(float)"
   ]
  },
  {
   "cell_type": "code",
   "execution_count": null,
   "metadata": {},
   "outputs": [],
   "source": [
    "tn_movies.info()"
   ]
  },
  {
   "cell_type": "markdown",
   "metadata": {},
   "source": [
    "# EDA to answer Business Question 1"
   ]
  },
  {
   "cell_type": "code",
   "execution_count": null,
   "metadata": {},
   "outputs": [],
   "source": [
    "tn_movies['Profit'] = tn_movies['worldwide_gross'] - tn_movies['production_budget']\n",
    "\n",
    "tn_movies['Profit_Margin'] = (tn_movies['worldwide_gross'] - \n",
    "                                    tn_movies['production_budget'])/tn_movies['worldwide_gross']"
   ]
  },
  {
   "cell_type": "code",
   "execution_count": null,
   "metadata": {},
   "outputs": [],
   "source": [
    "profitable_movies = tn_movies.loc[tn_movies['Profit'] > 0]\n",
    "profitable_ranked = profitable_movies_df.sort_values(by=['Profit'], ascending=False)\n",
    "profitable_ranked.reset_index(inplace=True)\n",
    "profitable_ranked.head()"
   ]
  },
  {
   "cell_type": "code",
   "execution_count": null,
   "metadata": {
    "scrolled": true
   },
   "outputs": [],
   "source": [
    "ax1 = sns.lmplot(x='production_budget', y='Profit', data=profitable_ranked, height=7, aspect=2)\n",
    "plt.xlabel('Budget (Millions of Dollars)', fontsize=12)\n",
    "plt.ticklabel_format(axis='x', style='sci', scilimits=(6,6))\n",
    "plt.ylabel('Profit (Billions of Dollars)', fontsize=12)\n",
    "plt.title('Budget vs Profit for Profitable Movies', fontsize=14)\n",
    "plt.savefig('BudgetVsProfit');"
   ]
  },
  {
   "cell_type": "markdown",
   "metadata": {},
   "source": [
    "From the graph, the positive trend line means that there is a positive correlation between profit and budget, meaning that an increase in the budget will result in an increase in profit"
   ]
  },
  {
   "cell_type": "code",
   "execution_count": null,
   "metadata": {},
   "outputs": [],
   "source": [
    "plt.figure(figsize=(15,12))\n",
    "sns.barplot(x=profitable_ranked.loc[0:25, 'movie'],y=profitable_ranked.loc[0:25, 'Profit'], \n",
    "            color='mediumspringgreen', label='Profit', ci=None)\n",
    "sns.barplot(x=profitable_ranked_df.loc[0:25, 'movie'],y=profitable_ranked_df.loc[0:25, 'Budget'], \n",
    "            color='black', label='Budget', ci=None)\n",
    "plt.xlabel('Movie', fontsize=12)\n",
    "plt.title(\"Profits and Budgets for the 25 Most Profitable Movies\", fontsize=14)\n",
    "plt.ylabel('Profit (Billions of Dollars)', fontsize=12)\n",
    "plt.xticks(rotation=35, horizontalalignment='right', fontsize=12)\n",
    "plt.legend(fontsize=12)\n",
    "plt.savefig('Top25movies_budget_proft');"
   ]
  },
  {
   "cell_type": "markdown",
   "metadata": {},
   "source": [
    "# Data Cleansing for rt movie info data\n",
    "\n",
    "## Initial data shape (row by col) --- (1560,12)\n",
    "- This dataset hassome missing values, some as high as about 2/3rd missing values\n",
    "- Columns dropped\n",
    "   * studio, currency, and box_office will be dropped due to a significant amount of missing data\n",
    "   * synopsis which is just a brief summary of the movie will not be in scope for our work\n",
    "   \n",
    "- Create a new column (runtime_mins) and make the data type int\n",
    "\n",
    "## Final data shape (row by col) --- (1032,8)"
   ]
  },
  {
   "cell_type": "code",
   "execution_count": null,
   "metadata": {},
   "outputs": [],
   "source": [
    "rt_movie_info.head() # display the first few roles for review"
   ]
  },
  {
   "cell_type": "code",
   "execution_count": null,
   "metadata": {},
   "outputs": [],
   "source": [
    "rt_movie_info.info()"
   ]
  },
  {
   "cell_type": "code",
   "execution_count": null,
   "metadata": {},
   "outputs": [],
   "source": [
    "# Visualizing data for missing value\n",
    "# As you can see, there are no missing values [ cols with true or a mixture of orange and blue color]\n",
    "plt.figure(figsize=(10,6))\n",
    "sns.displot(\n",
    "    data=rt_movie_info.isnull().melt(value_name=\"missing\"),\n",
    "    y=\"variable\",\n",
    "    hue=\"missing\",\n",
    "    multiple=\"fill\",\n",
    "    aspect=1.25\n",
    ")\n",
    "plt.savefig(\"visualizing_missing_data_with_barplot_Seaborn_distplot.png\", dpi=100)"
   ]
  },
  {
   "cell_type": "code",
   "execution_count": null,
   "metadata": {},
   "outputs": [],
   "source": [
    "# drop the already mentioned columns [studio,box_office,currency](they have significant high volume of missing data), \n",
    "# drop [synopsis,theater_date,dvd_date]-- nto in scope for our business case\n",
    "# create a new df for the in scope features\n",
    "new_rt_movie_info= rt_movie_info[['id','rating', 'genre', 'director', 'writer','runtime']] # cols interested"
   ]
  },
  {
   "cell_type": "code",
   "execution_count": null,
   "metadata": {},
   "outputs": [],
   "source": [
    "new_rt_movie_info"
   ]
  },
  {
   "cell_type": "code",
   "execution_count": null,
   "metadata": {},
   "outputs": [],
   "source": [
    "# Visualizing data for missing value for the new df\n",
    "# As you can see, there are no missing values [ cols with true or a mixture of orange and blue color]\n",
    "plt.figure(figsize=(10,6))\n",
    "sns.displot(\n",
    "    data=new_rt_movie_info.isnull().melt(value_name=\"missing\"),\n",
    "    y=\"variable\",\n",
    "    hue=\"missing\",\n",
    "    multiple=\"fill\",\n",
    "    aspect=1.25\n",
    ")\n",
    "plt.savefig(\"visualizing_missing_data_with_barplot_Seaborn_distplot.png\", dpi=100)\n",
    "\n",
    "# for now we will keep the data as it is without removing any missing data. We can always come back and \n",
    "## take them out if needed\n"
   ]
  },
  {
   "cell_type": "code",
   "execution_count": null,
   "metadata": {},
   "outputs": [],
   "source": [
    "new_rt_movie_info.info() # checking to see the data type for the runtime col"
   ]
  },
  {
   "cell_type": "code",
   "execution_count": null,
   "metadata": {},
   "outputs": [],
   "source": [
    "#split team column into two columns\n",
    "new_rt_movie_info[['runtime/mins', 'minutes']] = new_rt_movie_info['runtime'].str.split(' ', 1, expand=True)\n",
    "\n"
   ]
  },
  {
   "cell_type": "code",
   "execution_count": null,
   "metadata": {},
   "outputs": [],
   "source": [
    "new_rt_movie_info.head()"
   ]
  },
  {
   "cell_type": "code",
   "execution_count": null,
   "metadata": {},
   "outputs": [],
   "source": [
    "new_rt_movie_info.info()"
   ]
  },
  {
   "cell_type": "code",
   "execution_count": null,
   "metadata": {},
   "outputs": [],
   "source": [
    "new_rt_movie_info= new_rt_movie_info.dropna(axis = 0, how ='any') # dropped all othe na/null/missing value from the remaining data\n",
    "new_rt_movie_info.isnull().sum()"
   ]
  },
  {
   "cell_type": "code",
   "execution_count": null,
   "metadata": {},
   "outputs": [],
   "source": [
    "# Visualizing data for missing value for the new df\n",
    "# As you can see, there are no missing values now\n",
    "plt.figure(figsize=(10,6))\n",
    "sns.displot(\n",
    "    data=new_rt_movie_info.isnull().melt(value_name=\"missing\"),\n",
    "    y=\"variable\",\n",
    "    hue=\"missing\",\n",
    "    multiple=\"fill\",\n",
    "    aspect=1.25\n",
    ")\n",
    "plt.savefig(\"visualizing_missing_data_with_barplot_Seaborn_distplot.png\", dpi=100)\n",
    "\n",
    "# for now we will keep the data as it is without removing any missing data. We can always come back and \n",
    "## take them out if needed\n"
   ]
  },
  {
   "cell_type": "code",
   "execution_count": null,
   "metadata": {},
   "outputs": [],
   "source": [
    "new_rt_movie_info['runtime/mins']= new_rt_movie_info['runtime/mins'].astype(int) # Changing data type to Int"
   ]
  },
  {
   "cell_type": "code",
   "execution_count": null,
   "metadata": {},
   "outputs": [],
   "source": [
    "new_rt_movie_info.info()"
   ]
  },
  {
   "cell_type": "code",
   "execution_count": null,
   "metadata": {},
   "outputs": [],
   "source": [
    "new_rt_movie_info"
   ]
  },
  {
   "cell_type": "markdown",
   "metadata": {},
   "source": [
    "### Pull two tables from the database "
   ]
  },
  {
   "cell_type": "code",
   "execution_count": null,
   "metadata": {},
   "outputs": [],
   "source": [
    "# Connecting to the db file\n",
    "# NB: Just like the other reads, make sure the db connection is done in the right dir to avoid errors/empty tables\n",
    "\n",
    "dbfile =\"C:/Users\\Raddodanquah/Documents/Flatiron/Final_project_Group4/Data/im.db\"\n",
    "# Create a SQL connection to our SQLite database\n",
    "con = sqlite3.connect(dbfile)\n",
    "\n",
    "# creating cursor\n",
    "cur = con.cursor()\n",
    "\n",
    "# reading all table names\n",
    "table_list = [a for a in cur.execute(\"SELECT name FROM sqlite_master WHERE type = 'table'\")]\n",
    "# here is you table list\n",
    "print(table_list)\n",
    "\n",
    "# Be sure to close the connection\n",
    "#con.close()"
   ]
  },
  {
   "cell_type": "code",
   "execution_count": null,
   "metadata": {},
   "outputs": [],
   "source": [
    "# Data is from 2010 and above because we dont financials for years less than 2010\n",
    "\n",
    "q = \"\"\"\n",
    "SELECT a.movie_id,a.primary_title,a.start_year,a.runtime_minutes,a.genres, b.averagerating,b.numvotes\n",
    "FROM movie_basics a\n",
    "JOIN movie_ratings b\n",
    "USING (movie_id)\n",
    "where start_year >=2010\n",
    ";\"\"\"\n",
    "db_database = pd.read_sql(q, con)\n",
    "\n",
    "con.close()"
   ]
  },
  {
   "cell_type": "code",
   "execution_count": null,
   "metadata": {},
   "outputs": [],
   "source": [
    "db_database"
   ]
  },
  {
   "cell_type": "code",
   "execution_count": null,
   "metadata": {},
   "outputs": [],
   "source": []
  },
  {
   "cell_type": "markdown",
   "metadata": {},
   "source": [
    "# Data Exploration/ Analysis "
   ]
  },
  {
   "cell_type": "code",
   "execution_count": null,
   "metadata": {},
   "outputs": [],
   "source": [
    "# Finding the current directory to help with easy read\n",
    "#NB: Pandas read data from the current directory and may issue an error if the data is not located in the current dir\n",
    "\n",
    "cwd = os.getcwd()\n",
    "cwd"
   ]
  },
  {
   "cell_type": "code",
   "execution_count": null,
=======
>>>>>>> origin
   "metadata": {},
   "outputs": [],
   "source": [
    "# Reading the CSv and tsv files into the instance\n",
    "\n",
    "DATA_DIR = \"C:/Users\\Raddodanquah/Documents/Flatiron/Final_project_Group4/Data/\"\n",
    "FILE_NAME1 = \"bom.movie_gross.csv\"\n",
    "FILE_NAME2 = \"tmdb.movies.csv\"\n",
    "FILE_NAME3 = \"tn.movie_budgets.csv\"\n",
    "FILE_NAME4 = \"rt.reviews.tsv\"\n",
    "FILE_NAME5 = \"rt.movie_info.tsv\"\n",
    "bom_movies = pd.read_csv(f\"{DATA_DIR}{FILE_NAME1}\")\n",
    "tmd_movies= pd.read_csv(f\"{DATA_DIR}{FILE_NAME2}\")\n",
    "tn_movies =pd.read_csv(f\"{DATA_DIR}{FILE_NAME3}\")\n",
    "rt_reviews =pd.read_csv(f\"{DATA_DIR}{FILE_NAME4}\", sep='\\t', engine='python' )\n",
    "rt_movie_info =pd.read_csv(f\"{DATA_DIR}{FILE_NAME5}\", sep='\\t', engine='python' )"
   ]
  },
  {
   "cell_type": "code",
   "execution_count": null,
   "metadata": {},
   "outputs": [],
   "source": [
    "# Connecting to the db file\n",
    "# NB: Just like the other reads, make sure the db connection is done in the right dir to avoid errors/empty tables\n",
    "\n",
    "dbfile =\"C:/Users\\Raddodanquah/Documents/Flatiron/Final_project_Group4/Data/im.db\"\n",
    "# Create a SQL connection to our SQLite database\n",
    "con = sqlite3.connect(dbfile)\n",
    "\n",
    "# creating cursor\n",
    "cur = con.cursor()\n",
    "\n",
    "# reading all table names\n",
    "table_list = [a for a in cur.execute(\"SELECT name FROM sqlite_master WHERE type = 'table'\")]\n",
    "# here is you table list\n",
    "print(table_list)\n",
    "\n",
    "# Be sure to close the connection\n",
    "con.close()"
   ]
  },
  {
   "cell_type": "markdown",
   "metadata": {},
   "source": [
    "# Understand the data - A focus on the columns and the data type respectively\n",
    "\n",
    "- bom_movies details\n",
    " * Data file has 3387 rows with 5 columns\n",
    "   * The columns are : title', 'studio', 'domestic_gross', 'foreign_gross', 'year'\n",
    " * There are missing data that we need to investigate and determine the best way to resolve this\n",
    " * Year column data type needs to be changed from int to datetime\n",
    " * foreign_gross data type needs to be changed to int and so is the domestic_gross\n",
    " * Convert the domestic_gross and foreign_gross into a more easy way to read, divide by 1,000,000\n",
    " *  <span style=\"color:red\"> May need to remove the studio column- early to decide  </style>\n",
    " * <span style=\"color:green\"> We will assume that the domestic and foreign gross revenue are in us dollars </style>\n",
    "\n",
    " \n",
    " \n",
    " - tmd_movies details\n",
    "  * Data file has 26517 rows with 10 columns\n",
    "    * The columns are : 'Unnamed: 0', 'genre_ids', 'id', 'original_language', 'original_title','popularity', 'release_date',    'title', 'vote_average', 'vote_count'\n",
    "  * There are no missing data - whewww!!(just kidding)\n",
    "  * Release date column data type needs to be changed to datetime\n",
    "  *  <span style=\"color:red\"> May need to remove some colums: unnamed, genre_ids?(maybe), original_title is redundant with title and original languae column- has 1 unique data type  </style>\n",
    "  * <span style=\"color:green\"> We will assume that with popularity, the bigger the number, the higher the popularity </style>\n",
    " \n",
    " \n",
    "  - tn_movie_budget details\n",
    "   * Data file has 5782 rows with 6 columns\n",
    "    * The columns are : id', 'release_date', 'movie', 'production_budget', 'domestic_gross',\n",
    "       'worldwide_gross'\n",
    "   * There are no missing data - whewww!!\n",
    "   * release_date column data type needs to be changed to datetime\n",
    "   * Production_budget, domestic_gross and worldwide_gross should all be float with easy to read data values\n",
    "  \n",
    " \n",
    " - rt_movie_info details\n",
    "  * Data file has 1560 rows with 12 columns\n",
    "    * The columns are : 'id', 'synopsis', 'rating', 'genre', 'director', 'writer',\n",
    "       'theater_date', 'dvd_date', 'currency', 'box_office', 'runtime',\n",
    "       'studio'\n",
    "   * Other than Id column, the rest of the data has missing values\n",
    "     * The columns that have more than 2/3rd of missing values can be dropped\n",
    "       * Studio\n",
    "       * box_office\n",
    "       * currency\n",
    "   * runtime column data type needs to be changed to datetime\n",
    "   * rating columns to integer\n",
    "   * Production_budget, domestic_gross and worldwide_gross should all be float with easy to read data values\n",
    "  \n"
   ]
  },
  {
   "cell_type": "markdown",
   "metadata": {},
   "source": [
    "# Data Cleansing and feature selection \n",
    "- Data cleansing is the process of ensuring that that the data is in its ready state to be used for analysis.\n",
    "  * Focus will be setting the columns to the right data type, dealing with null values and dropping for the starter, columns deemed not \"relevant\" to this analysis\n",
    "  \n",
    "- Feature Selection using domain/business knowledge as opposed to using rigourous statistical method of selecton such as LASSO, Ridge, etc\n",
    "  * Further drop columns that will not be anyway useful to the analysis"
   ]
  },
  {
   "cell_type": "markdown",
   "metadata": {},
   "source": [
    "# Data Cleansing for Bom Movie data\n",
    "\n",
    "## Initial data shape (row by col) --- (3387,5)\n",
    "- Removing null values and changing data type\n",
    "- Key action\n",
    "  * foreign_gross has about 40% missing value, so we drop the column\n",
    "  * The other columns have insignficant amount of missing value so we removed the rows\n",
    "  \n",
    "## Final data shape (row by col) --- (3356,4)"
   ]
  },
  {
   "cell_type": "code",
   "execution_count": null,
   "metadata": {},
   "outputs": [],
   "source": [
    "bom_movies.head()"
   ]
  },
  {
   "cell_type": "code",
   "execution_count": null,
   "metadata": {},
   "outputs": [],
   "source": [
    "bom_movies.isnull().sum() # checking for missing/null/na values in the data"
   ]
  },
  {
   "cell_type": "code",
   "execution_count": null,
   "metadata": {
    "scrolled": true
   },
   "outputs": [],
   "source": [
    "bom_movies.drop([\"foreign_gross\"], axis = 1, inplace = True) # dropped foreign_gross from the data\n",
    "bom_movies.head(4)"
   ]
  },
  {
   "cell_type": "code",
   "execution_count": null,
   "metadata": {},
   "outputs": [],
   "source": [
    "new_bom_movies= bom_movies.dropna(axis = 0, how ='any') # dropped all othe na/null/missing value from the remaining data\n",
    "new_bom_movies.isnull().sum()"
   ]
  },
  {
   "cell_type": "code",
   "execution_count": null,
   "metadata": {
    "scrolled": true
   },
   "outputs": [],
   "source": [
    "# Visualizing data for missing value\n",
    "# As you can see, there are no missing values\n",
    "plt.figure(figsize=(10,6))\n",
    "sns.displot(\n",
    "    data=new_bom_movies.isnull().melt(value_name=\"missing\"),\n",
    "    y=\"variable\",\n",
    "    hue=\"missing\",\n",
    "    multiple=\"fill\",\n",
    "    aspect=1.25\n",
    ")\n",
    "plt.savefig(\"visualizing_missing_data_with_barplot_Seaborn_distplot.png\", dpi=100)"
   ]
  },
  {
   "cell_type": "code",
   "execution_count": null,
   "metadata": {},
   "outputs": [],
   "source": [
    "new_bom_movies['domestic_gross']= new_bom_movies['domestic_gross'].astype(int) # Changing data type to Int\n",
    "new_bom_movies['year']= pd.to_datetime(bom_movies.year, format='%Y%') # Changing data type to date"
   ]
  },
  {
   "cell_type": "code",
   "execution_count": null,
   "metadata": {},
   "outputs": [],
   "source": [
    "new_bom_movies.info()"
   ]
  },
  {
   "cell_type": "markdown",
   "metadata": {
    "scrolled": false
   },
   "source": [
    "# Data Cleansing for tmd movie data\n",
    "\n",
    "## Initial data shape (row by col) --- (26517,10)\n",
    "- This dataset has no missing value as shown in the graph\n",
    "- Need to drop some columns that are not relevant to our business case\n",
    "   * Unnamed\n",
    "   * genre_ids\n",
    "   * original_title is redundant with title\n",
    "- Change column data type\n",
    "   * release_date to date data type\n",
    "   \n",
    "## Final data shape (row by col) --- (26517,7)"
   ]
  },
  {
   "cell_type": "code",
   "execution_count": null,
   "metadata": {},
   "outputs": [],
   "source": [
    "# Visualizing data for missing value\n",
    "# As you can see, there are no missing values\n",
    "plt.figure(figsize=(10,6))\n",
    "sns.displot(\n",
    "    data=tmd_movies.isnull().melt(value_name=\"missing\"),\n",
    "    y=\"variable\",\n",
    "    hue=\"missing\",\n",
    "    multiple=\"fill\",\n",
    "    aspect=1.25\n",
    ")\n",
    "plt.savefig(\"visualizing_missing_data_with_barplot_Seaborn_distplot.png\", dpi=100)"
   ]
  },
  {
   "cell_type": "code",
   "execution_count": null,
   "metadata": {},
   "outputs": [],
   "source": [
    "tmd_movies.reindex()\n",
    "new_tmd_movies= tmd_movies.drop(tmd_movies.columns[[0, 1,4]], axis=1)\n",
    "new_tmd_movies"
   ]
  },
  {
   "cell_type": "code",
   "execution_count": null,
   "metadata": {},
   "outputs": [],
   "source": [
    "new_tmd_movies.info() # checking to see the data type and what needs to be changed"
   ]
  },
  {
   "cell_type": "code",
   "execution_count": null,
   "metadata": {},
   "outputs": [],
   "source": [
    "# Changing data type to date\n",
    "new_tmd_movies[' release_date']= pd.to_datetime(new_tmd_movies. release_date, format= '%Y-%m-%d') "
   ]
  },
  {
   "cell_type": "code",
   "execution_count": null,
   "metadata": {},
   "outputs": [],
   "source": [
    "new_tmd_movies.info() # release date has the date datat type now"
   ]
  },
  {
   "cell_type": "markdown",
   "metadata": {},
   "source": [
    "# Data Cleansing for tn movie data\n",
    "\n",
    "## Initial data shape (row by col) --- (5782,6)\n",
    "- This dataset has no missing value as shown in the graph\n",
    "- Drop the wordwide gross as the focus of this business case will be on domestic gross revenue\n",
    "- Change column data type\n",
    "   * release_date should be consistent withthe format and type like the other tables\n",
    "   * domestic_gross and production budget format should be the same in other tables, no dollar sign, no commas\n",
    "   \n",
    "## Final data shape (row by col) --- (5782,5)"
   ]
  },
  {
   "cell_type": "code",
   "execution_count": null,
   "metadata": {},
   "outputs": [],
   "source": [
    "# Visualizing data for missing value\n",
    "# As you can see, there are no missing values\n",
    "plt.figure(figsize=(10,6))\n",
    "sns.displot(\n",
    "    data=tn_movies.isnull().melt(value_name=\"missing\"),\n",
    "    y=\"variable\",\n",
    "    hue=\"missing\",\n",
    "    multiple=\"fill\",\n",
    "    aspect=1.25\n",
    ")\n",
    "plt.savefig(\"visualizing_missing_data_with_barplot_Seaborn_distplot.png\", dpi=100)"
   ]
  },
  {
   "cell_type": "code",
   "execution_count": null,
   "metadata": {},
   "outputs": [],
   "source": [
    "tn_movies.head() # preview the data set"
   ]
  },
  {
   "cell_type": "code",
   "execution_count": null,
   "metadata": {},
   "outputs": [],
   "source": [
    "new_tn_movies= tn_movies.drop(tn_movies.columns[5], axis=1)\n",
    "new_tn_movies"
   ]
  },
  {
   "cell_type": "code",
   "execution_count": null,
   "metadata": {},
   "outputs": [],
   "source": [
    "# converting production_budget and domestic_gross columns into int and a consistent format just like others with no comma or $\n",
    "new_tn_movies['production_budget']= new_tn_movies['production_budget'].str.replace(',', '').str.replace('$', '').astype(int)\n",
    "new_tn_movies['domestic_gross']= new_tn_movies['domestic_gross'].str.replace(',', '').str.replace('$', '').astype(int)"
   ]
  },
  {
   "cell_type": "code",
   "execution_count": null,
   "metadata": {},
   "outputs": [],
   "source": [
    "new_tn_movies.head()"
   ]
  },
  {
   "cell_type": "code",
   "execution_count": null,
   "metadata": {},
   "outputs": [],
   "source": [
    "new_tn_movies.info()"
   ]
  },
  {
   "cell_type": "markdown",
   "metadata": {},
   "source": [
    "# Getting error converting,will revert"
   ]
  },
  {
   "cell_type": "code",
   "execution_count": null,
   "metadata": {},
   "outputs": [],
   "source": [
    "\n",
    "# changing to a consistent date type \n",
    "new_tn_movies['release_date']= pd.to_datetime(new_tn_movies['release_date'], ,errors = 'coerce',format = '%Y-%m-%d').dt.strftime(\"%Y%m\")"
   ]
  },
  {
   "cell_type": "markdown",
   "metadata": {},
   "source": [
    "# Data Cleansing for rt movie info data\n",
    "\n",
    "## Initial data shape (row by col) --- (1560,12)\n",
    "- This dataset hassome missing values, some as high as about 2/3rd missing values\n",
    "- Columns dropped\n",
    "   * studio, currency, and box_office will be dropped due to a significant amount of missing data\n",
    "   * synopsis which is just a brief summary of the movie will not be in scope for our work\n",
    "   \n",
    "- Create a new column (runtime_mins) and make the data type int\n",
    "\n",
    "## Final data shape (row by col) --- (1032,8)"
   ]
  },
  {
   "cell_type": "code",
   "execution_count": null,
   "metadata": {},
   "outputs": [],
   "source": [
    "rt_movie_info.head() # display the first few roles for review"
   ]
  },
  {
   "cell_type": "code",
   "execution_count": null,
   "metadata": {},
   "outputs": [],
   "source": [
    "rt_movie_info.info()"
   ]
  },
  {
   "cell_type": "code",
   "execution_count": null,
   "metadata": {},
   "outputs": [],
   "source": [
    "# Visualizing data for missing value\n",
    "# As you can see, there are no missing values [ cols with true or a mixture of orange and blue color]\n",
    "plt.figure(figsize=(10,6))\n",
    "sns.displot(\n",
    "    data=rt_movie_info.isnull().melt(value_name=\"missing\"),\n",
    "    y=\"variable\",\n",
    "    hue=\"missing\",\n",
    "    multiple=\"fill\",\n",
    "    aspect=1.25\n",
    ")\n",
    "plt.savefig(\"visualizing_missing_data_with_barplot_Seaborn_distplot.png\", dpi=100)"
   ]
  },
  {
   "cell_type": "code",
   "execution_count": null,
   "metadata": {},
   "outputs": [],
   "source": [
    "# drop the already mentioned columns [studio,box_office,currency](they have significant high volume of missing data), \n",
    "# drop [synopsis,theater_date,dvd_date]-- nto in scope for our business case\n",
    "# create a new df for the in scope features\n",
    "new_rt_movie_info= rt_movie_info[['id','rating', 'genre', 'director', 'writer','runtime']] # cols interested"
   ]
  },
  {
   "cell_type": "code",
   "execution_count": null,
   "metadata": {},
   "outputs": [],
   "source": [
    "new_rt_movie_info"
   ]
  },
  {
   "cell_type": "code",
   "execution_count": null,
   "metadata": {},
   "outputs": [],
   "source": [
    "# Visualizing data for missing value for the new df\n",
    "# As you can see, there are no missing values [ cols with true or a mixture of orange and blue color]\n",
    "plt.figure(figsize=(10,6))\n",
    "sns.displot(\n",
    "    data=new_rt_movie_info.isnull().melt(value_name=\"missing\"),\n",
    "    y=\"variable\",\n",
    "    hue=\"missing\",\n",
    "    multiple=\"fill\",\n",
    "    aspect=1.25\n",
    ")\n",
    "plt.savefig(\"visualizing_missing_data_with_barplot_Seaborn_distplot.png\", dpi=100)\n",
    "\n",
    "# for now we will keep the data as it is without removing any missing data. We can always come back and \n",
    "## take them out if needed\n"
   ]
  },
  {
   "cell_type": "code",
   "execution_count": null,
   "metadata": {},
   "outputs": [],
   "source": [
    "new_rt_movie_info.info() # checking to see the data type for the runtime col"
   ]
  },
  {
   "cell_type": "code",
   "execution_count": null,
   "metadata": {},
   "outputs": [],
   "source": [
    "#split team column into two columns\n",
    "new_rt_movie_info[['runtime/mins', 'minutes']] = new_rt_movie_info['runtime'].str.split(' ', 1, expand=True)\n",
    "\n"
   ]
  },
  {
   "cell_type": "code",
   "execution_count": null,
   "metadata": {},
   "outputs": [],
   "source": [
    "new_rt_movie_info.head()"
   ]
  },
  {
   "cell_type": "code",
   "execution_count": null,
   "metadata": {},
   "outputs": [],
   "source": [
    "new_rt_movie_info.info()"
   ]
  },
  {
   "cell_type": "code",
   "execution_count": null,
   "metadata": {},
   "outputs": [],
   "source": [
    "new_rt_movie_info= new_rt_movie_info.dropna(axis = 0, how ='any') # dropped all othe na/null/missing value from the remaining data\n",
    "new_rt_movie_info.isnull().sum()"
   ]
  },
  {
   "cell_type": "code",
   "execution_count": null,
   "metadata": {},
   "outputs": [],
   "source": [
    "# Visualizing data for missing value for the new df\n",
    "# As you can see, there are no missing values now\n",
    "plt.figure(figsize=(10,6))\n",
    "sns.displot(\n",
    "    data=new_rt_movie_info.isnull().melt(value_name=\"missing\"),\n",
    "    y=\"variable\",\n",
    "    hue=\"missing\",\n",
    "    multiple=\"fill\",\n",
    "    aspect=1.25\n",
    ")\n",
    "plt.savefig(\"visualizing_missing_data_with_barplot_Seaborn_distplot.png\", dpi=100)\n",
    "\n",
    "# for now we will keep the data as it is without removing any missing data. We can always come back and \n",
    "## take them out if needed\n"
   ]
  },
  {
   "cell_type": "code",
   "execution_count": null,
   "metadata": {},
   "outputs": [],
   "source": [
    "new_rt_movie_info['runtime/mins']= new_rt_movie_info['runtime/mins'].astype(int) # Changing data type to Int"
   ]
  },
  {
   "cell_type": "code",
   "execution_count": null,
   "metadata": {},
   "outputs": [],
   "source": [
    "new_rt_movie_info.info()"
   ]
  },
  {
   "cell_type": "markdown",
   "metadata": {},
   "source": [
    "# Take out the other 2 unwanted cols, runtime & minutes"
   ]
  },
  {
   "cell_type": "code",
   "execution_count": null,
   "metadata": {},
   "outputs": [],
   "source": [
    "new_rt_movie_info= rt_movie_info[['id','rating', 'genre', 'director', 'writer','runtime/mins']] # cols interested"
   ]
  },
  {
   "cell_type": "markdown",
   "metadata": {},
   "source": [
    "# So far with the flat files we have in good shape are:\n",
    "## new_bom_movies\n",
    "## new_rt_movie_info\n",
    "## new_tmd_movies\n",
    "## new_tn_movies\n",
    "\n"
   ]
  },
  {
   "cell_type": "markdown",
   "metadata": {},
   "source": [
    "### Pull two tables from the database "
   ]
  },
  {
   "cell_type": "code",
<<<<<<< HEAD
   "execution_count": 1,
   "metadata": {},
   "outputs": [
    {
     "ename": "NameError",
     "evalue": "name 'cur' is not defined",
     "output_type": "error",
     "traceback": [
      "\u001b[1;31m---------------------------------------------------------------------------\u001b[0m",
      "\u001b[1;31mNameError\u001b[0m                                 Traceback (most recent call last)",
      "\u001b[1;32m<ipython-input-1-e338b03f10de>\u001b[0m in \u001b[0;36m<module>\u001b[1;34m\u001b[0m\n\u001b[0;32m     10\u001b[0m \u001b[1;33m\u001b[0m\u001b[0m\n\u001b[0;32m     11\u001b[0m \u001b[1;31m# reading all table names\u001b[0m\u001b[1;33m\u001b[0m\u001b[1;33m\u001b[0m\u001b[1;33m\u001b[0m\u001b[0m\n\u001b[1;32m---> 12\u001b[1;33m \u001b[0mtable_list\u001b[0m \u001b[1;33m=\u001b[0m \u001b[1;33m[\u001b[0m\u001b[0ma\u001b[0m \u001b[1;32mfor\u001b[0m \u001b[0ma\u001b[0m \u001b[1;32min\u001b[0m \u001b[0mcur\u001b[0m\u001b[1;33m.\u001b[0m\u001b[0mexecute\u001b[0m\u001b[1;33m(\u001b[0m\u001b[1;34m\"SELECT name FROM sqlite_master WHERE type = 'table'\"\u001b[0m\u001b[1;33m)\u001b[0m\u001b[1;33m]\u001b[0m\u001b[1;33m\u001b[0m\u001b[1;33m\u001b[0m\u001b[0m\n\u001b[0m\u001b[0;32m     13\u001b[0m \u001b[1;31m# here is you table list\u001b[0m\u001b[1;33m\u001b[0m\u001b[1;33m\u001b[0m\u001b[1;33m\u001b[0m\u001b[0m\n\u001b[0;32m     14\u001b[0m \u001b[0mprint\u001b[0m\u001b[1;33m(\u001b[0m\u001b[0mtable_list\u001b[0m\u001b[1;33m)\u001b[0m\u001b[1;33m\u001b[0m\u001b[1;33m\u001b[0m\u001b[0m\n",
      "\u001b[1;31mNameError\u001b[0m: name 'cur' is not defined"
     ]
    }
   ],
   "source": [
    "# Connecting to the db file\n",
    "# NB: Just like the other reads, make sure the db connection is done in the right dir to avoid errors/empty tables\n",
    "\n",
    "dbfile =\"../../Data/im_combined.db\"\n",
    "# Create a SQL connection to our SQLite database\n",
    "#conn = sqlite3.connect(dbfile)\n",
    "\n",
    "# creating cursor\n",
    "#cur = conn.cursor()\n",
    "\n",
    "# reading all table names\n",
    "table_list = [a for a in cur.execute(\"SELECT name FROM sqlite_master WHERE type = 'table'\")]\n",
    "# here is you table list\n",
    "print(table_list)\n",
    "\n",
    "# Be sure to close the connection\n",
    "#con.close()"
=======
   "execution_count": 27,
   "metadata": {},
   "outputs": [
    {
     "name": "stdout",
     "output_type": "stream",
     "text": [
      "[('IMDB_movie_basics',), ('IMDB_directors',), ('IMDB_known_for',), ('IMDB_movie_akas',), ('IMDB_movie_ratings',), ('IMDB_persons',), ('IMDB_principals',), ('IMDB_writers',), ('BOM_movie_gross',), ('RT_movie_reviews',), ('TMDB_movie_genres',), ('TN_movie_budgets',), ('TN_movie_budgets_formatted',), ('VIEW_movie_budgets',), ('RT_movie_info',)]\n"
     ]
    }
   ],
   "source": [
    "# Connecting to the db file\n",
    "# NB: Just like the other reads, make sure the db connection is done in the right dir to avoid errors/empty tables\n",
    "\n",
    "dbfile =\"../../Data/im_combined.db\"\n",
    "# Create a SQL connection to our SQLite database\n",
    "#conn = sqlite3.connect(dbfile)\n",
    "\n",
    "# creating cursor\n",
    "#cur = conn.cursor()\n",
    "\n",
    "# reading all table names\n",
    "table_list = [a for a in cur.execute(\"SELECT name FROM sqlite_master WHERE type = 'table'\")]\n",
    "# here is you table list\n",
    "print(table_list)\n",
    "\n",
    "# Be sure to close the connection\n",
    "#con.close()"
   ]
  },
  {
   "cell_type": "code",
   "execution_count": 34,
   "metadata": {},
   "outputs": [],
   "source": [
    "conn.close()"
   ]
  },
  {
   "cell_type": "code",
   "execution_count": 44,
   "metadata": {},
   "outputs": [
    {
     "data": {
      "text/html": [
       "<div>\n",
       "<style scoped>\n",
       "    .dataframe tbody tr th:only-of-type {\n",
       "        vertical-align: middle;\n",
       "    }\n",
       "\n",
       "    .dataframe tbody tr th {\n",
       "        vertical-align: top;\n",
       "    }\n",
       "\n",
       "    .dataframe thead th {\n",
       "        text-align: right;\n",
       "    }\n",
       "</style>\n",
       "<table border=\"1\" class=\"dataframe\">\n",
       "  <thead>\n",
       "    <tr style=\"text-align: right;\">\n",
       "      <th></th>\n",
       "      <th>Title</th>\n",
       "      <th>studio</th>\n",
       "      <th>TNWorlwideGross</th>\n",
       "      <th>TNDomesticGross</th>\n",
       "      <th>ComputedForeignGross</th>\n",
       "      <th>TNBudget/Cost</th>\n",
       "      <th>Computed_Profit_Loss</th>\n",
       "      <th>year</th>\n",
       "      <th>release_date</th>\n",
       "      <th>Genres</th>\n",
       "      <th>AverageRating</th>\n",
       "    </tr>\n",
       "  </thead>\n",
       "  <tbody>\n",
       "    <tr>\n",
       "      <th>0</th>\n",
       "      <td>10 Cloverfield Lane</td>\n",
       "      <td>Par.</td>\n",
       "      <td>108286422</td>\n",
       "      <td>72082999</td>\n",
       "      <td>36203423</td>\n",
       "      <td>5000000</td>\n",
       "      <td>103286422</td>\n",
       "      <td>2016</td>\n",
       "      <td>3/11/2016</td>\n",
       "      <td>Drama,Horror,Mystery</td>\n",
       "      <td>7.2</td>\n",
       "    </tr>\n",
       "    <tr>\n",
       "      <th>1</th>\n",
       "      <td>12 Strong</td>\n",
       "      <td>WB</td>\n",
       "      <td>71118378</td>\n",
       "      <td>45819713</td>\n",
       "      <td>25298665</td>\n",
       "      <td>35000000</td>\n",
       "      <td>36118378</td>\n",
       "      <td>2018</td>\n",
       "      <td>1/19/2018</td>\n",
       "      <td>Action,Drama,History</td>\n",
       "      <td>6.6</td>\n",
       "    </tr>\n",
       "    <tr>\n",
       "      <th>2</th>\n",
       "      <td>12 Years a Slave</td>\n",
       "      <td>FoxS</td>\n",
       "      <td>181025343</td>\n",
       "      <td>56671993</td>\n",
       "      <td>124353350</td>\n",
       "      <td>20000000</td>\n",
       "      <td>161025343</td>\n",
       "      <td>2013</td>\n",
       "      <td>10/18/2013</td>\n",
       "      <td>Biography,Drama,History</td>\n",
       "      <td>8.1</td>\n",
       "    </tr>\n",
       "    <tr>\n",
       "      <th>3</th>\n",
       "      <td>127 Hours</td>\n",
       "      <td>FoxS</td>\n",
       "      <td>60217171</td>\n",
       "      <td>18335230</td>\n",
       "      <td>41881941</td>\n",
       "      <td>18000000</td>\n",
       "      <td>42217171</td>\n",
       "      <td>2010</td>\n",
       "      <td>11/5/2010</td>\n",
       "      <td>Adventure,Biography,Drama</td>\n",
       "      <td>7.6</td>\n",
       "    </tr>\n",
       "    <tr>\n",
       "      <th>4</th>\n",
       "      <td>13 Hours: The Secret Soldiers of Benghazi</td>\n",
       "      <td>Par.</td>\n",
       "      <td>69411370</td>\n",
       "      <td>52853219</td>\n",
       "      <td>16558151</td>\n",
       "      <td>50000000</td>\n",
       "      <td>19411370</td>\n",
       "      <td>2016</td>\n",
       "      <td>1/15/2016</td>\n",
       "      <td>None</td>\n",
       "      <td>NaN</td>\n",
       "    </tr>\n",
       "  </tbody>\n",
       "</table>\n",
       "</div>"
      ],
      "text/plain": [
       "                                       Title studio  TNWorlwideGross  \\\n",
       "0                        10 Cloverfield Lane   Par.        108286422   \n",
       "1                                  12 Strong     WB         71118378   \n",
       "2                           12 Years a Slave   FoxS        181025343   \n",
       "3                                  127 Hours   FoxS         60217171   \n",
       "4  13 Hours: The Secret Soldiers of Benghazi   Par.         69411370   \n",
       "\n",
       "   TNDomesticGross  ComputedForeignGross  TNBudget/Cost  Computed_Profit_Loss  \\\n",
       "0         72082999              36203423        5000000             103286422   \n",
       "1         45819713              25298665       35000000              36118378   \n",
       "2         56671993             124353350       20000000             161025343   \n",
       "3         18335230              41881941       18000000              42217171   \n",
       "4         52853219              16558151       50000000              19411370   \n",
       "\n",
       "   year release_date                     Genres  AverageRating  \n",
       "0  2016    3/11/2016       Drama,Horror,Mystery            7.2  \n",
       "1  2018    1/19/2018       Action,Drama,History            6.6  \n",
       "2  2013   10/18/2013    Biography,Drama,History            8.1  \n",
       "3  2010    11/5/2010  Adventure,Biography,Drama            7.6  \n",
       "4  2016    1/15/2016                       None            NaN  "
      ]
     },
     "execution_count": 44,
     "metadata": {},
     "output_type": "execute_result"
    }
   ],
   "source": [
    "conn = sqlite3.connect('../../Data/im_combined.db')\n",
    "\n",
    "SQLQuery_2 = \"\"\"\n",
    "Select\n",
    "a.*\n",
    ",(Select b.genres from IMDB_movie_basics b where b.primary_title = a.title) as Genres\n",
    ",(Select c1.average_rating from IMDB_movie_basics b1, IMDB_movie_ratings c1 where c1.movie_id = b1.movie_id and b1.primary_title = a.title) as AverageRating\n",
    "\n",
    "from VIEW_movie_budgets a\n",
    "\n",
    "\n",
    ";\"\"\"\n",
    "\n",
    "df = pd.read_sql(SQLQuery_2,conn)\n",
    "df.head()\n"
   ]
  },
  {
   "cell_type": "code",
   "execution_count": 45,
   "metadata": {},
   "outputs": [
    {
     "data": {
      "text/plain": [
       "(1255, 11)"
      ]
     },
     "execution_count": 45,
     "metadata": {},
     "output_type": "execute_result"
    }
   ],
   "source": [
    "df.shape"
>>>>>>> origin
   ]
  },
  {
   "cell_type": "code",
   "execution_count": null,
   "metadata": {},
   "outputs": [],
   "source": [
<<<<<<< HEAD
    "conn.close()"
   ]
  },
  {
   "cell_type": "markdown",
   "metadata": {},
   "source": [
    "###  Business Question 1:\n",
    "- What are the most profitable movies between 2010-2018?What studios and what kind of movies/genres are they investing in?"
   ]
  },
  {
   "cell_type": "markdown",
   "metadata": {},
   "source": [
    "###  Business Question 2:\n",
    "\n",
    "- What are the most profitable movies between 201-2018?"
=======
    "q = \"\"\"\n",
    "SELECT *\n",
    "from IMDB_movie_basics\n",
    ";\"\"\"\n",
    "df1= pd.read_sql(q, con)"
>>>>>>> origin
   ]
  },
  {
   "cell_type": "code",
   "execution_count": null,
<<<<<<< HEAD
   "metadata": {},
   "outputs": [],
   "source": [
    "###  Business Question 3:\n",
    "-What the best time of year to relase a movie to get the best ROI?"
   ]
  },
  {
   "cell_type": "code",
   "execution_count": 3,
   "metadata": {},
   "outputs": [
    {
     "data": {
      "text/html": [
       "<div>\n",
       "<style scoped>\n",
       "    .dataframe tbody tr th:only-of-type {\n",
       "        vertical-align: middle;\n",
       "    }\n",
       "\n",
       "    .dataframe tbody tr th {\n",
       "        vertical-align: top;\n",
       "    }\n",
       "\n",
       "    .dataframe thead th {\n",
       "        text-align: right;\n",
       "    }\n",
       "</style>\n",
       "<table border=\"1\" class=\"dataframe\">\n",
       "  <thead>\n",
       "    <tr style=\"text-align: right;\">\n",
       "      <th></th>\n",
       "      <th>Title</th>\n",
       "      <th>studio</th>\n",
       "      <th>TNWorlwideGross</th>\n",
       "      <th>TNDomesticGross</th>\n",
       "      <th>ComputedForeignGross</th>\n",
       "      <th>TNBudget/Cost</th>\n",
       "      <th>Computed_Profit_Loss</th>\n",
       "      <th>year</th>\n",
       "      <th>release_date</th>\n",
       "      <th>Genres</th>\n",
       "      <th>AverageRating</th>\n",
       "    </tr>\n",
       "  </thead>\n",
       "  <tbody>\n",
       "    <tr>\n",
       "      <th>0</th>\n",
       "      <td>10 Cloverfield Lane</td>\n",
       "      <td>Par.</td>\n",
       "      <td>108286422</td>\n",
       "      <td>72082999</td>\n",
       "      <td>36203423</td>\n",
       "      <td>5000000</td>\n",
       "      <td>103286422</td>\n",
       "      <td>2016</td>\n",
       "      <td>3/11/2016</td>\n",
       "      <td>Drama,Horror,Mystery</td>\n",
       "      <td>7.2</td>\n",
       "    </tr>\n",
       "    <tr>\n",
       "      <th>1</th>\n",
       "      <td>12 Strong</td>\n",
       "      <td>WB</td>\n",
       "      <td>71118378</td>\n",
       "      <td>45819713</td>\n",
       "      <td>25298665</td>\n",
       "      <td>35000000</td>\n",
       "      <td>36118378</td>\n",
       "      <td>2018</td>\n",
       "      <td>1/19/2018</td>\n",
       "      <td>Action,Drama,History</td>\n",
       "      <td>6.6</td>\n",
       "    </tr>\n",
       "    <tr>\n",
       "      <th>2</th>\n",
       "      <td>12 Years a Slave</td>\n",
       "      <td>FoxS</td>\n",
       "      <td>181025343</td>\n",
       "      <td>56671993</td>\n",
       "      <td>124353350</td>\n",
       "      <td>20000000</td>\n",
       "      <td>161025343</td>\n",
       "      <td>2013</td>\n",
       "      <td>10/18/2013</td>\n",
       "      <td>Biography,Drama,History</td>\n",
       "      <td>8.1</td>\n",
       "    </tr>\n",
       "    <tr>\n",
       "      <th>3</th>\n",
       "      <td>127 Hours</td>\n",
       "      <td>FoxS</td>\n",
       "      <td>60217171</td>\n",
       "      <td>18335230</td>\n",
       "      <td>41881941</td>\n",
       "      <td>18000000</td>\n",
       "      <td>42217171</td>\n",
       "      <td>2010</td>\n",
       "      <td>11/5/2010</td>\n",
       "      <td>Adventure,Biography,Drama</td>\n",
       "      <td>7.6</td>\n",
       "    </tr>\n",
       "    <tr>\n",
       "      <th>4</th>\n",
       "      <td>13 Hours: The Secret Soldiers of Benghazi</td>\n",
       "      <td>Par.</td>\n",
       "      <td>69411370</td>\n",
       "      <td>52853219</td>\n",
       "      <td>16558151</td>\n",
       "      <td>50000000</td>\n",
       "      <td>19411370</td>\n",
       "      <td>2016</td>\n",
       "      <td>1/15/2016</td>\n",
       "      <td>None</td>\n",
       "      <td>NaN</td>\n",
       "    </tr>\n",
       "  </tbody>\n",
       "</table>\n",
       "</div>"
      ],
      "text/plain": [
       "                                       Title studio  TNWorlwideGross  \\\n",
       "0                        10 Cloverfield Lane   Par.        108286422   \n",
       "1                                  12 Strong     WB         71118378   \n",
       "2                           12 Years a Slave   FoxS        181025343   \n",
       "3                                  127 Hours   FoxS         60217171   \n",
       "4  13 Hours: The Secret Soldiers of Benghazi   Par.         69411370   \n",
       "\n",
       "   TNDomesticGross  ComputedForeignGross  TNBudget/Cost  Computed_Profit_Loss  \\\n",
       "0         72082999              36203423        5000000             103286422   \n",
       "1         45819713              25298665       35000000              36118378   \n",
       "2         56671993             124353350       20000000             161025343   \n",
       "3         18335230              41881941       18000000              42217171   \n",
       "4         52853219              16558151       50000000              19411370   \n",
       "\n",
       "   year release_date                     Genres  AverageRating  \n",
       "0  2016    3/11/2016       Drama,Horror,Mystery            7.2  \n",
       "1  2018    1/19/2018       Action,Drama,History            6.6  \n",
       "2  2013   10/18/2013    Biography,Drama,History            8.1  \n",
       "3  2010    11/5/2010  Adventure,Biography,Drama            7.6  \n",
       "4  2016    1/15/2016                       None            NaN  "
      ]
     },
     "execution_count": 3,
     "metadata": {},
     "output_type": "execute_result"
    }
   ],
   "source": [
    "conn = sqlite3.connect('../../Data/im_combined.db')\n",
    "\n",
    "SQLQuery_2 = \"\"\"\n",
    "Select\n",
    "a.*\n",
    ",(Select b.genres from IMDB_movie_basics b where b.primary_title = a.title) as Genres\n",
    ",(Select c1.average_rating from IMDB_movie_basics b1, IMDB_movie_ratings c1 where c1.movie_id = b1.movie_id and b1.primary_title = a.title) as AverageRating\n",
    "\n",
    "from VIEW_movie_budgets a\n",
    "\n",
    "\n",
    ";\"\"\"\n",
    "\n",
    "df = pd.read_sql(SQLQuery_2,conn)\n",
    "df.head()\n"
   ]
  },
  {
   "cell_type": "code",
   "execution_count": 4,
   "metadata": {},
   "outputs": [],
   "source": [
    "df = df.rename(columns={\"Computed_Profit_Loss\": \"Profit\", \"TNBudget/Cost\": \"Budget\", \"year\": \"Year\", \n",
    "                        \"AverageRating\": \"Average Ratings\",\"studio\" : 'Studio', \"Title\" : \"Movie\"})"
   ]
  },
  {
   "cell_type": "code",
   "execution_count": 5,
   "metadata": {},
   "outputs": [
    {
     "data": {
      "text/html": [
       "<div>\n",
       "<style scoped>\n",
       "    .dataframe tbody tr th:only-of-type {\n",
       "        vertical-align: middle;\n",
       "    }\n",
       "\n",
       "    .dataframe tbody tr th {\n",
       "        vertical-align: top;\n",
       "    }\n",
       "\n",
       "    .dataframe thead th {\n",
       "        text-align: right;\n",
       "    }\n",
       "</style>\n",
       "<table border=\"1\" class=\"dataframe\">\n",
       "  <thead>\n",
       "    <tr style=\"text-align: right;\">\n",
       "      <th></th>\n",
       "      <th>Movie</th>\n",
       "      <th>Studio</th>\n",
       "      <th>TNWorlwideGross</th>\n",
       "      <th>TNDomesticGross</th>\n",
       "      <th>ComputedForeignGross</th>\n",
       "      <th>Budget</th>\n",
       "      <th>Profit</th>\n",
       "      <th>Year</th>\n",
       "      <th>release_date</th>\n",
       "      <th>Genres</th>\n",
       "      <th>Average Ratings</th>\n",
       "    </tr>\n",
       "  </thead>\n",
       "  <tbody>\n",
       "    <tr>\n",
       "      <th>0</th>\n",
       "      <td>10 Cloverfield Lane</td>\n",
       "      <td>Par.</td>\n",
       "      <td>108286422</td>\n",
       "      <td>72082999</td>\n",
       "      <td>36203423</td>\n",
       "      <td>5000000</td>\n",
       "      <td>103286422</td>\n",
       "      <td>2016</td>\n",
       "      <td>3/11/2016</td>\n",
       "      <td>Drama,Horror,Mystery</td>\n",
       "      <td>7.2</td>\n",
       "    </tr>\n",
       "    <tr>\n",
       "      <th>1</th>\n",
       "      <td>12 Strong</td>\n",
       "      <td>WB</td>\n",
       "      <td>71118378</td>\n",
       "      <td>45819713</td>\n",
       "      <td>25298665</td>\n",
       "      <td>35000000</td>\n",
       "      <td>36118378</td>\n",
       "      <td>2018</td>\n",
       "      <td>1/19/2018</td>\n",
       "      <td>Action,Drama,History</td>\n",
       "      <td>6.6</td>\n",
       "    </tr>\n",
       "    <tr>\n",
       "      <th>2</th>\n",
       "      <td>12 Years a Slave</td>\n",
       "      <td>FoxS</td>\n",
       "      <td>181025343</td>\n",
       "      <td>56671993</td>\n",
       "      <td>124353350</td>\n",
       "      <td>20000000</td>\n",
       "      <td>161025343</td>\n",
       "      <td>2013</td>\n",
       "      <td>10/18/2013</td>\n",
       "      <td>Biography,Drama,History</td>\n",
       "      <td>8.1</td>\n",
       "    </tr>\n",
       "    <tr>\n",
       "      <th>3</th>\n",
       "      <td>127 Hours</td>\n",
       "      <td>FoxS</td>\n",
       "      <td>60217171</td>\n",
       "      <td>18335230</td>\n",
       "      <td>41881941</td>\n",
       "      <td>18000000</td>\n",
       "      <td>42217171</td>\n",
       "      <td>2010</td>\n",
       "      <td>11/5/2010</td>\n",
       "      <td>Adventure,Biography,Drama</td>\n",
       "      <td>7.6</td>\n",
       "    </tr>\n",
       "    <tr>\n",
       "      <th>4</th>\n",
       "      <td>13 Hours: The Secret Soldiers of Benghazi</td>\n",
       "      <td>Par.</td>\n",
       "      <td>69411370</td>\n",
       "      <td>52853219</td>\n",
       "      <td>16558151</td>\n",
       "      <td>50000000</td>\n",
       "      <td>19411370</td>\n",
       "      <td>2016</td>\n",
       "      <td>1/15/2016</td>\n",
       "      <td>None</td>\n",
       "      <td>NaN</td>\n",
       "    </tr>\n",
       "    <tr>\n",
       "      <th>...</th>\n",
       "      <td>...</td>\n",
       "      <td>...</td>\n",
       "      <td>...</td>\n",
       "      <td>...</td>\n",
       "      <td>...</td>\n",
       "      <td>...</td>\n",
       "      <td>...</td>\n",
       "      <td>...</td>\n",
       "      <td>...</td>\n",
       "      <td>...</td>\n",
       "      <td>...</td>\n",
       "    </tr>\n",
       "    <tr>\n",
       "      <th>1250</th>\n",
       "      <td>Zookeeper</td>\n",
       "      <td>Sony</td>\n",
       "      <td>170805525</td>\n",
       "      <td>80360866</td>\n",
       "      <td>90444659</td>\n",
       "      <td>80000000</td>\n",
       "      <td>90805525</td>\n",
       "      <td>2011</td>\n",
       "      <td>7/8/2011</td>\n",
       "      <td>Comedy,Family,Romance</td>\n",
       "      <td>5.2</td>\n",
       "    </tr>\n",
       "    <tr>\n",
       "      <th>1251</th>\n",
       "      <td>Zoolander 2</td>\n",
       "      <td>Par.</td>\n",
       "      <td>55348693</td>\n",
       "      <td>28848693</td>\n",
       "      <td>26500000</td>\n",
       "      <td>50000000</td>\n",
       "      <td>5348693</td>\n",
       "      <td>2016</td>\n",
       "      <td>2/12/2016</td>\n",
       "      <td>Comedy</td>\n",
       "      <td>4.7</td>\n",
       "    </tr>\n",
       "    <tr>\n",
       "      <th>1252</th>\n",
       "      <td>Zootopia</td>\n",
       "      <td>BV</td>\n",
       "      <td>1019429616</td>\n",
       "      <td>341268248</td>\n",
       "      <td>678161368</td>\n",
       "      <td>150000000</td>\n",
       "      <td>869429616</td>\n",
       "      <td>2016</td>\n",
       "      <td>3/4/2016</td>\n",
       "      <td>Adventure,Animation,Comedy</td>\n",
       "      <td>8.0</td>\n",
       "    </tr>\n",
       "    <tr>\n",
       "      <th>1253</th>\n",
       "      <td>[Rec] 2</td>\n",
       "      <td>Magn.</td>\n",
       "      <td>18527766</td>\n",
       "      <td>27766</td>\n",
       "      <td>18500000</td>\n",
       "      <td>5600000</td>\n",
       "      <td>12927766</td>\n",
       "      <td>2010</td>\n",
       "      <td>7/9/2010</td>\n",
       "      <td>None</td>\n",
       "      <td>NaN</td>\n",
       "    </tr>\n",
       "    <tr>\n",
       "      <th>1254</th>\n",
       "      <td>mother!</td>\n",
       "      <td>Par.</td>\n",
       "      <td>42531076</td>\n",
       "      <td>17800004</td>\n",
       "      <td>24731072</td>\n",
       "      <td>30000000</td>\n",
       "      <td>12531076</td>\n",
       "      <td>2017</td>\n",
       "      <td>9/15/2017</td>\n",
       "      <td>None</td>\n",
       "      <td>NaN</td>\n",
       "    </tr>\n",
       "  </tbody>\n",
       "</table>\n",
       "<p>1255 rows × 11 columns</p>\n",
       "</div>"
      ],
      "text/plain": [
       "                                          Movie Studio  TNWorlwideGross  \\\n",
       "0                           10 Cloverfield Lane   Par.        108286422   \n",
       "1                                     12 Strong     WB         71118378   \n",
       "2                              12 Years a Slave   FoxS        181025343   \n",
       "3                                     127 Hours   FoxS         60217171   \n",
       "4     13 Hours: The Secret Soldiers of Benghazi   Par.         69411370   \n",
       "...                                         ...    ...              ...   \n",
       "1250                                  Zookeeper   Sony        170805525   \n",
       "1251                                Zoolander 2   Par.         55348693   \n",
       "1252                                   Zootopia     BV       1019429616   \n",
       "1253                                    [Rec] 2  Magn.         18527766   \n",
       "1254                                    mother!   Par.         42531076   \n",
       "\n",
       "      TNDomesticGross  ComputedForeignGross     Budget     Profit  Year  \\\n",
       "0            72082999              36203423    5000000  103286422  2016   \n",
       "1            45819713              25298665   35000000   36118378  2018   \n",
       "2            56671993             124353350   20000000  161025343  2013   \n",
       "3            18335230              41881941   18000000   42217171  2010   \n",
       "4            52853219              16558151   50000000   19411370  2016   \n",
       "...               ...                   ...        ...        ...   ...   \n",
       "1250         80360866              90444659   80000000   90805525  2011   \n",
       "1251         28848693              26500000   50000000    5348693  2016   \n",
       "1252        341268248             678161368  150000000  869429616  2016   \n",
       "1253            27766              18500000    5600000   12927766  2010   \n",
       "1254         17800004              24731072   30000000   12531076  2017   \n",
       "\n",
       "     release_date                      Genres  Average Ratings  \n",
       "0       3/11/2016        Drama,Horror,Mystery              7.2  \n",
       "1       1/19/2018        Action,Drama,History              6.6  \n",
       "2      10/18/2013     Biography,Drama,History              8.1  \n",
       "3       11/5/2010   Adventure,Biography,Drama              7.6  \n",
       "4       1/15/2016                        None              NaN  \n",
       "...           ...                         ...              ...  \n",
       "1250     7/8/2011       Comedy,Family,Romance              5.2  \n",
       "1251    2/12/2016                      Comedy              4.7  \n",
       "1252     3/4/2016  Adventure,Animation,Comedy              8.0  \n",
       "1253     7/9/2010                        None              NaN  \n",
       "1254    9/15/2017                        None              NaN  \n",
       "\n",
       "[1255 rows x 11 columns]"
      ]
     },
     "execution_count": 5,
     "metadata": {},
     "output_type": "execute_result"
    }
   ],
   "source": [
    "df"
   ]
  },
  {
   "cell_type": "code",
   "execution_count": 135,
   "metadata": {},
   "outputs": [
    {
     "data": {
      "text/html": [
       "<div>\n",
       "<style scoped>\n",
       "    .dataframe tbody tr th:only-of-type {\n",
       "        vertical-align: middle;\n",
       "    }\n",
       "\n",
       "    .dataframe tbody tr th {\n",
       "        vertical-align: top;\n",
       "    }\n",
       "\n",
       "    .dataframe thead th {\n",
       "        text-align: right;\n",
       "    }\n",
       "</style>\n",
       "<table border=\"1\" class=\"dataframe\">\n",
       "  <thead>\n",
       "    <tr style=\"text-align: right;\">\n",
       "      <th></th>\n",
       "      <th>Movie</th>\n",
       "      <th>Studio</th>\n",
       "      <th>TNWorlwideGross</th>\n",
       "      <th>TNDomesticGross</th>\n",
       "      <th>ComputedForeignGross</th>\n",
       "      <th>Budget</th>\n",
       "      <th>Profit</th>\n",
       "      <th>Year</th>\n",
       "      <th>release_date</th>\n",
       "      <th>Genres</th>\n",
       "      <th>Average Ratings</th>\n",
       "      <th>Profit Margin</th>\n",
       "      <th>Month</th>\n",
       "      <th>Seasons</th>\n",
       "    </tr>\n",
       "  </thead>\n",
       "  <tbody>\n",
       "    <tr>\n",
       "      <th>0</th>\n",
       "      <td>10 Cloverfield Lane</td>\n",
       "      <td>Par.</td>\n",
       "      <td>108286422</td>\n",
       "      <td>72082999</td>\n",
       "      <td>36203423</td>\n",
       "      <td>5000000</td>\n",
       "      <td>103286422</td>\n",
       "      <td>2016</td>\n",
       "      <td>2016-03-11</td>\n",
       "      <td>Drama,Horror,Mystery</td>\n",
       "      <td>7.2</td>\n",
       "      <td>0.953826</td>\n",
       "      <td>March</td>\n",
       "      <td>Spring</td>\n",
       "    </tr>\n",
       "    <tr>\n",
       "      <th>1</th>\n",
       "      <td>12 Strong</td>\n",
       "      <td>WB</td>\n",
       "      <td>71118378</td>\n",
       "      <td>45819713</td>\n",
       "      <td>25298665</td>\n",
       "      <td>35000000</td>\n",
       "      <td>36118378</td>\n",
       "      <td>2018</td>\n",
       "      <td>2018-01-19</td>\n",
       "      <td>Action,Drama,History</td>\n",
       "      <td>6.6</td>\n",
       "      <td>0.507863</td>\n",
       "      <td>January</td>\n",
       "      <td>Winter</td>\n",
       "    </tr>\n",
       "    <tr>\n",
       "      <th>2</th>\n",
       "      <td>12 Years a Slave</td>\n",
       "      <td>FoxS</td>\n",
       "      <td>181025343</td>\n",
       "      <td>56671993</td>\n",
       "      <td>124353350</td>\n",
       "      <td>20000000</td>\n",
       "      <td>161025343</td>\n",
       "      <td>2013</td>\n",
       "      <td>2013-10-18</td>\n",
       "      <td>Biography,Drama,History</td>\n",
       "      <td>8.1</td>\n",
       "      <td>0.889518</td>\n",
       "      <td>October</td>\n",
       "      <td>Fall</td>\n",
       "    </tr>\n",
       "    <tr>\n",
       "      <th>3</th>\n",
       "      <td>127 Hours</td>\n",
       "      <td>FoxS</td>\n",
       "      <td>60217171</td>\n",
       "      <td>18335230</td>\n",
       "      <td>41881941</td>\n",
       "      <td>18000000</td>\n",
       "      <td>42217171</td>\n",
       "      <td>2010</td>\n",
       "      <td>2010-11-05</td>\n",
       "      <td>Adventure,Biography,Drama</td>\n",
       "      <td>7.6</td>\n",
       "      <td>0.701082</td>\n",
       "      <td>November</td>\n",
       "      <td>Fall</td>\n",
       "    </tr>\n",
       "    <tr>\n",
       "      <th>4</th>\n",
       "      <td>13 Hours: The Secret Soldiers of Benghazi</td>\n",
       "      <td>Par.</td>\n",
       "      <td>69411370</td>\n",
       "      <td>52853219</td>\n",
       "      <td>16558151</td>\n",
       "      <td>50000000</td>\n",
       "      <td>19411370</td>\n",
       "      <td>2016</td>\n",
       "      <td>2016-01-15</td>\n",
       "      <td>None</td>\n",
       "      <td>NaN</td>\n",
       "      <td>0.279657</td>\n",
       "      <td>January</td>\n",
       "      <td>Winter</td>\n",
       "    </tr>\n",
       "    <tr>\n",
       "      <th>...</th>\n",
       "      <td>...</td>\n",
       "      <td>...</td>\n",
       "      <td>...</td>\n",
       "      <td>...</td>\n",
       "      <td>...</td>\n",
       "      <td>...</td>\n",
       "      <td>...</td>\n",
       "      <td>...</td>\n",
       "      <td>...</td>\n",
       "      <td>...</td>\n",
       "      <td>...</td>\n",
       "      <td>...</td>\n",
       "      <td>...</td>\n",
       "      <td>...</td>\n",
       "    </tr>\n",
       "    <tr>\n",
       "      <th>1250</th>\n",
       "      <td>Zookeeper</td>\n",
       "      <td>Sony</td>\n",
       "      <td>170805525</td>\n",
       "      <td>80360866</td>\n",
       "      <td>90444659</td>\n",
       "      <td>80000000</td>\n",
       "      <td>90805525</td>\n",
       "      <td>2011</td>\n",
       "      <td>2011-07-08</td>\n",
       "      <td>Comedy,Family,Romance</td>\n",
       "      <td>5.2</td>\n",
       "      <td>0.531631</td>\n",
       "      <td>July</td>\n",
       "      <td>Summer</td>\n",
       "    </tr>\n",
       "    <tr>\n",
       "      <th>1251</th>\n",
       "      <td>Zoolander 2</td>\n",
       "      <td>Par.</td>\n",
       "      <td>55348693</td>\n",
       "      <td>28848693</td>\n",
       "      <td>26500000</td>\n",
       "      <td>50000000</td>\n",
       "      <td>5348693</td>\n",
       "      <td>2016</td>\n",
       "      <td>2016-02-12</td>\n",
       "      <td>Comedy</td>\n",
       "      <td>4.7</td>\n",
       "      <td>0.096636</td>\n",
       "      <td>February</td>\n",
       "      <td>Winter</td>\n",
       "    </tr>\n",
       "    <tr>\n",
       "      <th>1252</th>\n",
       "      <td>Zootopia</td>\n",
       "      <td>BV</td>\n",
       "      <td>1019429616</td>\n",
       "      <td>341268248</td>\n",
       "      <td>678161368</td>\n",
       "      <td>150000000</td>\n",
       "      <td>869429616</td>\n",
       "      <td>2016</td>\n",
       "      <td>2016-03-04</td>\n",
       "      <td>Adventure,Animation,Comedy</td>\n",
       "      <td>8.0</td>\n",
       "      <td>0.852859</td>\n",
       "      <td>March</td>\n",
       "      <td>Spring</td>\n",
       "    </tr>\n",
       "    <tr>\n",
       "      <th>1253</th>\n",
       "      <td>[Rec] 2</td>\n",
       "      <td>Magn.</td>\n",
       "      <td>18527766</td>\n",
       "      <td>27766</td>\n",
       "      <td>18500000</td>\n",
       "      <td>5600000</td>\n",
       "      <td>12927766</td>\n",
       "      <td>2010</td>\n",
       "      <td>2010-07-09</td>\n",
       "      <td>None</td>\n",
       "      <td>NaN</td>\n",
       "      <td>0.697751</td>\n",
       "      <td>July</td>\n",
       "      <td>Summer</td>\n",
       "    </tr>\n",
       "    <tr>\n",
       "      <th>1254</th>\n",
       "      <td>mother!</td>\n",
       "      <td>Par.</td>\n",
       "      <td>42531076</td>\n",
       "      <td>17800004</td>\n",
       "      <td>24731072</td>\n",
       "      <td>30000000</td>\n",
       "      <td>12531076</td>\n",
       "      <td>2017</td>\n",
       "      <td>2017-09-15</td>\n",
       "      <td>None</td>\n",
       "      <td>NaN</td>\n",
       "      <td>0.294633</td>\n",
       "      <td>September</td>\n",
       "      <td>Fall</td>\n",
       "    </tr>\n",
       "  </tbody>\n",
       "</table>\n",
       "<p>1255 rows × 14 columns</p>\n",
       "</div>"
      ],
      "text/plain": [
       "                                          Movie Studio  TNWorlwideGross  \\\n",
       "0                           10 Cloverfield Lane   Par.        108286422   \n",
       "1                                     12 Strong     WB         71118378   \n",
       "2                              12 Years a Slave   FoxS        181025343   \n",
       "3                                     127 Hours   FoxS         60217171   \n",
       "4     13 Hours: The Secret Soldiers of Benghazi   Par.         69411370   \n",
       "...                                         ...    ...              ...   \n",
       "1250                                  Zookeeper   Sony        170805525   \n",
       "1251                                Zoolander 2   Par.         55348693   \n",
       "1252                                   Zootopia     BV       1019429616   \n",
       "1253                                    [Rec] 2  Magn.         18527766   \n",
       "1254                                    mother!   Par.         42531076   \n",
       "\n",
       "      TNDomesticGross  ComputedForeignGross     Budget     Profit  Year  \\\n",
       "0            72082999              36203423    5000000  103286422  2016   \n",
       "1            45819713              25298665   35000000   36118378  2018   \n",
       "2            56671993             124353350   20000000  161025343  2013   \n",
       "3            18335230              41881941   18000000   42217171  2010   \n",
       "4            52853219              16558151   50000000   19411370  2016   \n",
       "...               ...                   ...        ...        ...   ...   \n",
       "1250         80360866              90444659   80000000   90805525  2011   \n",
       "1251         28848693              26500000   50000000    5348693  2016   \n",
       "1252        341268248             678161368  150000000  869429616  2016   \n",
       "1253            27766              18500000    5600000   12927766  2010   \n",
       "1254         17800004              24731072   30000000   12531076  2017   \n",
       "\n",
       "     release_date                      Genres  Average Ratings  Profit Margin  \\\n",
       "0      2016-03-11        Drama,Horror,Mystery              7.2       0.953826   \n",
       "1      2018-01-19        Action,Drama,History              6.6       0.507863   \n",
       "2      2013-10-18     Biography,Drama,History              8.1       0.889518   \n",
       "3      2010-11-05   Adventure,Biography,Drama              7.6       0.701082   \n",
       "4      2016-01-15                        None              NaN       0.279657   \n",
       "...           ...                         ...              ...            ...   \n",
       "1250   2011-07-08       Comedy,Family,Romance              5.2       0.531631   \n",
       "1251   2016-02-12                      Comedy              4.7       0.096636   \n",
       "1252   2016-03-04  Adventure,Animation,Comedy              8.0       0.852859   \n",
       "1253   2010-07-09                        None              NaN       0.697751   \n",
       "1254   2017-09-15                        None              NaN       0.294633   \n",
       "\n",
       "          Month Seasons  \n",
       "0         March  Spring  \n",
       "1       January  Winter  \n",
       "2       October    Fall  \n",
       "3      November    Fall  \n",
       "4       January  Winter  \n",
       "...         ...     ...  \n",
       "1250       July  Summer  \n",
       "1251   February  Winter  \n",
       "1252      March  Spring  \n",
       "1253       July  Summer  \n",
       "1254  September    Fall  \n",
       "\n",
       "[1255 rows x 14 columns]"
      ]
     },
     "execution_count": 135,
     "metadata": {},
     "output_type": "execute_result"
    }
   ],
   "source": [
    "df['Profit Margin'] = df['Profit'] / df['TNWorlwideGross'] # calcualte profit margins\n",
    "df"
   ]
  },
  {
   "cell_type": "code",
   "execution_count": null,
   "metadata": {},
   "outputs": [],
   "source": [
    "# Converting to Seasons\n",
    "mapping = {'January':'Winter','February':'Winter','March':'Spring', 'April':'Spring','May':'Spring', 'June':'Summer',\n",
    "                'July':'Summer','August':'Summer','September':'Fall','October':'Fall','November':'Fall','December':'Winter'}\n",
    "df['Seasons'] = df['Month'].map(mapping)\n",
    "df"
   ]
  },
  {
   "cell_type": "code",
   "execution_count": 141,
   "metadata": {},
   "outputs": [
    {
     "data": {
      "text/html": [
       "<div>\n",
       "<style scoped>\n",
       "    .dataframe tbody tr th:only-of-type {\n",
       "        vertical-align: middle;\n",
       "    }\n",
       "\n",
       "    .dataframe tbody tr th {\n",
       "        vertical-align: top;\n",
       "    }\n",
       "\n",
       "    .dataframe thead th {\n",
       "        text-align: right;\n",
       "    }\n",
       "</style>\n",
       "<table border=\"1\" class=\"dataframe\">\n",
       "  <thead>\n",
       "    <tr style=\"text-align: right;\">\n",
       "      <th></th>\n",
       "      <th>index</th>\n",
       "      <th>Movie</th>\n",
       "      <th>Studio</th>\n",
       "      <th>TNWorlwideGross</th>\n",
       "      <th>TNDomesticGross</th>\n",
       "      <th>ComputedForeignGross</th>\n",
       "      <th>Budget</th>\n",
       "      <th>Profit</th>\n",
       "      <th>Year</th>\n",
       "      <th>release_date</th>\n",
       "      <th>Genres</th>\n",
       "      <th>Average Ratings</th>\n",
       "      <th>Profit Margin</th>\n",
       "      <th>Month</th>\n",
       "      <th>Seasons</th>\n",
       "    </tr>\n",
       "  </thead>\n",
       "  <tbody>\n",
       "    <tr>\n",
       "      <th>0</th>\n",
       "      <td>967</td>\n",
       "      <td>The Gallows</td>\n",
       "      <td>WB (NL)</td>\n",
       "      <td>41656474</td>\n",
       "      <td>22764410</td>\n",
       "      <td>18892064</td>\n",
       "      <td>100000</td>\n",
       "      <td>41556474</td>\n",
       "      <td>2015</td>\n",
       "      <td>2015-07-10</td>\n",
       "      <td>Horror,Mystery,Thriller</td>\n",
       "      <td>4.2</td>\n",
       "      <td>0.997599</td>\n",
       "      <td>July</td>\n",
       "      <td>Summer</td>\n",
       "    </tr>\n",
       "    <tr>\n",
       "      <th>1</th>\n",
       "      <td>929</td>\n",
       "      <td>The Devil Inside</td>\n",
       "      <td>Par.</td>\n",
       "      <td>101759490</td>\n",
       "      <td>53262945</td>\n",
       "      <td>48496545</td>\n",
       "      <td>1000000</td>\n",
       "      <td>100759490</td>\n",
       "      <td>2012</td>\n",
       "      <td>2012-01-06</td>\n",
       "      <td>Horror</td>\n",
       "      <td>4.2</td>\n",
       "      <td>0.990173</td>\n",
       "      <td>January</td>\n",
       "      <td>Winter</td>\n",
       "    </tr>\n",
       "    <tr>\n",
       "      <th>2</th>\n",
       "      <td>436</td>\n",
       "      <td>Insidious</td>\n",
       "      <td>FD</td>\n",
       "      <td>99870886</td>\n",
       "      <td>54009150</td>\n",
       "      <td>45861736</td>\n",
       "      <td>1500000</td>\n",
       "      <td>98370886</td>\n",
       "      <td>2011</td>\n",
       "      <td>2011-04-01</td>\n",
       "      <td>Horror,Mystery,Thriller</td>\n",
       "      <td>6.9</td>\n",
       "      <td>0.984981</td>\n",
       "      <td>April</td>\n",
       "      <td>Spring</td>\n",
       "    </tr>\n",
       "    <tr>\n",
       "      <th>3</th>\n",
       "      <td>1179</td>\n",
       "      <td>Unfriended</td>\n",
       "      <td>Uni.</td>\n",
       "      <td>64364198</td>\n",
       "      <td>32789645</td>\n",
       "      <td>31574553</td>\n",
       "      <td>1000000</td>\n",
       "      <td>63364198</td>\n",
       "      <td>2015</td>\n",
       "      <td>2015-04-17</td>\n",
       "      <td>Horror,Mystery,Thriller</td>\n",
       "      <td>5.6</td>\n",
       "      <td>0.984463</td>\n",
       "      <td>April</td>\n",
       "      <td>Spring</td>\n",
       "    </tr>\n",
       "    <tr>\n",
       "      <th>4</th>\n",
       "      <td>667</td>\n",
       "      <td>Paranormal Activity 2</td>\n",
       "      <td>Par.</td>\n",
       "      <td>177512032</td>\n",
       "      <td>84752907</td>\n",
       "      <td>92759125</td>\n",
       "      <td>3000000</td>\n",
       "      <td>174512032</td>\n",
       "      <td>2010</td>\n",
       "      <td>2010-10-20</td>\n",
       "      <td>Horror</td>\n",
       "      <td>5.7</td>\n",
       "      <td>0.983100</td>\n",
       "      <td>October</td>\n",
       "      <td>Fall</td>\n",
       "    </tr>\n",
       "  </tbody>\n",
       "</table>\n",
       "</div>"
      ],
      "text/plain": [
       "   index                  Movie   Studio  TNWorlwideGross  TNDomesticGross  \\\n",
       "0    967            The Gallows  WB (NL)         41656474         22764410   \n",
       "1    929       The Devil Inside     Par.        101759490         53262945   \n",
       "2    436              Insidious       FD         99870886         54009150   \n",
       "3   1179             Unfriended     Uni.         64364198         32789645   \n",
       "4    667  Paranormal Activity 2     Par.        177512032         84752907   \n",
       "\n",
       "   ComputedForeignGross   Budget     Profit  Year release_date  \\\n",
       "0              18892064   100000   41556474  2015   2015-07-10   \n",
       "1              48496545  1000000  100759490  2012   2012-01-06   \n",
       "2              45861736  1500000   98370886  2011   2011-04-01   \n",
       "3              31574553  1000000   63364198  2015   2015-04-17   \n",
       "4              92759125  3000000  174512032  2010   2010-10-20   \n",
       "\n",
       "                    Genres  Average Ratings  Profit Margin    Month Seasons  \n",
       "0  Horror,Mystery,Thriller              4.2       0.997599     July  Summer  \n",
       "1                   Horror              4.2       0.990173  January  Winter  \n",
       "2  Horror,Mystery,Thriller              6.9       0.984981    April  Spring  \n",
       "3  Horror,Mystery,Thriller              5.6       0.984463    April  Spring  \n",
       "4                   Horror              5.7       0.983100  October    Fall  "
      ]
     },
     "execution_count": 141,
     "metadata": {},
     "output_type": "execute_result"
    }
   ],
   "source": [
    "# create a df of only movies thatmade profit and sort them \n",
    "profitable_movies = df.loc[df['Profit'] > 0]\n",
    "profitable_ranked = profitable_movies.sort_values(by=['Profit Margin'], ascending=False)\n",
    "profitable_ranked.reset_index(inplace=True)\n",
    "profitable_ranked.head()"
   ]
  },
  {
   "cell_type": "code",
   "execution_count": 142,
   "metadata": {},
   "outputs": [
    {
     "data": {
      "image/png": "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\n",
      "text/plain": [
       "<Figure size 1008x504 with 1 Axes>"
      ]
     },
     "metadata": {
      "needs_background": "light"
     },
     "output_type": "display_data"
    }
   ],
   "source": [
    "# Create a scatter plot \n",
    "\n",
    "ax1 = sns.lmplot(x='Budget', y='Profit', data=profitable_ranked, height=7, aspect=2)\n",
    "plt.xlabel('Budget (Millions of Dollars)', fontsize=12)\n",
    "plt.ticklabel_format(axis='x', style='sci', scilimits=(6,6))\n",
    "plt.ylabel('Profit (Billions of Dollars)', fontsize=12)\n",
    "plt.title('Budget vs Profit for Profitable Movies', fontsize=14)\n",
    "plt.savefig('BudgetVsProfit');"
   ]
  },
  {
   "cell_type": "markdown",
   "metadata": {},
   "source": [
    " From the graph, there is a positve trend between profit and budget indicating that as we increase budget, profit increases"
   ]
  },
  {
   "cell_type": "code",
   "execution_count": 143,
   "metadata": {},
   "outputs": [
    {
     "data": {
      "image/png": "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\n",
      "text/plain": [
       "<Figure size 1080x864 with 1 Axes>"
      ]
     },
     "metadata": {
      "needs_background": "light"
     },
     "output_type": "display_data"
    }
   ],
   "source": [
    "plt.figure(figsize=(15,12))\n",
    "sns.barplot(x=profitable_ranked.loc[0:10, 'Profit'],y=profitable_ranked.loc[0:10, 'Movie'], \n",
    "            color='purple', label='Profit', ci=None)\n",
    "sns.barplot(x=profitable_ranked.loc[0:10, 'Budget'],y=profitable_ranked.loc[0:10, 'Movie'], \n",
    "            color='blue', label='Budget', ci=None)\n",
    "plt.xlabel('Profit (Billions of Dollars)', fontsize=12)\n",
    "plt.title(\"Profits and Budgets for the 10 Most Profitable Movies\", fontsize=14)\n",
    "plt.ylabel('Movie', fontsize=12)\n",
    "plt.xticks(rotation=0, horizontalalignment='right', fontsize=12)\n",
    "plt.legend(fontsize=12)\n",
    "plt.savefig('ProfitBudgetTop25');\n"
   ]
  },
  {
   "cell_type": "markdown",
   "metadata": {},
   "source": [
    "Foot note: Data is from 2010 to 2018"
   ]
  },
  {
   "cell_type": "code",
   "execution_count": 140,
   "metadata": {},
   "outputs": [
    {
     "data": {
      "text/html": [
       "<div>\n",
       "<style scoped>\n",
       "    .dataframe tbody tr th:only-of-type {\n",
       "        vertical-align: middle;\n",
       "    }\n",
       "\n",
       "    .dataframe tbody tr th {\n",
       "        vertical-align: top;\n",
       "    }\n",
       "\n",
       "    .dataframe thead th {\n",
       "        text-align: right;\n",
       "    }\n",
       "</style>\n",
       "<table border=\"1\" class=\"dataframe\">\n",
       "  <thead>\n",
       "    <tr style=\"text-align: right;\">\n",
       "      <th></th>\n",
       "      <th>index</th>\n",
       "      <th>Movie</th>\n",
       "      <th>Studio</th>\n",
       "      <th>TNWorlwideGross</th>\n",
       "      <th>TNDomesticGross</th>\n",
       "      <th>ComputedForeignGross</th>\n",
       "      <th>Budget</th>\n",
       "      <th>Profit</th>\n",
       "      <th>Year</th>\n",
       "      <th>release_date</th>\n",
       "      <th>Genres</th>\n",
       "      <th>Average Ratings</th>\n",
       "      <th>Profit Margin</th>\n",
       "    </tr>\n",
       "  </thead>\n",
       "  <tbody>\n",
       "    <tr>\n",
       "      <th>0</th>\n",
       "      <td>967</td>\n",
       "      <td>The Gallows</td>\n",
       "      <td>WB (NL)</td>\n",
       "      <td>41656474</td>\n",
       "      <td>22764410</td>\n",
       "      <td>18892064</td>\n",
       "      <td>100000</td>\n",
       "      <td>41556474</td>\n",
       "      <td>2015</td>\n",
       "      <td>7/10/2015</td>\n",
       "      <td>NaN</td>\n",
       "      <td>4.2</td>\n",
       "      <td>0.997599</td>\n",
       "    </tr>\n",
       "    <tr>\n",
       "      <th>1</th>\n",
       "      <td>929</td>\n",
       "      <td>The Devil Inside</td>\n",
       "      <td>Par.</td>\n",
       "      <td>101759490</td>\n",
       "      <td>53262945</td>\n",
       "      <td>48496545</td>\n",
       "      <td>1000000</td>\n",
       "      <td>100759490</td>\n",
       "      <td>2012</td>\n",
       "      <td>1/6/2012</td>\n",
       "      <td>NaN</td>\n",
       "      <td>4.2</td>\n",
       "      <td>0.990173</td>\n",
       "    </tr>\n",
       "    <tr>\n",
       "      <th>2</th>\n",
       "      <td>436</td>\n",
       "      <td>Insidious</td>\n",
       "      <td>FD</td>\n",
       "      <td>99870886</td>\n",
       "      <td>54009150</td>\n",
       "      <td>45861736</td>\n",
       "      <td>1500000</td>\n",
       "      <td>98370886</td>\n",
       "      <td>2011</td>\n",
       "      <td>4/1/2011</td>\n",
       "      <td>NaN</td>\n",
       "      <td>6.9</td>\n",
       "      <td>0.984981</td>\n",
       "    </tr>\n",
       "    <tr>\n",
       "      <th>3</th>\n",
       "      <td>1179</td>\n",
       "      <td>Unfriended</td>\n",
       "      <td>Uni.</td>\n",
       "      <td>64364198</td>\n",
       "      <td>32789645</td>\n",
       "      <td>31574553</td>\n",
       "      <td>1000000</td>\n",
       "      <td>63364198</td>\n",
       "      <td>2015</td>\n",
       "      <td>4/17/2015</td>\n",
       "      <td>NaN</td>\n",
       "      <td>5.6</td>\n",
       "      <td>0.984463</td>\n",
       "    </tr>\n",
       "    <tr>\n",
       "      <th>4</th>\n",
       "      <td>667</td>\n",
       "      <td>Paranormal Activity 2</td>\n",
       "      <td>Par.</td>\n",
       "      <td>177512032</td>\n",
       "      <td>84752907</td>\n",
       "      <td>92759125</td>\n",
       "      <td>3000000</td>\n",
       "      <td>174512032</td>\n",
       "      <td>2010</td>\n",
       "      <td>10/20/2010</td>\n",
       "      <td>NaN</td>\n",
       "      <td>5.7</td>\n",
       "      <td>0.983100</td>\n",
       "    </tr>\n",
       "  </tbody>\n",
       "</table>\n",
       "</div>"
      ],
      "text/plain": [
       "   index                  Movie   Studio  TNWorlwideGross  TNDomesticGross  \\\n",
       "0    967            The Gallows  WB (NL)         41656474         22764410   \n",
       "1    929       The Devil Inside     Par.        101759490         53262945   \n",
       "2    436              Insidious       FD         99870886         54009150   \n",
       "3   1179             Unfriended     Uni.         64364198         32789645   \n",
       "4    667  Paranormal Activity 2     Par.        177512032         84752907   \n",
       "\n",
       "   ComputedForeignGross   Budget     Profit  Year release_date  Genres  \\\n",
       "0              18892064   100000   41556474  2015    7/10/2015     NaN   \n",
       "1              48496545  1000000  100759490  2012     1/6/2012     NaN   \n",
       "2              45861736  1500000   98370886  2011     4/1/2011     NaN   \n",
       "3              31574553  1000000   63364198  2015    4/17/2015     NaN   \n",
       "4              92759125  3000000  174512032  2010   10/20/2010     NaN   \n",
       "\n",
       "   Average Ratings  Profit Margin  \n",
       "0              4.2       0.997599  \n",
       "1              4.2       0.990173  \n",
       "2              6.9       0.984981  \n",
       "3              5.6       0.984463  \n",
       "4              5.7       0.983100  "
      ]
     },
     "execution_count": 140,
     "metadata": {},
     "output_type": "execute_result"
    }
   ],
   "source": [
    "profitable_ranked.head()"
   ]
  },
  {
   "cell_type": "markdown",
   "metadata": {},
   "source": [
    "https://www.the-numbers.com/market/2010/summary"
   ]
  },
  {
   "cell_type": "code",
   "execution_count": 74,
   "metadata": {},
   "outputs": [
    {
     "name": "stdout",
     "output_type": "stream",
     "text": [
      "The profit margin for all movies produced on average is   0.5943644953521314\n",
      "on average, the profit margin for all profit making movies produced is   0.6719939621492406\n"
     ]
    }
   ],
   "source": [
    "print('The profit margin for all movies produced on average is ' \" \",df['Profit Margin'].median() )\n",
    "print('on average, the profit margin for all profit making movies produced is ' \" \", profitable_ranked['Profit Margin'].median() )"
   ]
  },
  {
   "cell_type": "code",
   "execution_count": 77,
   "metadata": {},
   "outputs": [
    {
     "name": "stdout",
     "output_type": "stream",
     "text": [
      " top 10 profitable movies  0.982588164638312\n",
      " top 15 profitable movies  0.9764216123179722\n",
      " top 20 profitable movies  0.9745205933845691\n"
     ]
    }
   ],
   "source": [
    "print(' top 10 profitable movies' \" \", profitable_ranked.loc[0:9, 'Profit Margin'].median() )# why we chose first 10\n",
    "print(' top 15 profitable movies' \" \", profitable_ranked.loc[0:14, 'Profit Margin'].median() )# why we chose first 15\n",
    "print(' top 20 profitable movies' \" \", profitable_ranked.loc[0:19, 'Profit Margin'].median() )# why we chose first 20"
   ]
  },
  {
   "cell_type": "code",
   "execution_count": 63,
   "metadata": {},
   "outputs": [
    {
     "name": "stdout",
     "output_type": "stream",
     "text": [
      " top 10 profitable movies  100759490.0\n",
      " top 15 profitable movies  122283000.0\n",
      " top 20 profitable movies  98370886.0\n"
     ]
    }
   ],
   "source": [
    "print(' top 10 profitable movies' \" \", profitable_ranked.loc[0:9, 'Profit'].median() )# why we chose first 10\n",
    "print(' top 15 profitable movies' \" \", profitable_ranked.loc[0:14, 'Profit'].median() )# why we chose first 15\n",
    "print(' top 20 profitable movies' \" \", profitable_ranked.loc[0:19, 'Profit'].median() )# why we chose first 20"
   ]
  },
  {
   "cell_type": "code",
   "execution_count": 144,
   "metadata": {},
   "outputs": [],
   "source": [
    "Top_10_profitable = profitable_ranked.head(10)"
   ]
  },
  {
   "cell_type": "code",
   "execution_count": 101,
   "metadata": {},
   "outputs": [
    {
     "data": {
      "text/plain": [
       "<pandas.core.groupby.generic.DataFrameGroupBy object at 0x000001E7A6C57790>"
      ]
     },
     "execution_count": 101,
     "metadata": {},
     "output_type": "execute_result"
    }
   ],
   "source": [
    "profitable_ranked.groupby('Studio')"
=======
   "metadata": {},
   "outputs": [],
   "source": [
    "df1"
>>>>>>> origin
   ]
  },
  {
   "cell_type": "code",
<<<<<<< HEAD
   "execution_count": 136,
   "metadata": {},
   "outputs": [
    {
     "ename": "AttributeError",
     "evalue": "'Series' object has no attribute 'sort_value'",
     "output_type": "error",
     "traceback": [
      "\u001b[1;31m---------------------------------------------------------------------------\u001b[0m",
      "\u001b[1;31mAttributeError\u001b[0m                            Traceback (most recent call last)",
      "\u001b[1;32m<ipython-input-136-5db87341499d>\u001b[0m in \u001b[0;36m<module>\u001b[1;34m\u001b[0m\n\u001b[1;32m----> 1\u001b[1;33m \u001b[0mtop_10_profitable\u001b[0m\u001b[1;33m=\u001b[0m \u001b[0mprofitable_ranked\u001b[0m\u001b[1;33m.\u001b[0m\u001b[0mloc\u001b[0m\u001b[1;33m[\u001b[0m\u001b[1;36m0\u001b[0m\u001b[1;33m:\u001b[0m\u001b[1;36m9\u001b[0m\u001b[1;33m,\u001b[0m \u001b[1;34m'Profit Margin'\u001b[0m\u001b[1;33m]\u001b[0m\u001b[1;33m.\u001b[0m\u001b[0msort_value\u001b[0m\u001b[1;33m\u001b[0m\u001b[1;33m\u001b[0m\u001b[0m\n\u001b[0m",
      "\u001b[1;32m~\\Anaconda3\\Ana\\envs\\learn-env\\lib\\site-packages\\pandas\\core\\generic.py\u001b[0m in \u001b[0;36m__getattr__\u001b[1;34m(self, name)\u001b[0m\n\u001b[0;32m   5137\u001b[0m             \u001b[1;32mif\u001b[0m \u001b[0mself\u001b[0m\u001b[1;33m.\u001b[0m\u001b[0m_info_axis\u001b[0m\u001b[1;33m.\u001b[0m\u001b[0m_can_hold_identifiers_and_holds_name\u001b[0m\u001b[1;33m(\u001b[0m\u001b[0mname\u001b[0m\u001b[1;33m)\u001b[0m\u001b[1;33m:\u001b[0m\u001b[1;33m\u001b[0m\u001b[1;33m\u001b[0m\u001b[0m\n\u001b[0;32m   5138\u001b[0m                 \u001b[1;32mreturn\u001b[0m \u001b[0mself\u001b[0m\u001b[1;33m[\u001b[0m\u001b[0mname\u001b[0m\u001b[1;33m]\u001b[0m\u001b[1;33m\u001b[0m\u001b[1;33m\u001b[0m\u001b[0m\n\u001b[1;32m-> 5139\u001b[1;33m             \u001b[1;32mreturn\u001b[0m \u001b[0mobject\u001b[0m\u001b[1;33m.\u001b[0m\u001b[0m__getattribute__\u001b[0m\u001b[1;33m(\u001b[0m\u001b[0mself\u001b[0m\u001b[1;33m,\u001b[0m \u001b[0mname\u001b[0m\u001b[1;33m)\u001b[0m\u001b[1;33m\u001b[0m\u001b[1;33m\u001b[0m\u001b[0m\n\u001b[0m\u001b[0;32m   5140\u001b[0m \u001b[1;33m\u001b[0m\u001b[0m\n\u001b[0;32m   5141\u001b[0m     \u001b[1;32mdef\u001b[0m \u001b[0m__setattr__\u001b[0m\u001b[1;33m(\u001b[0m\u001b[0mself\u001b[0m\u001b[1;33m,\u001b[0m \u001b[0mname\u001b[0m\u001b[1;33m:\u001b[0m \u001b[0mstr\u001b[0m\u001b[1;33m,\u001b[0m \u001b[0mvalue\u001b[0m\u001b[1;33m)\u001b[0m \u001b[1;33m->\u001b[0m \u001b[1;32mNone\u001b[0m\u001b[1;33m:\u001b[0m\u001b[1;33m\u001b[0m\u001b[1;33m\u001b[0m\u001b[0m\n",
      "\u001b[1;31mAttributeError\u001b[0m: 'Series' object has no attribute 'sort_value'"
     ]
    }
   ],
   "source": [
    "top_10_profitable= profitable_ranked.loc[0:9, 'Profit Margin'].sort_value"
   ]
  },
  {
   "cell_type": "markdown",
   "metadata": {},
   "source": [
    "Business 2: D"
=======
   "execution_count": null,
   "metadata": {},
   "outputs": [],
   "source": [
    "df.corr()"
>>>>>>> origin
   ]
  },
  {
   "cell_type": "code",
<<<<<<< HEAD
   "execution_count": 116,
   "metadata": {},
   "outputs": [
    {
     "ename": "KeyError",
     "evalue": "'Genre'",
     "output_type": "error",
     "traceback": [
      "\u001b[1;31m---------------------------------------------------------------------------\u001b[0m",
      "\u001b[1;31mKeyError\u001b[0m                                  Traceback (most recent call last)",
      "\u001b[1;32m~\\Anaconda3\\Ana\\envs\\learn-env\\lib\\site-packages\\pandas\\core\\indexes\\base.py\u001b[0m in \u001b[0;36mget_loc\u001b[1;34m(self, key, method, tolerance)\u001b[0m\n\u001b[0;32m   2894\u001b[0m             \u001b[1;32mtry\u001b[0m\u001b[1;33m:\u001b[0m\u001b[1;33m\u001b[0m\u001b[1;33m\u001b[0m\u001b[0m\n\u001b[1;32m-> 2895\u001b[1;33m                 \u001b[1;32mreturn\u001b[0m \u001b[0mself\u001b[0m\u001b[1;33m.\u001b[0m\u001b[0m_engine\u001b[0m\u001b[1;33m.\u001b[0m\u001b[0mget_loc\u001b[0m\u001b[1;33m(\u001b[0m\u001b[0mcasted_key\u001b[0m\u001b[1;33m)\u001b[0m\u001b[1;33m\u001b[0m\u001b[1;33m\u001b[0m\u001b[0m\n\u001b[0m\u001b[0;32m   2896\u001b[0m             \u001b[1;32mexcept\u001b[0m \u001b[0mKeyError\u001b[0m \u001b[1;32mas\u001b[0m \u001b[0merr\u001b[0m\u001b[1;33m:\u001b[0m\u001b[1;33m\u001b[0m\u001b[1;33m\u001b[0m\u001b[0m\n",
      "\u001b[1;32mpandas\\_libs\\index.pyx\u001b[0m in \u001b[0;36mpandas._libs.index.IndexEngine.get_loc\u001b[1;34m()\u001b[0m\n",
      "\u001b[1;32mpandas\\_libs\\index.pyx\u001b[0m in \u001b[0;36mpandas._libs.index.IndexEngine.get_loc\u001b[1;34m()\u001b[0m\n",
      "\u001b[1;32mpandas\\_libs\\hashtable_class_helper.pxi\u001b[0m in \u001b[0;36mpandas._libs.hashtable.PyObjectHashTable.get_item\u001b[1;34m()\u001b[0m\n",
      "\u001b[1;32mpandas\\_libs\\hashtable_class_helper.pxi\u001b[0m in \u001b[0;36mpandas._libs.hashtable.PyObjectHashTable.get_item\u001b[1;34m()\u001b[0m\n",
      "\u001b[1;31mKeyError\u001b[0m: 'Genre'",
      "\nThe above exception was the direct cause of the following exception:\n",
      "\u001b[1;31mKeyError\u001b[0m                                  Traceback (most recent call last)",
      "\u001b[1;32m<ipython-input-116-234b5695401d>\u001b[0m in \u001b[0;36m<module>\u001b[1;34m\u001b[0m\n\u001b[0;32m      1\u001b[0m \u001b[0mprofitable_ranked\u001b[0m\u001b[1;33m[\u001b[0m\u001b[1;34m'Genres'\u001b[0m\u001b[1;33m]\u001b[0m \u001b[1;33m=\u001b[0m \u001b[0mprofitable_ranked\u001b[0m\u001b[1;33m[\u001b[0m\u001b[1;34m'Genres'\u001b[0m\u001b[1;33m]\u001b[0m\u001b[1;33m.\u001b[0m\u001b[0mstr\u001b[0m\u001b[1;33m.\u001b[0m\u001b[0msplit\u001b[0m\u001b[1;33m(\u001b[0m\u001b[1;34m', '\u001b[0m\u001b[1;33m)\u001b[0m\u001b[1;33m\u001b[0m\u001b[1;33m\u001b[0m\u001b[0m\n\u001b[1;32m----> 2\u001b[1;33m \u001b[0mprofitable_ranked\u001b[0m\u001b[1;33m=\u001b[0m \u001b[0mprofitable_ranked\u001b[0m\u001b[1;33m[\u001b[0m\u001b[1;34m'Genre'\u001b[0m\u001b[1;33m]\u001b[0m\u001b[1;33m.\u001b[0m\u001b[0mapply\u001b[0m\u001b[1;33m(\u001b[0m\u001b[0mpd\u001b[0m\u001b[1;33m.\u001b[0m\u001b[0mSeries\u001b[0m\u001b[1;33m)\u001b[0m\u001b[1;33m\u001b[0m\u001b[1;33m\u001b[0m\u001b[0m\n\u001b[0m",
      "\u001b[1;32m~\\Anaconda3\\Ana\\envs\\learn-env\\lib\\site-packages\\pandas\\core\\frame.py\u001b[0m in \u001b[0;36m__getitem__\u001b[1;34m(self, key)\u001b[0m\n\u001b[0;32m   2900\u001b[0m             \u001b[1;32mif\u001b[0m \u001b[0mself\u001b[0m\u001b[1;33m.\u001b[0m\u001b[0mcolumns\u001b[0m\u001b[1;33m.\u001b[0m\u001b[0mnlevels\u001b[0m \u001b[1;33m>\u001b[0m \u001b[1;36m1\u001b[0m\u001b[1;33m:\u001b[0m\u001b[1;33m\u001b[0m\u001b[1;33m\u001b[0m\u001b[0m\n\u001b[0;32m   2901\u001b[0m                 \u001b[1;32mreturn\u001b[0m \u001b[0mself\u001b[0m\u001b[1;33m.\u001b[0m\u001b[0m_getitem_multilevel\u001b[0m\u001b[1;33m(\u001b[0m\u001b[0mkey\u001b[0m\u001b[1;33m)\u001b[0m\u001b[1;33m\u001b[0m\u001b[1;33m\u001b[0m\u001b[0m\n\u001b[1;32m-> 2902\u001b[1;33m             \u001b[0mindexer\u001b[0m \u001b[1;33m=\u001b[0m \u001b[0mself\u001b[0m\u001b[1;33m.\u001b[0m\u001b[0mcolumns\u001b[0m\u001b[1;33m.\u001b[0m\u001b[0mget_loc\u001b[0m\u001b[1;33m(\u001b[0m\u001b[0mkey\u001b[0m\u001b[1;33m)\u001b[0m\u001b[1;33m\u001b[0m\u001b[1;33m\u001b[0m\u001b[0m\n\u001b[0m\u001b[0;32m   2903\u001b[0m             \u001b[1;32mif\u001b[0m \u001b[0mis_integer\u001b[0m\u001b[1;33m(\u001b[0m\u001b[0mindexer\u001b[0m\u001b[1;33m)\u001b[0m\u001b[1;33m:\u001b[0m\u001b[1;33m\u001b[0m\u001b[1;33m\u001b[0m\u001b[0m\n\u001b[0;32m   2904\u001b[0m                 \u001b[0mindexer\u001b[0m \u001b[1;33m=\u001b[0m \u001b[1;33m[\u001b[0m\u001b[0mindexer\u001b[0m\u001b[1;33m]\u001b[0m\u001b[1;33m\u001b[0m\u001b[1;33m\u001b[0m\u001b[0m\n",
      "\u001b[1;32m~\\Anaconda3\\Ana\\envs\\learn-env\\lib\\site-packages\\pandas\\core\\indexes\\base.py\u001b[0m in \u001b[0;36mget_loc\u001b[1;34m(self, key, method, tolerance)\u001b[0m\n\u001b[0;32m   2895\u001b[0m                 \u001b[1;32mreturn\u001b[0m \u001b[0mself\u001b[0m\u001b[1;33m.\u001b[0m\u001b[0m_engine\u001b[0m\u001b[1;33m.\u001b[0m\u001b[0mget_loc\u001b[0m\u001b[1;33m(\u001b[0m\u001b[0mcasted_key\u001b[0m\u001b[1;33m)\u001b[0m\u001b[1;33m\u001b[0m\u001b[1;33m\u001b[0m\u001b[0m\n\u001b[0;32m   2896\u001b[0m             \u001b[1;32mexcept\u001b[0m \u001b[0mKeyError\u001b[0m \u001b[1;32mas\u001b[0m \u001b[0merr\u001b[0m\u001b[1;33m:\u001b[0m\u001b[1;33m\u001b[0m\u001b[1;33m\u001b[0m\u001b[0m\n\u001b[1;32m-> 2897\u001b[1;33m                 \u001b[1;32mraise\u001b[0m \u001b[0mKeyError\u001b[0m\u001b[1;33m(\u001b[0m\u001b[0mkey\u001b[0m\u001b[1;33m)\u001b[0m \u001b[1;32mfrom\u001b[0m \u001b[0merr\u001b[0m\u001b[1;33m\u001b[0m\u001b[1;33m\u001b[0m\u001b[0m\n\u001b[0m\u001b[0;32m   2898\u001b[0m \u001b[1;33m\u001b[0m\u001b[0m\n\u001b[0;32m   2899\u001b[0m         \u001b[1;32mif\u001b[0m \u001b[0mtolerance\u001b[0m \u001b[1;32mis\u001b[0m \u001b[1;32mnot\u001b[0m \u001b[1;32mNone\u001b[0m\u001b[1;33m:\u001b[0m\u001b[1;33m\u001b[0m\u001b[1;33m\u001b[0m\u001b[0m\n",
      "\u001b[1;31mKeyError\u001b[0m: 'Genre'"
     ]
    }
   ],
   "source": [
    "profitable_ranked['Genres'] = profitable_ranked['Genres'].str.split(', ')\n",
    "profitable_ranked= profitable_ranked['Genre'].apply(pd.Series)"
   ]
  },
  {
   "cell_type": "code",
   "execution_count": 115,
   "metadata": {},
   "outputs": [
    {
     "data": {
      "text/html": [
       "<div>\n",
       "<style scoped>\n",
       "    .dataframe tbody tr th:only-of-type {\n",
       "        vertical-align: middle;\n",
       "    }\n",
       "\n",
       "    .dataframe tbody tr th {\n",
       "        vertical-align: top;\n",
       "    }\n",
       "\n",
       "    .dataframe thead th {\n",
       "        text-align: right;\n",
       "    }\n",
       "</style>\n",
       "<table border=\"1\" class=\"dataframe\">\n",
       "  <thead>\n",
       "    <tr style=\"text-align: right;\">\n",
       "      <th></th>\n",
       "      <th>index</th>\n",
       "      <th>Movie</th>\n",
       "      <th>Studio</th>\n",
       "      <th>TNWorlwideGross</th>\n",
       "      <th>TNDomesticGross</th>\n",
       "      <th>ComputedForeignGross</th>\n",
       "      <th>Budget</th>\n",
       "      <th>Profit</th>\n",
       "      <th>Year</th>\n",
       "      <th>release_date</th>\n",
       "      <th>Genres</th>\n",
       "      <th>Average Ratings</th>\n",
       "      <th>Profit Margin</th>\n",
       "    </tr>\n",
       "  </thead>\n",
       "  <tbody>\n",
       "    <tr>\n",
       "      <th>0</th>\n",
       "      <td>967</td>\n",
       "      <td>The Gallows</td>\n",
       "      <td>WB (NL)</td>\n",
       "      <td>41656474</td>\n",
       "      <td>22764410</td>\n",
       "      <td>18892064</td>\n",
       "      <td>100000</td>\n",
       "      <td>41556474</td>\n",
       "      <td>2015</td>\n",
       "      <td>7/10/2015</td>\n",
       "      <td>[Horror,Mystery,Thriller]</td>\n",
       "      <td>4.2</td>\n",
       "      <td>0.997599</td>\n",
       "    </tr>\n",
       "    <tr>\n",
       "      <th>1</th>\n",
       "      <td>929</td>\n",
       "      <td>The Devil Inside</td>\n",
       "      <td>Par.</td>\n",
       "      <td>101759490</td>\n",
       "      <td>53262945</td>\n",
       "      <td>48496545</td>\n",
       "      <td>1000000</td>\n",
       "      <td>100759490</td>\n",
       "      <td>2012</td>\n",
       "      <td>1/6/2012</td>\n",
       "      <td>[Horror]</td>\n",
       "      <td>4.2</td>\n",
       "      <td>0.990173</td>\n",
       "    </tr>\n",
       "    <tr>\n",
       "      <th>2</th>\n",
       "      <td>436</td>\n",
       "      <td>Insidious</td>\n",
       "      <td>FD</td>\n",
       "      <td>99870886</td>\n",
       "      <td>54009150</td>\n",
       "      <td>45861736</td>\n",
       "      <td>1500000</td>\n",
       "      <td>98370886</td>\n",
       "      <td>2011</td>\n",
       "      <td>4/1/2011</td>\n",
       "      <td>[Horror,Mystery,Thriller]</td>\n",
       "      <td>6.9</td>\n",
       "      <td>0.984981</td>\n",
       "    </tr>\n",
       "    <tr>\n",
       "      <th>3</th>\n",
       "      <td>1179</td>\n",
       "      <td>Unfriended</td>\n",
       "      <td>Uni.</td>\n",
       "      <td>64364198</td>\n",
       "      <td>32789645</td>\n",
       "      <td>31574553</td>\n",
       "      <td>1000000</td>\n",
       "      <td>63364198</td>\n",
       "      <td>2015</td>\n",
       "      <td>4/17/2015</td>\n",
       "      <td>[Horror,Mystery,Thriller]</td>\n",
       "      <td>5.6</td>\n",
       "      <td>0.984463</td>\n",
       "    </tr>\n",
       "    <tr>\n",
       "      <th>4</th>\n",
       "      <td>667</td>\n",
       "      <td>Paranormal Activity 2</td>\n",
       "      <td>Par.</td>\n",
       "      <td>177512032</td>\n",
       "      <td>84752907</td>\n",
       "      <td>92759125</td>\n",
       "      <td>3000000</td>\n",
       "      <td>174512032</td>\n",
       "      <td>2010</td>\n",
       "      <td>10/20/2010</td>\n",
       "      <td>[Horror]</td>\n",
       "      <td>5.7</td>\n",
       "      <td>0.983100</td>\n",
       "    </tr>\n",
       "    <tr>\n",
       "      <th>...</th>\n",
       "      <td>...</td>\n",
       "      <td>...</td>\n",
       "      <td>...</td>\n",
       "      <td>...</td>\n",
       "      <td>...</td>\n",
       "      <td>...</td>\n",
       "      <td>...</td>\n",
       "      <td>...</td>\n",
       "      <td>...</td>\n",
       "      <td>...</td>\n",
       "      <td>...</td>\n",
       "      <td>...</td>\n",
       "      <td>...</td>\n",
       "    </tr>\n",
       "    <tr>\n",
       "      <th>991</th>\n",
       "      <td>867</td>\n",
       "      <td>That's My Boy</td>\n",
       "      <td>Sony</td>\n",
       "      <td>58085235</td>\n",
       "      <td>36931089</td>\n",
       "      <td>21154146</td>\n",
       "      <td>57500000</td>\n",
       "      <td>585235</td>\n",
       "      <td>2012</td>\n",
       "      <td>6/15/2012</td>\n",
       "      <td>[Comedy]</td>\n",
       "      <td>5.6</td>\n",
       "      <td>0.010075</td>\n",
       "    </tr>\n",
       "    <tr>\n",
       "      <th>992</th>\n",
       "      <td>663</td>\n",
       "      <td>Pan</td>\n",
       "      <td>WB</td>\n",
       "      <td>151525973</td>\n",
       "      <td>35088320</td>\n",
       "      <td>116437653</td>\n",
       "      <td>150000000</td>\n",
       "      <td>1525973</td>\n",
       "      <td>2015</td>\n",
       "      <td>10/9/2015</td>\n",
       "      <td>[Adventure,Comedy,Family]</td>\n",
       "      <td>5.8</td>\n",
       "      <td>0.010071</td>\n",
       "    </tr>\n",
       "    <tr>\n",
       "      <th>993</th>\n",
       "      <td>933</td>\n",
       "      <td>The Dilemma</td>\n",
       "      <td>Uni.</td>\n",
       "      <td>70546865</td>\n",
       "      <td>48475290</td>\n",
       "      <td>22071575</td>\n",
       "      <td>70000000</td>\n",
       "      <td>546865</td>\n",
       "      <td>2011</td>\n",
       "      <td>1/14/2011</td>\n",
       "      <td>[Comedy,Drama]</td>\n",
       "      <td>5.3</td>\n",
       "      <td>0.007752</td>\n",
       "    </tr>\n",
       "    <tr>\n",
       "      <th>994</th>\n",
       "      <td>832</td>\n",
       "      <td>Stoker</td>\n",
       "      <td>FoxS</td>\n",
       "      <td>12034913</td>\n",
       "      <td>1703125</td>\n",
       "      <td>10331788</td>\n",
       "      <td>12000000</td>\n",
       "      <td>34913</td>\n",
       "      <td>2013</td>\n",
       "      <td>3/1/2013</td>\n",
       "      <td>[Drama,Thriller]</td>\n",
       "      <td>6.8</td>\n",
       "      <td>0.002901</td>\n",
       "    </tr>\n",
       "    <tr>\n",
       "      <th>995</th>\n",
       "      <td>406</td>\n",
       "      <td>Hugo</td>\n",
       "      <td>Par.</td>\n",
       "      <td>180047784</td>\n",
       "      <td>73864507</td>\n",
       "      <td>106183277</td>\n",
       "      <td>180000000</td>\n",
       "      <td>47784</td>\n",
       "      <td>2011</td>\n",
       "      <td>11/23/2011</td>\n",
       "      <td>[Adventure,Drama,Family]</td>\n",
       "      <td>7.5</td>\n",
       "      <td>0.000265</td>\n",
       "    </tr>\n",
       "  </tbody>\n",
       "</table>\n",
       "<p>996 rows × 13 columns</p>\n",
       "</div>"
      ],
      "text/plain": [
       "     index                  Movie   Studio  TNWorlwideGross  TNDomesticGross  \\\n",
       "0      967            The Gallows  WB (NL)         41656474         22764410   \n",
       "1      929       The Devil Inside     Par.        101759490         53262945   \n",
       "2      436              Insidious       FD         99870886         54009150   \n",
       "3     1179             Unfriended     Uni.         64364198         32789645   \n",
       "4      667  Paranormal Activity 2     Par.        177512032         84752907   \n",
       "..     ...                    ...      ...              ...              ...   \n",
       "991    867          That's My Boy     Sony         58085235         36931089   \n",
       "992    663                    Pan       WB        151525973         35088320   \n",
       "993    933            The Dilemma     Uni.         70546865         48475290   \n",
       "994    832                 Stoker     FoxS         12034913          1703125   \n",
       "995    406                   Hugo     Par.        180047784         73864507   \n",
       "\n",
       "     ComputedForeignGross     Budget     Profit  Year release_date  \\\n",
       "0                18892064     100000   41556474  2015    7/10/2015   \n",
       "1                48496545    1000000  100759490  2012     1/6/2012   \n",
       "2                45861736    1500000   98370886  2011     4/1/2011   \n",
       "3                31574553    1000000   63364198  2015    4/17/2015   \n",
       "4                92759125    3000000  174512032  2010   10/20/2010   \n",
       "..                    ...        ...        ...   ...          ...   \n",
       "991              21154146   57500000     585235  2012    6/15/2012   \n",
       "992             116437653  150000000    1525973  2015    10/9/2015   \n",
       "993              22071575   70000000     546865  2011    1/14/2011   \n",
       "994              10331788   12000000      34913  2013     3/1/2013   \n",
       "995             106183277  180000000      47784  2011   11/23/2011   \n",
       "\n",
       "                        Genres  Average Ratings  Profit Margin  \n",
       "0    [Horror,Mystery,Thriller]              4.2       0.997599  \n",
       "1                     [Horror]              4.2       0.990173  \n",
       "2    [Horror,Mystery,Thriller]              6.9       0.984981  \n",
       "3    [Horror,Mystery,Thriller]              5.6       0.984463  \n",
       "4                     [Horror]              5.7       0.983100  \n",
       "..                         ...              ...            ...  \n",
       "991                   [Comedy]              5.6       0.010075  \n",
       "992  [Adventure,Comedy,Family]              5.8       0.010071  \n",
       "993             [Comedy,Drama]              5.3       0.007752  \n",
       "994           [Drama,Thriller]              6.8       0.002901  \n",
       "995   [Adventure,Drama,Family]              7.5       0.000265  \n",
       "\n",
       "[996 rows x 13 columns]"
      ]
     },
     "execution_count": 115,
     "metadata": {},
     "output_type": "execute_result"
    }
   ],
   "source": [
    "profitable_ranked"
   ]
  },
  {
   "cell_type": "markdown",
   "metadata": {},
   "source": [
    "# Business Question 3"
   ]
  },
  {
   "cell_type": "code",
   "execution_count": 119,
   "metadata": {},
   "outputs": [
    {
     "data": {
      "text/html": [
       "<div>\n",
       "<style scoped>\n",
       "    .dataframe tbody tr th:only-of-type {\n",
       "        vertical-align: middle;\n",
       "    }\n",
       "\n",
       "    .dataframe tbody tr th {\n",
       "        vertical-align: top;\n",
       "    }\n",
       "\n",
       "    .dataframe thead th {\n",
       "        text-align: right;\n",
       "    }\n",
       "</style>\n",
       "<table border=\"1\" class=\"dataframe\">\n",
       "  <thead>\n",
       "    <tr style=\"text-align: right;\">\n",
       "      <th></th>\n",
       "      <th>Movie</th>\n",
       "      <th>Studio</th>\n",
       "      <th>TNWorlwideGross</th>\n",
       "      <th>TNDomesticGross</th>\n",
       "      <th>ComputedForeignGross</th>\n",
       "      <th>Budget</th>\n",
       "      <th>Profit</th>\n",
       "      <th>Year</th>\n",
       "      <th>release_date</th>\n",
       "      <th>Genres</th>\n",
       "      <th>Average Ratings</th>\n",
       "      <th>Profit Margin</th>\n",
       "      <th>Month</th>\n",
       "    </tr>\n",
       "  </thead>\n",
       "  <tbody>\n",
       "    <tr>\n",
       "      <th>0</th>\n",
       "      <td>10 Cloverfield Lane</td>\n",
       "      <td>Par.</td>\n",
       "      <td>108286422</td>\n",
       "      <td>72082999</td>\n",
       "      <td>36203423</td>\n",
       "      <td>5000000</td>\n",
       "      <td>103286422</td>\n",
       "      <td>2016</td>\n",
       "      <td>2016-03-11</td>\n",
       "      <td>Drama,Horror,Mystery</td>\n",
       "      <td>7.2</td>\n",
       "      <td>0.953826</td>\n",
       "      <td>March</td>\n",
       "    </tr>\n",
       "    <tr>\n",
       "      <th>1</th>\n",
       "      <td>12 Strong</td>\n",
       "      <td>WB</td>\n",
       "      <td>71118378</td>\n",
       "      <td>45819713</td>\n",
       "      <td>25298665</td>\n",
       "      <td>35000000</td>\n",
       "      <td>36118378</td>\n",
       "      <td>2018</td>\n",
       "      <td>2018-01-19</td>\n",
       "      <td>Action,Drama,History</td>\n",
       "      <td>6.6</td>\n",
       "      <td>0.507863</td>\n",
       "      <td>January</td>\n",
       "    </tr>\n",
       "    <tr>\n",
       "      <th>2</th>\n",
       "      <td>12 Years a Slave</td>\n",
       "      <td>FoxS</td>\n",
       "      <td>181025343</td>\n",
       "      <td>56671993</td>\n",
       "      <td>124353350</td>\n",
       "      <td>20000000</td>\n",
       "      <td>161025343</td>\n",
       "      <td>2013</td>\n",
       "      <td>2013-10-18</td>\n",
       "      <td>Biography,Drama,History</td>\n",
       "      <td>8.1</td>\n",
       "      <td>0.889518</td>\n",
       "      <td>October</td>\n",
       "    </tr>\n",
       "    <tr>\n",
       "      <th>3</th>\n",
       "      <td>127 Hours</td>\n",
       "      <td>FoxS</td>\n",
       "      <td>60217171</td>\n",
       "      <td>18335230</td>\n",
       "      <td>41881941</td>\n",
       "      <td>18000000</td>\n",
       "      <td>42217171</td>\n",
       "      <td>2010</td>\n",
       "      <td>2010-11-05</td>\n",
       "      <td>Adventure,Biography,Drama</td>\n",
       "      <td>7.6</td>\n",
       "      <td>0.701082</td>\n",
       "      <td>November</td>\n",
       "    </tr>\n",
       "    <tr>\n",
       "      <th>4</th>\n",
       "      <td>13 Hours: The Secret Soldiers of Benghazi</td>\n",
       "      <td>Par.</td>\n",
       "      <td>69411370</td>\n",
       "      <td>52853219</td>\n",
       "      <td>16558151</td>\n",
       "      <td>50000000</td>\n",
       "      <td>19411370</td>\n",
       "      <td>2016</td>\n",
       "      <td>2016-01-15</td>\n",
       "      <td>None</td>\n",
       "      <td>NaN</td>\n",
       "      <td>0.279657</td>\n",
       "      <td>January</td>\n",
       "    </tr>\n",
       "    <tr>\n",
       "      <th>...</th>\n",
       "      <td>...</td>\n",
       "      <td>...</td>\n",
       "      <td>...</td>\n",
       "      <td>...</td>\n",
       "      <td>...</td>\n",
       "      <td>...</td>\n",
       "      <td>...</td>\n",
       "      <td>...</td>\n",
       "      <td>...</td>\n",
       "      <td>...</td>\n",
       "      <td>...</td>\n",
       "      <td>...</td>\n",
       "      <td>...</td>\n",
       "    </tr>\n",
       "    <tr>\n",
       "      <th>1250</th>\n",
       "      <td>Zookeeper</td>\n",
       "      <td>Sony</td>\n",
       "      <td>170805525</td>\n",
       "      <td>80360866</td>\n",
       "      <td>90444659</td>\n",
       "      <td>80000000</td>\n",
       "      <td>90805525</td>\n",
       "      <td>2011</td>\n",
       "      <td>2011-07-08</td>\n",
       "      <td>Comedy,Family,Romance</td>\n",
       "      <td>5.2</td>\n",
       "      <td>0.531631</td>\n",
       "      <td>July</td>\n",
       "    </tr>\n",
       "    <tr>\n",
       "      <th>1251</th>\n",
       "      <td>Zoolander 2</td>\n",
       "      <td>Par.</td>\n",
       "      <td>55348693</td>\n",
       "      <td>28848693</td>\n",
       "      <td>26500000</td>\n",
       "      <td>50000000</td>\n",
       "      <td>5348693</td>\n",
       "      <td>2016</td>\n",
       "      <td>2016-02-12</td>\n",
       "      <td>Comedy</td>\n",
       "      <td>4.7</td>\n",
       "      <td>0.096636</td>\n",
       "      <td>February</td>\n",
       "    </tr>\n",
       "    <tr>\n",
       "      <th>1252</th>\n",
       "      <td>Zootopia</td>\n",
       "      <td>BV</td>\n",
       "      <td>1019429616</td>\n",
       "      <td>341268248</td>\n",
       "      <td>678161368</td>\n",
       "      <td>150000000</td>\n",
       "      <td>869429616</td>\n",
       "      <td>2016</td>\n",
       "      <td>2016-03-04</td>\n",
       "      <td>Adventure,Animation,Comedy</td>\n",
       "      <td>8.0</td>\n",
       "      <td>0.852859</td>\n",
       "      <td>March</td>\n",
       "    </tr>\n",
       "    <tr>\n",
       "      <th>1253</th>\n",
       "      <td>[Rec] 2</td>\n",
       "      <td>Magn.</td>\n",
       "      <td>18527766</td>\n",
       "      <td>27766</td>\n",
       "      <td>18500000</td>\n",
       "      <td>5600000</td>\n",
       "      <td>12927766</td>\n",
       "      <td>2010</td>\n",
       "      <td>2010-07-09</td>\n",
       "      <td>None</td>\n",
       "      <td>NaN</td>\n",
       "      <td>0.697751</td>\n",
       "      <td>July</td>\n",
       "    </tr>\n",
       "    <tr>\n",
       "      <th>1254</th>\n",
       "      <td>mother!</td>\n",
       "      <td>Par.</td>\n",
       "      <td>42531076</td>\n",
       "      <td>17800004</td>\n",
       "      <td>24731072</td>\n",
       "      <td>30000000</td>\n",
       "      <td>12531076</td>\n",
       "      <td>2017</td>\n",
       "      <td>2017-09-15</td>\n",
       "      <td>None</td>\n",
       "      <td>NaN</td>\n",
       "      <td>0.294633</td>\n",
       "      <td>September</td>\n",
       "    </tr>\n",
       "  </tbody>\n",
       "</table>\n",
       "<p>1255 rows × 13 columns</p>\n",
       "</div>"
      ],
      "text/plain": [
       "                                          Movie Studio  TNWorlwideGross  \\\n",
       "0                           10 Cloverfield Lane   Par.        108286422   \n",
       "1                                     12 Strong     WB         71118378   \n",
       "2                              12 Years a Slave   FoxS        181025343   \n",
       "3                                     127 Hours   FoxS         60217171   \n",
       "4     13 Hours: The Secret Soldiers of Benghazi   Par.         69411370   \n",
       "...                                         ...    ...              ...   \n",
       "1250                                  Zookeeper   Sony        170805525   \n",
       "1251                                Zoolander 2   Par.         55348693   \n",
       "1252                                   Zootopia     BV       1019429616   \n",
       "1253                                    [Rec] 2  Magn.         18527766   \n",
       "1254                                    mother!   Par.         42531076   \n",
       "\n",
       "      TNDomesticGross  ComputedForeignGross     Budget     Profit  Year  \\\n",
       "0            72082999              36203423    5000000  103286422  2016   \n",
       "1            45819713              25298665   35000000   36118378  2018   \n",
       "2            56671993             124353350   20000000  161025343  2013   \n",
       "3            18335230              41881941   18000000   42217171  2010   \n",
       "4            52853219              16558151   50000000   19411370  2016   \n",
       "...               ...                   ...        ...        ...   ...   \n",
       "1250         80360866              90444659   80000000   90805525  2011   \n",
       "1251         28848693              26500000   50000000    5348693  2016   \n",
       "1252        341268248             678161368  150000000  869429616  2016   \n",
       "1253            27766              18500000    5600000   12927766  2010   \n",
       "1254         17800004              24731072   30000000   12531076  2017   \n",
       "\n",
       "     release_date                      Genres  Average Ratings  Profit Margin  \\\n",
       "0      2016-03-11        Drama,Horror,Mystery              7.2       0.953826   \n",
       "1      2018-01-19        Action,Drama,History              6.6       0.507863   \n",
       "2      2013-10-18     Biography,Drama,History              8.1       0.889518   \n",
       "3      2010-11-05   Adventure,Biography,Drama              7.6       0.701082   \n",
       "4      2016-01-15                        None              NaN       0.279657   \n",
       "...           ...                         ...              ...            ...   \n",
       "1250   2011-07-08       Comedy,Family,Romance              5.2       0.531631   \n",
       "1251   2016-02-12                      Comedy              4.7       0.096636   \n",
       "1252   2016-03-04  Adventure,Animation,Comedy              8.0       0.852859   \n",
       "1253   2010-07-09                        None              NaN       0.697751   \n",
       "1254   2017-09-15                        None              NaN       0.294633   \n",
       "\n",
       "          Month  \n",
       "0         March  \n",
       "1       January  \n",
       "2       October  \n",
       "3      November  \n",
       "4       January  \n",
       "...         ...  \n",
       "1250       July  \n",
       "1251   February  \n",
       "1252      March  \n",
       "1253       July  \n",
       "1254  September  \n",
       "\n",
       "[1255 rows x 13 columns]"
      ]
     },
     "execution_count": 119,
     "metadata": {},
     "output_type": "execute_result"
    }
   ],
   "source": [
    "#Convert the Release Date field to type datetime.\n",
    "df['release_date'] = pd.to_datetime(df['release_date'])\n",
    "\n",
    "#Add a new column called month, displaying only the month from the release date.\n",
    "df_new =  [x.strftime('%B') for x in df['release_date']]\n",
    "df['Month'] = df_new\n",
    "df"
=======
   "execution_count": null,
   "metadata": {},
   "outputs": [],
   "source": [
    "# Data is from 2010 and above because we dont financials for years less than 2010\n",
    "\n",
    "q = \"\"\"\n",
    "SELECT a.movie_id,a.primary_title,a.start_year,a.runtime_minutes,a.genres, b.averagerating,b.numvotes\n",
    "FROM movie_basics a\n",
    "JOIN movie_ratings b\n",
    "USING (movie_id)\n",
    "where start_year >=2010\n",
    ";\"\"\"\n",
    "db_database = pd.read_sql(q, con)\n",
    "\n",
    "con.close()"
>>>>>>> origin
   ]
  },
  {
   "cell_type": "code",
<<<<<<< HEAD
   "execution_count": 123,
   "metadata": {},
   "outputs": [
    {
     "data": {
      "text/html": [
       "<div>\n",
       "<style scoped>\n",
       "    .dataframe tbody tr th:only-of-type {\n",
       "        vertical-align: middle;\n",
       "    }\n",
       "\n",
       "    .dataframe tbody tr th {\n",
       "        vertical-align: top;\n",
       "    }\n",
       "\n",
       "    .dataframe thead th {\n",
       "        text-align: right;\n",
       "    }\n",
       "</style>\n",
       "<table border=\"1\" class=\"dataframe\">\n",
       "  <thead>\n",
       "    <tr style=\"text-align: right;\">\n",
       "      <th></th>\n",
       "      <th>Movie</th>\n",
       "      <th>Studio</th>\n",
       "      <th>TNWorlwideGross</th>\n",
       "      <th>TNDomesticGross</th>\n",
       "      <th>ComputedForeignGross</th>\n",
       "      <th>Budget</th>\n",
       "      <th>Profit</th>\n",
       "      <th>Year</th>\n",
       "      <th>release_date</th>\n",
       "      <th>Genres</th>\n",
       "      <th>Average Ratings</th>\n",
       "      <th>Profit Margin</th>\n",
       "      <th>Month</th>\n",
       "      <th>Seasons</th>\n",
       "    </tr>\n",
       "  </thead>\n",
       "  <tbody>\n",
       "    <tr>\n",
       "      <th>0</th>\n",
       "      <td>10 Cloverfield Lane</td>\n",
       "      <td>Par.</td>\n",
       "      <td>108286422</td>\n",
       "      <td>72082999</td>\n",
       "      <td>36203423</td>\n",
       "      <td>5000000</td>\n",
       "      <td>103286422</td>\n",
       "      <td>2016</td>\n",
       "      <td>2016-03-11</td>\n",
       "      <td>Drama,Horror,Mystery</td>\n",
       "      <td>7.2</td>\n",
       "      <td>0.953826</td>\n",
       "      <td>March</td>\n",
       "      <td>Spring</td>\n",
       "    </tr>\n",
       "    <tr>\n",
       "      <th>1</th>\n",
       "      <td>12 Strong</td>\n",
       "      <td>WB</td>\n",
       "      <td>71118378</td>\n",
       "      <td>45819713</td>\n",
       "      <td>25298665</td>\n",
       "      <td>35000000</td>\n",
       "      <td>36118378</td>\n",
       "      <td>2018</td>\n",
       "      <td>2018-01-19</td>\n",
       "      <td>Action,Drama,History</td>\n",
       "      <td>6.6</td>\n",
       "      <td>0.507863</td>\n",
       "      <td>January</td>\n",
       "      <td>Winter</td>\n",
       "    </tr>\n",
       "    <tr>\n",
       "      <th>2</th>\n",
       "      <td>12 Years a Slave</td>\n",
       "      <td>FoxS</td>\n",
       "      <td>181025343</td>\n",
       "      <td>56671993</td>\n",
       "      <td>124353350</td>\n",
       "      <td>20000000</td>\n",
       "      <td>161025343</td>\n",
       "      <td>2013</td>\n",
       "      <td>2013-10-18</td>\n",
       "      <td>Biography,Drama,History</td>\n",
       "      <td>8.1</td>\n",
       "      <td>0.889518</td>\n",
       "      <td>October</td>\n",
       "      <td>Fall</td>\n",
       "    </tr>\n",
       "    <tr>\n",
       "      <th>3</th>\n",
       "      <td>127 Hours</td>\n",
       "      <td>FoxS</td>\n",
       "      <td>60217171</td>\n",
       "      <td>18335230</td>\n",
       "      <td>41881941</td>\n",
       "      <td>18000000</td>\n",
       "      <td>42217171</td>\n",
       "      <td>2010</td>\n",
       "      <td>2010-11-05</td>\n",
       "      <td>Adventure,Biography,Drama</td>\n",
       "      <td>7.6</td>\n",
       "      <td>0.701082</td>\n",
       "      <td>November</td>\n",
       "      <td>Fall</td>\n",
       "    </tr>\n",
       "    <tr>\n",
       "      <th>4</th>\n",
       "      <td>13 Hours: The Secret Soldiers of Benghazi</td>\n",
       "      <td>Par.</td>\n",
       "      <td>69411370</td>\n",
       "      <td>52853219</td>\n",
       "      <td>16558151</td>\n",
       "      <td>50000000</td>\n",
       "      <td>19411370</td>\n",
       "      <td>2016</td>\n",
       "      <td>2016-01-15</td>\n",
       "      <td>None</td>\n",
       "      <td>NaN</td>\n",
       "      <td>0.279657</td>\n",
       "      <td>January</td>\n",
       "      <td>Winter</td>\n",
       "    </tr>\n",
       "    <tr>\n",
       "      <th>...</th>\n",
       "      <td>...</td>\n",
       "      <td>...</td>\n",
       "      <td>...</td>\n",
       "      <td>...</td>\n",
       "      <td>...</td>\n",
       "      <td>...</td>\n",
       "      <td>...</td>\n",
       "      <td>...</td>\n",
       "      <td>...</td>\n",
       "      <td>...</td>\n",
       "      <td>...</td>\n",
       "      <td>...</td>\n",
       "      <td>...</td>\n",
       "      <td>...</td>\n",
       "    </tr>\n",
       "    <tr>\n",
       "      <th>1250</th>\n",
       "      <td>Zookeeper</td>\n",
       "      <td>Sony</td>\n",
       "      <td>170805525</td>\n",
       "      <td>80360866</td>\n",
       "      <td>90444659</td>\n",
       "      <td>80000000</td>\n",
       "      <td>90805525</td>\n",
       "      <td>2011</td>\n",
       "      <td>2011-07-08</td>\n",
       "      <td>Comedy,Family,Romance</td>\n",
       "      <td>5.2</td>\n",
       "      <td>0.531631</td>\n",
       "      <td>July</td>\n",
       "      <td>Summer</td>\n",
       "    </tr>\n",
       "    <tr>\n",
       "      <th>1251</th>\n",
       "      <td>Zoolander 2</td>\n",
       "      <td>Par.</td>\n",
       "      <td>55348693</td>\n",
       "      <td>28848693</td>\n",
       "      <td>26500000</td>\n",
       "      <td>50000000</td>\n",
       "      <td>5348693</td>\n",
       "      <td>2016</td>\n",
       "      <td>2016-02-12</td>\n",
       "      <td>Comedy</td>\n",
       "      <td>4.7</td>\n",
       "      <td>0.096636</td>\n",
       "      <td>February</td>\n",
       "      <td>Winter</td>\n",
       "    </tr>\n",
       "    <tr>\n",
       "      <th>1252</th>\n",
       "      <td>Zootopia</td>\n",
       "      <td>BV</td>\n",
       "      <td>1019429616</td>\n",
       "      <td>341268248</td>\n",
       "      <td>678161368</td>\n",
       "      <td>150000000</td>\n",
       "      <td>869429616</td>\n",
       "      <td>2016</td>\n",
       "      <td>2016-03-04</td>\n",
       "      <td>Adventure,Animation,Comedy</td>\n",
       "      <td>8.0</td>\n",
       "      <td>0.852859</td>\n",
       "      <td>March</td>\n",
       "      <td>Spring</td>\n",
       "    </tr>\n",
       "    <tr>\n",
       "      <th>1253</th>\n",
       "      <td>[Rec] 2</td>\n",
       "      <td>Magn.</td>\n",
       "      <td>18527766</td>\n",
       "      <td>27766</td>\n",
       "      <td>18500000</td>\n",
       "      <td>5600000</td>\n",
       "      <td>12927766</td>\n",
       "      <td>2010</td>\n",
       "      <td>2010-07-09</td>\n",
       "      <td>None</td>\n",
       "      <td>NaN</td>\n",
       "      <td>0.697751</td>\n",
       "      <td>July</td>\n",
       "      <td>Summer</td>\n",
       "    </tr>\n",
       "    <tr>\n",
       "      <th>1254</th>\n",
       "      <td>mother!</td>\n",
       "      <td>Par.</td>\n",
       "      <td>42531076</td>\n",
       "      <td>17800004</td>\n",
       "      <td>24731072</td>\n",
       "      <td>30000000</td>\n",
       "      <td>12531076</td>\n",
       "      <td>2017</td>\n",
       "      <td>2017-09-15</td>\n",
       "      <td>None</td>\n",
       "      <td>NaN</td>\n",
       "      <td>0.294633</td>\n",
       "      <td>September</td>\n",
       "      <td>Fall</td>\n",
       "    </tr>\n",
       "  </tbody>\n",
       "</table>\n",
       "<p>1255 rows × 14 columns</p>\n",
       "</div>"
      ],
      "text/plain": [
       "                                          Movie Studio  TNWorlwideGross  \\\n",
       "0                           10 Cloverfield Lane   Par.        108286422   \n",
       "1                                     12 Strong     WB         71118378   \n",
       "2                              12 Years a Slave   FoxS        181025343   \n",
       "3                                     127 Hours   FoxS         60217171   \n",
       "4     13 Hours: The Secret Soldiers of Benghazi   Par.         69411370   \n",
       "...                                         ...    ...              ...   \n",
       "1250                                  Zookeeper   Sony        170805525   \n",
       "1251                                Zoolander 2   Par.         55348693   \n",
       "1252                                   Zootopia     BV       1019429616   \n",
       "1253                                    [Rec] 2  Magn.         18527766   \n",
       "1254                                    mother!   Par.         42531076   \n",
       "\n",
       "      TNDomesticGross  ComputedForeignGross     Budget     Profit  Year  \\\n",
       "0            72082999              36203423    5000000  103286422  2016   \n",
       "1            45819713              25298665   35000000   36118378  2018   \n",
       "2            56671993             124353350   20000000  161025343  2013   \n",
       "3            18335230              41881941   18000000   42217171  2010   \n",
       "4            52853219              16558151   50000000   19411370  2016   \n",
       "...               ...                   ...        ...        ...   ...   \n",
       "1250         80360866              90444659   80000000   90805525  2011   \n",
       "1251         28848693              26500000   50000000    5348693  2016   \n",
       "1252        341268248             678161368  150000000  869429616  2016   \n",
       "1253            27766              18500000    5600000   12927766  2010   \n",
       "1254         17800004              24731072   30000000   12531076  2017   \n",
       "\n",
       "     release_date                      Genres  Average Ratings  Profit Margin  \\\n",
       "0      2016-03-11        Drama,Horror,Mystery              7.2       0.953826   \n",
       "1      2018-01-19        Action,Drama,History              6.6       0.507863   \n",
       "2      2013-10-18     Biography,Drama,History              8.1       0.889518   \n",
       "3      2010-11-05   Adventure,Biography,Drama              7.6       0.701082   \n",
       "4      2016-01-15                        None              NaN       0.279657   \n",
       "...           ...                         ...              ...            ...   \n",
       "1250   2011-07-08       Comedy,Family,Romance              5.2       0.531631   \n",
       "1251   2016-02-12                      Comedy              4.7       0.096636   \n",
       "1252   2016-03-04  Adventure,Animation,Comedy              8.0       0.852859   \n",
       "1253   2010-07-09                        None              NaN       0.697751   \n",
       "1254   2017-09-15                        None              NaN       0.294633   \n",
       "\n",
       "          Month Seasons  \n",
       "0         March  Spring  \n",
       "1       January  Winter  \n",
       "2       October    Fall  \n",
       "3      November    Fall  \n",
       "4       January  Winter  \n",
       "...         ...     ...  \n",
       "1250       July  Summer  \n",
       "1251   February  Winter  \n",
       "1252      March  Spring  \n",
       "1253       July  Summer  \n",
       "1254  September    Fall  \n",
       "\n",
       "[1255 rows x 14 columns]"
      ]
     },
     "execution_count": 123,
     "metadata": {},
     "output_type": "execute_result"
    }
   ],
   "source": [
    "# Converting to Seasons\n",
    "mapping = {'January':'Winter','February':'Winter','March':'Spring', 'April':'Spring','May':'Spring', 'June':'Summer',\n",
    "                'July':'Summer','August':'Summer','September':'Fall','October':'Fall','November':'Fall','December':'Winter'}\n",
    "df['Seasons'] = df['Month'].map(mapping)\n",
    "df"
   ]
  },
  {
   "cell_type": "code",
   "execution_count": 125,
   "metadata": {},
   "outputs": [
    {
     "data": {
      "text/html": [
       "<div>\n",
       "<style scoped>\n",
       "    .dataframe tbody tr th:only-of-type {\n",
       "        vertical-align: middle;\n",
       "    }\n",
       "\n",
       "    .dataframe tbody tr th {\n",
       "        vertical-align: top;\n",
       "    }\n",
       "\n",
       "    .dataframe thead th {\n",
       "        text-align: right;\n",
       "    }\n",
       "</style>\n",
       "<table border=\"1\" class=\"dataframe\">\n",
       "  <thead>\n",
       "    <tr style=\"text-align: right;\">\n",
       "      <th></th>\n",
       "      <th>Seasons</th>\n",
       "      <th>Movie</th>\n",
       "    </tr>\n",
       "  </thead>\n",
       "  <tbody>\n",
       "    <tr>\n",
       "      <th>0</th>\n",
       "      <td>Fall</td>\n",
       "      <td>359</td>\n",
       "    </tr>\n",
       "    <tr>\n",
       "      <th>2</th>\n",
       "      <td>Summer</td>\n",
       "      <td>317</td>\n",
       "    </tr>\n",
       "    <tr>\n",
       "      <th>1</th>\n",
       "      <td>Spring</td>\n",
       "      <td>295</td>\n",
       "    </tr>\n",
       "    <tr>\n",
       "      <th>3</th>\n",
       "      <td>Winter</td>\n",
       "      <td>284</td>\n",
       "    </tr>\n",
       "  </tbody>\n",
       "</table>\n",
       "</div>"
      ],
      "text/plain": [
       "  Seasons  Movie\n",
       "0    Fall    359\n",
       "2  Summer    317\n",
       "1  Spring    295\n",
       "3  Winter    284"
      ]
     },
     "execution_count": 125,
     "metadata": {},
     "output_type": "execute_result"
    }
   ],
   "source": [
    "#Count the total number of movies and group by month.\n",
    "gropu_by_mnt= df.groupby(['Seasons'], as_index=False)['Movie'].count().sort_values(by='Movie', ascending=False)\n",
    "gropu_by_mnt"
   ]
  },
  {
   "cell_type": "code",
   "execution_count": 133,
   "metadata": {},
   "outputs": [
    {
     "data": {
      "image/png": "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\n",
      "text/plain": [
       "<Figure size 1008x504 with 1 Axes>"
      ]
     },
     "metadata": {
      "needs_background": "light"
     },
     "output_type": "display_data"
    }
   ],
   "source": [
    "#Plot the above findings in order by month.\n",
    "plt.figure(figsize=(14,7))\n",
    "ax = sns.countplot(x=df['Seasons'], palette='Blues',\n",
    "                   order=['Spring','Summer','Fall','Winter'])\n",
    "plt.xlabel('Seasons', fontsize=12)\n",
    "plt.ylabel('Count', fontsize=12)\n",
    "plt.title('Count of Movie Release By Seasons', fontsize=14)\n",
    "plt.savefig('Season_movies');"
   ]
  },
  {
   "cell_type": "code",
   "execution_count": 146,
   "metadata": {},
   "outputs": [
    {
     "data": {
      "image/png": "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\n",
      "text/plain": [
       "<Figure size 1008x504 with 1 Axes>"
      ]
     },
     "metadata": {
      "needs_background": "light"
     },
     "output_type": "display_data"
    }
   ],
   "source": [
    "#Plot seasons by profit.\n",
    "plt.figure(figsize=(14,7))\n",
    "ax = sns.countplot(x=Top_10_profitable['Seasons'], palette='Reds',\n",
    "                   order=['Spring','Summer','Fall','Winter'])\n",
    "plt.xlabel('Seasons', fontsize=12)\n",
    "plt.ylabel('Profit', fontsize=12)\n",
    "plt.title('Seasons with the highest Profit', fontsize=14)\n",
    "plt.savefig('Season_movies');"
   ]
  },
  {
   "cell_type": "code",
   "execution_count": 134,
   "metadata": {},
   "outputs": [
    {
     "data": {
      "text/html": [
       "<div>\n",
       "<style scoped>\n",
       "    .dataframe tbody tr th:only-of-type {\n",
       "        vertical-align: middle;\n",
       "    }\n",
       "\n",
       "    .dataframe tbody tr th {\n",
       "        vertical-align: top;\n",
       "    }\n",
       "\n",
       "    .dataframe thead th {\n",
       "        text-align: right;\n",
       "    }\n",
       "</style>\n",
       "<table border=\"1\" class=\"dataframe\">\n",
       "  <thead>\n",
       "    <tr style=\"text-align: right;\">\n",
       "      <th></th>\n",
       "      <th>index</th>\n",
       "      <th>Movie</th>\n",
       "      <th>Studio</th>\n",
       "      <th>TNWorlwideGross</th>\n",
       "      <th>TNDomesticGross</th>\n",
       "      <th>ComputedForeignGross</th>\n",
       "      <th>Budget</th>\n",
       "      <th>Profit</th>\n",
       "      <th>Year</th>\n",
       "      <th>release_date</th>\n",
       "      <th>Genres</th>\n",
       "      <th>Average Ratings</th>\n",
       "      <th>Profit Margin</th>\n",
       "    </tr>\n",
       "  </thead>\n",
       "  <tbody>\n",
       "    <tr>\n",
       "      <th>0</th>\n",
       "      <td>967</td>\n",
       "      <td>The Gallows</td>\n",
       "      <td>WB (NL)</td>\n",
       "      <td>41656474</td>\n",
       "      <td>22764410</td>\n",
       "      <td>18892064</td>\n",
       "      <td>100000</td>\n",
       "      <td>41556474</td>\n",
       "      <td>2015</td>\n",
       "      <td>7/10/2015</td>\n",
       "      <td>NaN</td>\n",
       "      <td>4.2</td>\n",
       "      <td>0.997599</td>\n",
       "    </tr>\n",
       "    <tr>\n",
       "      <th>1</th>\n",
       "      <td>929</td>\n",
       "      <td>The Devil Inside</td>\n",
       "      <td>Par.</td>\n",
       "      <td>101759490</td>\n",
       "      <td>53262945</td>\n",
       "      <td>48496545</td>\n",
       "      <td>1000000</td>\n",
       "      <td>100759490</td>\n",
       "      <td>2012</td>\n",
       "      <td>1/6/2012</td>\n",
       "      <td>NaN</td>\n",
       "      <td>4.2</td>\n",
       "      <td>0.990173</td>\n",
       "    </tr>\n",
       "    <tr>\n",
       "      <th>2</th>\n",
       "      <td>436</td>\n",
       "      <td>Insidious</td>\n",
       "      <td>FD</td>\n",
       "      <td>99870886</td>\n",
       "      <td>54009150</td>\n",
       "      <td>45861736</td>\n",
       "      <td>1500000</td>\n",
       "      <td>98370886</td>\n",
       "      <td>2011</td>\n",
       "      <td>4/1/2011</td>\n",
       "      <td>NaN</td>\n",
       "      <td>6.9</td>\n",
       "      <td>0.984981</td>\n",
       "    </tr>\n",
       "    <tr>\n",
       "      <th>3</th>\n",
       "      <td>1179</td>\n",
       "      <td>Unfriended</td>\n",
       "      <td>Uni.</td>\n",
       "      <td>64364198</td>\n",
       "      <td>32789645</td>\n",
       "      <td>31574553</td>\n",
       "      <td>1000000</td>\n",
       "      <td>63364198</td>\n",
       "      <td>2015</td>\n",
       "      <td>4/17/2015</td>\n",
       "      <td>NaN</td>\n",
       "      <td>5.6</td>\n",
       "      <td>0.984463</td>\n",
       "    </tr>\n",
       "    <tr>\n",
       "      <th>4</th>\n",
       "      <td>667</td>\n",
       "      <td>Paranormal Activity 2</td>\n",
       "      <td>Par.</td>\n",
       "      <td>177512032</td>\n",
       "      <td>84752907</td>\n",
       "      <td>92759125</td>\n",
       "      <td>3000000</td>\n",
       "      <td>174512032</td>\n",
       "      <td>2010</td>\n",
       "      <td>10/20/2010</td>\n",
       "      <td>NaN</td>\n",
       "      <td>5.7</td>\n",
       "      <td>0.983100</td>\n",
       "    </tr>\n",
       "  </tbody>\n",
       "</table>\n",
       "</div>"
      ],
      "text/plain": [
       "   index                  Movie   Studio  TNWorlwideGross  TNDomesticGross  \\\n",
       "0    967            The Gallows  WB (NL)         41656474         22764410   \n",
       "1    929       The Devil Inside     Par.        101759490         53262945   \n",
       "2    436              Insidious       FD         99870886         54009150   \n",
       "3   1179             Unfriended     Uni.         64364198         32789645   \n",
       "4    667  Paranormal Activity 2     Par.        177512032         84752907   \n",
       "\n",
       "   ComputedForeignGross   Budget     Profit  Year release_date  Genres  \\\n",
       "0              18892064   100000   41556474  2015    7/10/2015     NaN   \n",
       "1              48496545  1000000  100759490  2012     1/6/2012     NaN   \n",
       "2              45861736  1500000   98370886  2011     4/1/2011     NaN   \n",
       "3              31574553  1000000   63364198  2015    4/17/2015     NaN   \n",
       "4              92759125  3000000  174512032  2010   10/20/2010     NaN   \n",
       "\n",
       "   Average Ratings  Profit Margin  \n",
       "0              4.2       0.997599  \n",
       "1              4.2       0.990173  \n",
       "2              6.9       0.984981  \n",
       "3              5.6       0.984463  \n",
       "4              5.7       0.983100  "
      ]
     },
     "execution_count": 134,
     "metadata": {},
     "output_type": "execute_result"
    }
   ],
   "source": [
    "profitable_ranked.head()"
   ]
  },
  {
   "cell_type": "code",
   "execution_count": 153,
   "metadata": {},
   "outputs": [
    {
     "ename": "NameError",
     "evalue": "name 'Profit' is not defined",
     "output_type": "error",
     "traceback": [
      "\u001b[1;31m---------------------------------------------------------------------------\u001b[0m",
      "\u001b[1;31mNameError\u001b[0m                                 Traceback (most recent call last)",
      "\u001b[1;32m<ipython-input-153-5982d600cb24>\u001b[0m in \u001b[0;36m<module>\u001b[1;34m\u001b[0m\n\u001b[0;32m      8\u001b[0m \u001b[0mplt\u001b[0m\u001b[1;33m.\u001b[0m\u001b[0mlegend\u001b[0m\u001b[1;33m(\u001b[0m\u001b[0mfontsize\u001b[0m\u001b[1;33m=\u001b[0m\u001b[1;36m12\u001b[0m\u001b[1;33m)\u001b[0m\u001b[1;33m\u001b[0m\u001b[1;33m\u001b[0m\u001b[0m\n\u001b[0;32m      9\u001b[0m \u001b[1;32mfor\u001b[0m \u001b[0mindex\u001b[0m\u001b[1;33m,\u001b[0m \u001b[0mrow\u001b[0m \u001b[1;32min\u001b[0m \u001b[0mprofitable_ranked\u001b[0m\u001b[1;33m.\u001b[0m\u001b[0miterrows\u001b[0m\u001b[1;33m(\u001b[0m\u001b[1;33m)\u001b[0m\u001b[1;33m:\u001b[0m\u001b[1;33m\u001b[0m\u001b[1;33m\u001b[0m\u001b[0m\n\u001b[1;32m---> 10\u001b[1;33m     \u001b[0max\u001b[0m\u001b[1;33m.\u001b[0m\u001b[0mtext\u001b[0m\u001b[1;33m(\u001b[0m\u001b[0mrow\u001b[0m\u001b[1;33m.\u001b[0m\u001b[0mname\u001b[0m\u001b[1;33m,\u001b[0m \u001b[0mrow\u001b[0m\u001b[1;33m.\u001b[0m\u001b[0mSeasons\u001b[0m\u001b[1;33m,\u001b[0m \u001b[0mround\u001b[0m\u001b[1;33m(\u001b[0m\u001b[0mProfit\u001b[0m\u001b[1;33m,\u001b[0m \u001b[1;36m2\u001b[0m\u001b[1;33m)\u001b[0m\u001b[1;33m,\u001b[0m \u001b[0mcolor\u001b[0m\u001b[1;33m=\u001b[0m\u001b[1;34m'black'\u001b[0m\u001b[1;33m,\u001b[0m \u001b[0mha\u001b[0m\u001b[1;33m=\u001b[0m\u001b[1;34m\"center\"\u001b[0m\u001b[1;33m)\u001b[0m\u001b[1;33m\u001b[0m\u001b[1;33m\u001b[0m\u001b[0m\n\u001b[0m\u001b[0;32m     11\u001b[0m \u001b[0mplt\u001b[0m\u001b[1;33m.\u001b[0m\u001b[0msavefig\u001b[0m\u001b[1;33m(\u001b[0m\u001b[1;34m'Profitable_movie_seasons'\u001b[0m\u001b[1;33m)\u001b[0m\u001b[1;33m;\u001b[0m\u001b[1;33m\u001b[0m\u001b[1;33m\u001b[0m\u001b[0m\n",
      "\u001b[1;31mNameError\u001b[0m: name 'Profit' is not defined"
     ]
    },
    {
     "data": {
      "image/png": "iVBORw0KGgoAAAANSUhEUgAAA4EAAALQCAYAAAAuD3UqAAAAOXRFWHRTb2Z0d2FyZQBNYXRwbG90bGliIHZlcnNpb24zLjMuMSwgaHR0cHM6Ly9tYXRwbG90bGliLm9yZy/d3fzzAAAACXBIWXMAAAsTAAALEwEAmpwYAAA46UlEQVR4nO3de9ylZV0v/s+XAYyDCgooDEcVTXSrGUoqpqYZmKa70wZLU3OjFrti20HdOzXL+u1O5qkQFTEzyXZqaKjYtsRzoCmBqAFJDGNyPilx8vv7Y63R5TjPzDPwrDWH6/1+vdZr7vu6rvte32deLNZ8nuu677u6OwAAAIxhhy1dAAAAAIsjBAIAAAxECAQAABiIEAgAADAQIRAAAGAgQiAAAMBAhEAAAICBCIEAbBOq6pSq6pnXFVX1vqr63hV8j4On5z58GWMfU1X/b1rHN6rqwqp6e1XdZaXqAYB5EAIB2Jb8fZJ9p68nJtklybsXXURVHZbkA0nOSfK4JA9M8oIk1ya506LrAYDNIQQCsC25qbv/Y/r6bJJXJfneqtpl3YCqWl1Vp1bV1dPX31XVoTP9B1TV31bVVdMZvC9W1THT7n+b/nnWdEbwH5eo44lJruzuE7r7X7r7ou4+o7t/obsvn3mvw6bvf31VXVZV76iqe870P6yqzpjOJl5XVR+rqkfMvlFVPa+qvlxV/1lVl1fVB6tqx2nfDlX1m1V1SVXdVFX/UlVPnTl23czmT1TVh6Y/7xeq6odv198+ANsFIRCAbVJV3TnJf0vyL91947Rt1yT/kOQ/kzwmySOSfDXJ30/7kuRPk+yayQzeA5L8SpJrpn0Pn/55VCazjT++xNv/R5K9q+pxG6lv3yRnJjl3et4nJNk9yWlVte77985J3pbk0dMxn0tyelXtNT3H4Ulen+S3ktxveo4PzLzNLyf5tSS/keS/ZDIr+q6qesh65bwyyWuSPDjJWUlOrardl6odgO1bdfeWrgEANqmqTknys5kEvCTZLcklSZ7U3edOxzwnyYuT3LenX3BVtSrJZUle0N3vrKpzkvxNd//WBt7j4ExmAx/W3WdvpJZVSd6U5FnTc/9TJuHzbetmAqvqFUke1d2PnzluzyRXJTmiu/9pA+etJGuT/Fp3/0VV/XiStyTZv7uv38D4S5O8obtfMdP2j0nWdPfPzvw8z+/uN0z7VydZk+TR3f2xpX5GALZf2/VMYFWdPF1+c+4yxh5YVf9QVf9cVedU1ZMWUSMAm+XMJA+Zvo5I8uEkZ1TVAdP+709ySJLrq+qGqrohk+v09kxy7+mYVyf531X1yar6nar6/s0tortv6+5nJ9k/ya8m+fdMZuS+WFUPmKnlB9fVMa3lkmnfvZOkqvapqjdMl3tem+T6JPskOXA67kNJLk7yb9ObzvzcdAY00xvQ7Jfk4+uV97Ekh63Xds7M9trpn/ts7s8NwPZhuw6BSU7JZEnPcvzvJO/s7u9Lckwmy4UA2Lp8o7svmL7+KcnPJ7lLkuOm/TtksqTyIeu97pvkDUnS3W/OJCi+Zdr+iap6+e0pprsv7e63dfcvZhK8vplJGFxXy99toJZDk7xvOuatSR6W5IQkj5z2r0my8/T81yd5aJKfziRovjiToLnfbBkbKm29/Vtmal7Xt73/GwCAJWzXXwDdfWYmy26+paruXVUfqKrPVNVHZ24t3pn8QyJJ7ppv/6YUgK1XZxK81l3v99kk90lyxUxYXPf61vdBd6/p7pO6+6eTvDTfDpE3T/9ctdmFdF+dyfWH6661+2wm1xxevIFa1i3tPDLJa7v777r7vExmAvdd77y3dveHu/vFSR6UyTLYJ3f3dZl8Vx25XilHJvnC5tYPwDh23NIFbAEnZXJtxL9W1RGZzPj9UJKXZ7Kk6H9k8gX7hC1XIgBLuNPM3TX3THJ8JqHrvdO2t2eyPPNvq+qlmcyeHZDkqUlOnP6//9VJ3p/ky5n88u+ofDs0XZbkxiQ/UlVfSfKf3X3t+kVU1fMymbV7d5ILk3xPkmdmcnOW358Oe32S/57kr6rq/yS5PMm9MpnVe+E0CH45yc9W1acz+e75/Xw7iKaqnpzJ0tF1v9R8XCY3kzl/OuQPkryiqv41yWcyuWby0ZksRQWADRoqBE7vhPbIJH89ufY+ybef53RsklO6+4+mt+d+W1U9sLu/uQVKBWDDnpDJbFsymTX7YpKf6u5/TJLu/kZV/WCS/y/JX+fbKzv+IcnV0+N2SPLaTMLh9Un+X5IXTo+/tap+KZPZwZcl+WiSx26gjn/K5PvkzzK5Lu8bSf41yTO7+y+m51pbVY9K8nuZ3NHzezIJpWckuWl6nudk8svJz0zrfHmSvWfe55okT5vWs2smgfO53f3Raf9rMgmFv5/kHkm+lOQnuvtzG/k7BGBw2/3dQad3Rntfdz9wehH9l7p73w2MOy/JUd19yXT/oiQ/0N2XLbRgAACAOdqurwlc3/T6iX+rqp9KJrfirqoHT7v/Pcnjp+33z+Q3tpdv8EQAAADbqO16JrCq3pHJMp69knwtk6U9H85k+c6+SXZKcmp3v6KqDkvyxkyuLekkv97dZ2yJugEAAOZluw6BAAAAfKehloMCAACMbru9O+hee+3VBx988JYuAwAAYIv4zGc+c0V3771++3YbAg8++OCcffbZW7oMAACALaKqLt5Qu+WgAAAAAxECAQAABiIEAgAADEQIBAAAGMh2e2MYAABg23bdddflsssuyy233LKlS9kq7bTTTtlnn31yl7vcZbOOEwIBAICtznXXXZevfe1rWb16dXbZZZdU1ZYuaavS3bnxxhtz6aWXJslmBUHLQQEAgK3OZZddltWrV2fXXXcVADegqrLrrrtm9erVueyyyzbrWCEQAADY6txyyy3ZZZddtnQZW71ddtlls5fLCoEAAMBWyQzgpt2evyMhEAAAYCBCIAAAwBby8Y9/PIceemh23333vOc978nRRx+dt771rXN9T3cHBQAAtgkn7HnCXM//qqtfteyxBx98cL72ta9l1apV2W233fKkJz0pr33ta7P77rtv1nu+9KUvzfHHH59f/uVfTpI87WlP+1bfKaeckje96U352Mc+tlnn3BQzgQAAALfDe9/73txwww357Gc/m7POOiu/8zu/8x39t9566ybPcfHFF+cBD3jAvErcICEQAADgDli9enWOPvronHvuuamqvP71r8+hhx6aQw89NEnyxje+Mfe5z31yt7vdLT/2Yz+WtWvXJknufe9756KLLspTnvKU7L777rnpppvy2Mc+Nm9605ty/vnn5/nPf34++clPZvfdd88ee+yxYvUKgQAAAHfAJZdcktNPPz3f933flyR5z3vek09/+tP5whe+kA9/+MN58YtfnHe+85356le/moMOOijHHHNMkuTCCy/MgQce+K0ZxTvd6U7fOuf973//nHjiiXnEIx6RG264Iddcc82K1SsEAgAA3A5Pe9rTsscee+TII4/MYx7zmLzkJS9Jkrz4xS/O3e52t+yyyy55+9vfnuc85zl56EMfmjvd6U75vd/7vXzyk5/MV77ylS1WtxvDAAAA3A7vec978oQnPOG72g844IBvba9duzYPfehDv7W/++675+53v3suvfTSHHzwwYso87uYCQQAAFhBsw9w32+//XLxxRd/a//rX/96rrzyyqxevXqzzrOShEAAAIA5efrTn563vOUt+dznPpebbropL3nJS3LEEUcsaxbwHve4R9asWZObb755RWuyHBQAANgmbM5z/LYWj3/84/Pbv/3b+Ymf+IlcffXVeeQjH5lTTz11Wcf+0A/9UB7wgAfknve8Z3bYYYdcccUVK1JTdfeKnGhrc/jhh/fZZ5+9pcsAAABuh/PPPz/3v//9t3QZ24Sl/q6q6jPdffj67ZaDAgAADEQIBAAAGIgQCAAAMBAhEAAAYCBCIAAAsFX65je/uaVL2Ordnr8jIRAAANjq7Lbbbrn00ktz8803Z3t9osEd0d25+eabc+mll2a33XbbrGM9JxAAANjq7L///rniiity8cUX59Zbb93S5WyVdtxxx9z1rnfNXnvttXnHzakeAACA222HHXbIPvvsk3322WdLl7LdsRwUAABgIGYCAQAYwgl7nrClS4AlverqVy3svYRAYGF8+bK1WuQXLwBsaZaDAgAADEQIBAAAGIgQCAAAMBAhEAAAYCBCIAAAwECEQAAAgIEIgQAAAAMRAgEAAAYiBAIAAAxECAQAABiIEAgAADAQIRAAAGAgQiAAAMBAhEAAAICBCIEAAAADEQIBAAAGIgQCAAAMRAgEAAAYiBAIAAAwECEQAABgIEIgAADAQBYSAqvqgKr6h6o6v6rOq6pf3sCYqqrXVNUFVXVOVT10pu+oqvrStO9Fi6gZAABge7SomcBbk7ywu++f5AeS/GJVHbbemKOTHDp9HZfkz5KkqlYlef20/7Akx27gWAAAAJZhISGwu7/a3Z+dbl+f5Pwkq9cb9tQkf94Tn0qyR1Xtm+ThSS7o7ou6++Ykp07HAgAAsJkWfk1gVR2c5PuSfHq9rtVJLpnZXzNtW6p9Q+c+rqrOrqqzL7/88hWrGQAAYHux0BBYVbsn+Zskv9Ld163fvYFDeiPt393YfVJ3H97dh++99953rFgAAIDt0I6LeqOq2imTAPj27n7XBoasSXLAzP7+SdYm2XmJdgAAADbTou4OWknenOT87v7jJYadluSZ07uE/kCSa7v7q0nOSnJoVR1SVTsnOWY6FgAAgM20qJnARyV5RpJ/qarPTdtekuTAJOnuE5OcnuRJSS5I8o0kz5723VpVxyf5YJJVSU7u7vMWVDcAAMB2ZSEhsLs/lg1f2zc7ppP84hJ9p2cSEgEAALgDFn53UAAAALYcIRAAAGAgQiAAAMBAhEAAAICBCIEAAAADEQIBAAAGIgQCAAAMRAgEAAAYiBAIAAAwECEQAABgIEIgAADAQIRAAACAgQiBAAAAAxECAQAABiIEAgAADEQIBAAAGIgQCAAAMBAhEAAAYCBCIAAAwECEQAAAgIEIgQAAAAMRAgEAAAYiBAIAAAxECAQAABiIEAgAADAQIRAAAGAgQiAAAMBAhEAAAICBCIEAAAADEQIBAAAGIgQCAAAMRAgEAAAYiBAIAAAwECEQAABgIEIgAADAQIRAAACAgQiBAAAAAxECAQAABiIEAgAADEQIBAAAGIgQCAAAMBAhEAAAYCBCIAAAwECEQAAAgIEIgQAAAAMRAgEAAAYiBAIAAAxECAQAABiIEAgAADAQIRAAAGAgQiAAAMBAhEAAAICBCIEAAAADEQIBAAAGIgQCAAAMRAgEAAAYiBAIAAAwECEQAABgIEIgAADAQIRAAACAgQiBAAAAAxECAQAABiIEAgAADEQIBAAAGIgQCAAAMJAdF/EmVXVykicnuay7H7iB/l9L8jMzNd0/yd7dfVVVfSXJ9UluS3Jrdx++iJoBAAC2R4uaCTwlyVFLdXb3H3T3Q7r7IUlenOQj3X3VzJDHTfsFQAAAgDtgISGwu89MctUmB04cm+QdcywHAABgWFvVNYFVtWsmM4Z/M9PcSc6oqs9U1XFbpjIAAIDtw0KuCdwMT0ny8fWWgj6qu9dW1T5JPlRVX5zOLH6XaUg8LkkOPPDA+VcLAACwjdmqZgKTHJP1loJ299rpn5cleXeShy91cHef1N2Hd/fhe++991wLBQAA2BZtNSGwqu6a5DFJ/nambbequvO67SRPTHLulqkQAABg27eoR0S8I8ljk+xVVWuSvCzJTknS3SdOh/3XJGd099dnDr1HkndX1bpa/7K7P7CImgEAALZHCwmB3X3sMsacksmjJGbbLkry4PlUBQAAMJ6tZjkoAAAA8ycEAgAADEQIBAAAGIgQCAAAMBAhEAAAYCBCIAAAwECEQAAAgIEIgQAAAAMRAgEAAAYiBAIAAAxECAQAABiIEAgAADAQIRAAAGAgQiAAAMBAhEAAAICBCIEAAAADEQIBAAAGIgQCAAAMRAgEAAAYiBAIAAAwECEQAABgIEIgAADAQIRAAACAgQiBAAAAAxECAQAABiIEAgAADEQIBAAAGIgQCAAAMBAhEAAAYCBCIAAAwECEQAAAgIEIgQAAAAMRAgEAAAYiBAIAAAxECAQAABiIEAgAADAQIRAAAGAgQiAAAMBAhEAAAICBCIEAAAADEQIBAAAGIgQCAAAMRAgEAAAYiBAIAAAwECEQAABgIEIgAADAQIRAAACAgQiBAAAAAxECAQAABiIEAgAADEQIBAAAGIgQCAAAMBAhEAAAYCBCIAAAwECEQAAAgIEIgQAAAAMRAgEAAAYiBAIAAAxECAQAABiIEAgAADAQIRAAAGAgQiAAAMBAhEAAAICBCIEAAAADEQIBAAAGIgQCAAAMZCEhsKpOrqrLqurcJfofW1XXVtXnpq+XzvQdVVVfqqoLqupFi6gXAABge7WomcBTkhy1iTEf7e6HTF+vSJKqWpXk9UmOTnJYkmOr6rC5VgoAALAdW0gI7O4zk1x1Ow59eJILuvui7r45yalJnrqixQEAAAxka7om8BFV9fmqen9VPWDatjrJJTNj1kzbNqiqjquqs6vq7Msvv3yetQIAAGyTtpYQ+NkkB3X3g5O8Nsl7pu21gbG91Em6+6TuPry7D997771XvkoAAIBt3FYRArv7uu6+Ybp9epKdqmqvTGb+DpgZun+StVugRAAAgO3CVhECq+qeVVXT7YdnUteVSc5KcmhVHVJVOyc5JslpW65SAACAbduOi3iTqnpHkscm2auq1iR5WZKdkqS7T0zyk0leUFW3JrkxyTHd3Ulurarjk3wwyaokJ3f3eYuoGQAAYHu0kBDY3cduov91SV63RN/pSU6fR10AAACj2SqWgwIAALAYQiAAAMBAhEAAAICBCIEAAAADEQIBAAAGIgQCAAAMRAgEAAAYiBAIAAAwECEQAABgIEIgAADAQIRAAACAgQiBAAAAAxECAQAABiIEAgAADEQIBAAAGIgQCAAAMBAhEAAAYCBCIAAAwECEQAAAgIEIgQAAAAMRAgEAAAYiBAIAAAxECAQAABiIEAgAADAQIRAAAGAgQiAAAMBAhEAAAICBCIEAAAADEQIBAAAGIgQCAAAMRAgEAAAYiBAIAAAwECEQAABgIEIgAADAQIRAAACAgQiBAAAAAxECAQAABiIEAgAADEQIBAAAGIgQCAAAMBAhEAAAYCBCIAAAwEB23NSAqnpokh9N8uAkeyS5Jsnnk7y/u8+eZ3EAAACsrCVDYFU9McnvJrlzko8k+XiS66f790/y9qq6IclLuvuDC6gVAACAO2hjM4HPS/KC7j5rqQFV9bAkv5FECAQAANgGLBkCu/snNnXwNCD+5IpWBAAAwNws68YwVbV3Ve0+3V5VVc+uqmdWlRvLAAAAbEOWG+Lel+TQ6fYrk/xqkv+Z5I/mURQAAADzscm7g07dN8nnpts/m+SRSW5Icl6SE1a+LAAAAOZhuSHwtiQ7V9V9k1zb3f8+XQq6+/xKAwAAYKUtNwR+IMk7k9w9yanTtsOSXDqPogAAAJiP5YbAn0/yc0luSfLn07a9krx8DjUBAAAwJ5sMgVW1KpPnAP5Id9+0rr27/3GOdQEAADAHm7w7aHffluSQJDX/cgAAAJin5T4i4reSnFhVB02fE7jDutc8iwMAAGBlLfeawDdN/3zGTFsl6SSrVrQiAAAA5ma5IfCQuVYBAADAQiwrBHb3xfMuBAAAgPlb7kxgqurHkjwmk0dDfOsmMd39zDnUBQAAwBws68YuVfWyJG+Yjv+pJFcm+ZEk18ytMgAAAFbccu/u+ZwkP9zdJyS5efrnU5IcPK/CAAAAWHnLDYF7dPe50+2bq2qn7v6nTJaHAgAAsI1Y7jWBF1bVA7r7vCTnJnlBVV2d5Or5lQYAAMBKW24I/N9J7j7dfnGStyfZPckvzKMoAAAA5mO5j4g4fWb700nuM7eKAAAAmJslQ2BV3Ws5J+juizY1pqpOTvLkJJd19wM30P8zSX5juntDkhd09+enfV9Jcn2S25Lc2t2HL6cuAAAAvtvGZgIvSNKZeSbgBnSSVct4n1OSvC7Jny/R/29JHtPdV1fV0UlOSnLETP/juvuKZbwPAAAAG7FkCOzu5d45dJO6+8yqOngj/Z+Y2f1Ukv1X6r0BAAD4thULeivo55O8f2a/k5xRVZ+pquM2dmBVHVdVZ1fV2ZdffvlciwQAANgWbeyawI9mEsA2qrt/cKWKqarHZRICj5xpflR3r62qfZJ8qKq+2N1nLlHLSZksJc3hhx++ydoBAABGs7FrAt+0sCqSVNWDpu95dHdfua69u9dO/7ysqt6d5OFJNhgCAQAA2LiNXRP41kUVUVUHJnlXkmd095dn2ndLskN3Xz/dfmKSVyyqLgAAgO3Nch8Wn6p6dpJnJFmd5NIkb+vutyzz2HckeWySvapqTZKXJdkpSbr7xCQvzeRh9H9aVcm3HwVxjyTvnrbtmOQvu/sDy60ZAACA77SsEFhV/yvJM5P8UZKLkxyU5Nerar/ufuWmju/uYzfR/9wkz91A+0VJHrycGgEAANi05c4EPjfJY7v74nUNVfXBTK7N22QIBAAAYOuw3EdE7JZk/WcuXJlkl5UtBwAAgHlabgj8QJK3V9X9qmqXqvreJG9N8sH5lQYAAMBKW24IPD7J9Uk+n+SGJJ9L8vUk/2M+ZQEAADAPy7omsLuvS/LMqnpWkr2SXNHd35xnYQAAAKy85d4d9LAkj05ytyRXJfloki/MsS4AAADmYKMhsCYP6Htzkp9LsibJ2kyeE7hfVb0tyXO6u+deJQAAACtiU9cEHpfJQ95/oLsP6u5HdPeBSR6Ryczg8+ZcHwAAACtoUyHwGUl+qbvPmm2c7v/KtB8AAIBtxKZC4GFJPrJE30em/QAAAGwjNhUCV3X39RvqmLYv9xETAAAAbAU2dXfQnarqcUnqdh4PAADAVmRTIe6yJCdvoh8AAIBtxEZDYHcfvKA6AAAAWADX9AEAAAxECAQAABiIEAgAADCQJUNgVf3YzPZOiykHAACAedrYTOBfzGxfOe9CAAAAmL+N3R30P6rq+CRfSLLjUs8L7O4Pz6s4AAAAVtbGQuCzkrwiyS8n2Tkbfl5gJ7nXypcFAADAPCwZArv7E0mekCRVdUF332dhVQEAADAXG31Y/DrrAmBVHZhkdZI13X3JPAsDAABg5S3rERFVdc+q+kiSC5K8K8mFVXVmVe031+oAAABYUct9TuCJST6fZM/u3jfJnkn+edoOAADANmJZy0GTHJlk3+6+JUm6++tV9etJLp1bZQAAAKy45c4EXp3ksPXa7pfkmhWtBgAAgLla7kzg7yf5+6p6c5KLkxyU5NlJfnNehQEAALDylnt30DdW1YVJnp7kQUnWJjnWg+IBAAC2LcudCcw08Al9AAAA27DlXhMIAADAdkAIBAAAGIgQCAAAMJDbFQKrapeq2nmliwEAAGC+lhUCq+oPq+rh0+0fTXJVkmuq6inzLA4AAICVtdyZwJ9Jcu50+6VJfjbJjyX53XkUBQAAwHws9xERu3b3N6rq7knu1d1/kyRVddD8SgMAAGClLTcEfrmqfibJfZJ8KEmqaq8kN86rMAAAAFbeckPgLyR5dZKbk/z8tO1Hkpwxj6IAAACYj2WFwO4+K8kj12t7e5K3z6MoAAAA5mO5M4GpqvsleXCS3Wfbu/vklS4KAACA+VhWCKyql2RyV9DPJ/nGTFcnEQIBAAC2EcudCfyVJA/v7nPmWAsAAABzttznBN6Y5IvzLAQAAID5W24I/M0kr62qfatqh9nXPIsDAABgZS13Oegp0z+fO9NWmVwTuGolCwIAAGB+lhsCD5lrFQAAACzEcp8TeHGSTJd/3iPJ17r7m/MsDAAAgJW3rGv6quouVfXnSf4zyaVJbqyqt1bVXedaHQAAACtquTd2eU2S3ZI8MMkuSf5Lkl2n7QAAAGwjlntN4FFJ7tXd6x4U/+WqenaSC+dTFgAAAPOw3JnA/0yy93pteyW5aWXLAQAAYJ6WOxP4piQfqqo/TnJxkoOSnJDkpHkVBgAAwMpbbgh8ZZK1SZ6eZL/p9u8nOXlOdQEAADAHy31ERGcS+IQ+AACAbdiSIbCqntHdb5tuP2epcd0tGAIAAGwjNjYTeGySt023n7HEmHUzhAAAAGwDlgyB3f2kme3HLaYcAAAA5mljy0GX9fiI7v7mypUDAADAPG1sOeitmSz3XEpN+1etaEUAAADMzcZC4CELqwIAAICF2Ng1gRcvshAAAADmb2PXBL4tG18OmiTp7meuaEUAAADMzcaWg16wsCoAAABYiI0tB/2tRRYCAADA/C35GIiq+sGZ7R9a6rWcN6mqk6vqsqo6d4n+qqrXVNUFVXVOVT10pu+oqvrStO9Fm/PDAQAA8J02thz0T5M8cLr95iXGdJJ7LeN9TknyuiR/vkT/0UkOnb6OSPJnSY6oqlVJXp/kh5OsSXJWVZ3W3V9YxnsCAACwno0tB33gzPYdelxEd59ZVQdvZMhTk/x5d3eST1XVHlW1b5KDk1zQ3RclSVWdOh0rBAIAANwOSy4H3ZiqutsK17E6ySUz+2umbUu1AwAAcDtsNARW1aqq+qWqOrGqfq6qdq+qjye5oqourarvX6E6agNtvZH2peo9rqrOrqqzL7/88hUqDQAAYPuxqZnA1yR5VpJrk5yQ5ANJPp7JtYJvS/KHK1THmiQHzOzvn2TtRto3qLtP6u7Du/vwvffee4VKAwAA2H5s7MYwSfLjSf5Ld19RVa/OZGnm47v7pqp6WZKvrlAdpyU5fnrN3xFJru3ur1bV5UkOrapDklya5JgkT1+h9wQAABjOpkLgbt19RZJ099qquq67b5ru31RVmzo+SVJV70jy2CR7VdWaJC9LstP0PCcmOT3JkzJ5QP03kjx72ndrVR2f5INJViU5ubvP27wfEQAAgHU2GeKqqjK5Nq+S9Hr7y9Ldx26iv5P84hJ9p2cSEgEAALiDNhUCd09y68x+zexXNnKTFgAAALY+mwqBd+j5gAAAAGxdNhoCu/viRRUCAADA/C35iIiq+uOquufGDq6qe1bVH698WQAAAMzDxmYCv5Tkn6rq/CQfme5fn+TOSe6byd0+75fkd+ZcIwAAACtkyRDY3W+oqpOTPDXJ0UmelmSPJFcnOSfJiUne2923LnUOAAAAti6buibwliT/d/oCAABgG7fkNYEAAABsf4RAAACAgQiBAAAAAxECAQAABrKsEFhVVy3RftnKlgMAAMA8LXcmcKf1G6pqpySrVrYcAAAA5mmjj4ioqo8m6STfU1Vnrte9f5JPzKswAAAAVt5GQ2CSNyWpJA9L8uaZ9k7ytSQfnlNdAAAAzMGmHhb/1iSpqk919xcXUxIAAADzsmQIrKpndPfbpruPrKpHbmhcd588l8oAAABYcRubCTw2yboQ+IwlxnQSIRAAAGAbsbEQeOLM9hO7+5Z5FwMAAMB8bewREX8xs33lvAsBAABg/jY2E/gfVXV8ki8k2bGqHpfJnUK/Q3e7QygAAMA2YmMh8FlJXpHkl5PsnA1f+9dJ7rXyZQEAADAPS4bA7v5EkickSVVd0N33WVhVAAAAzMWmHhafJFkXAKvqwCSrk6zp7kvmWRgAAAArb2M3hvmWqrpnVX0kyQVJ3pXkwqo6s6r2m2t1AAAArKhlhcBMHhfx+SR7dve+SfZM8s/5zsdIAAAAsJVb1nLQJEcm2XfdswK7++tV9etJLp1bZQAAAKy45c4EXp3ksPXa7pfkmhWtBgAAgLla7kzg7yf5+6p6c5KLkxyU5NlJfnNehQEAALDylnt30DdW1YVJnp7kQUnWJjnWg+IBAAC2LZsMgVW1KsmXkxwm9AEAAGzbNnlNYHffluS2JN8z/3IAAACYp+VeE/gnSd5ZVb+bZE2SXtfR3RfNoS4AAADmYLkh8HXTP394vfZOsmrlygEAAGCelntjmOU+SgIAAICt2EbDXVXtWlW/W1WnVdXLq+pOiyoMAACAlbepGb7XJXlKki8m+ckkfzj3igAAAJibTYXAo5M8sbt/fbr95PmXBAAAwLxsKgTu1t1fTZLuviTJXedfEgAAAPOyqRvD7FhVj0tSS+zHA+QBAAC2HZsKgZclOXlm/8r19jvJvVa6KAAAAOZjoyGwuw9eUB0AAAAsgOf/AQAADEQIBAAAGIgQCAAAMBAhEAAAYCBCIAAAwECEQAAAgIEIgQAAAAMRAgEAAAYiBAIAAAxECAQAABiIEAgAADAQIRAAAGAgQiAAAMBAhEAAAICBCIEAAAADEQIBAAAGIgQCAAAMRAgEAAAYiBAIAAAwECEQAABgIEIgAADAQIRAAACAgQiBAAAAAxECAQAABrKwEFhVR1XVl6rqgqp60Qb6f62qPjd9nVtVt1XV3aZ9X6mqf5n2nb2omgEAALY3Oy7iTapqVZLXJ/nhJGuSnFVVp3X3F9aN6e4/SPIH0/FPSXJCd181c5rHdfcVi6gXAABge7WomcCHJ7mguy/q7puTnJrkqRsZf2ySdyykMgAAgIEsKgSuTnLJzP6aadt3qapdkxyV5G9mmjvJGVX1mao6bqk3qarjqursqjr78ssvX4GyAQAAti+LCoG1gbZeYuxTknx8vaWgj+ruhyY5OskvVtUPbujA7j6puw/v7sP33nvvO1YxAADAdmhRIXBNkgNm9vdPsnaJscdkvaWg3b12+udlSd6dyfJSAAAANtOiQuBZSQ6tqkOqaudMgt5p6w+qqrsmeUySv51p262q7rxuO8kTk5y7kKoBAAC2Mwu5O2h331pVxyf5YJJVSU7u7vOq6vnT/hOnQ/9rkjO6++szh98jybural29f9ndH1hE3QAAANubhYTAJOnu05Ocvl7bievtn5LklPXaLkry4DmXBwAAMISFPSweAACALU8IBAAAGIgQCAAAMBAhEAAAYCBCIAAAwECEQAAAgIEIgQAAAAMRAgEAAAYiBAIAAAxECAQAABiIEAgAADAQIRAAAGAgQiAAAMBAhEAAAICBCIEAAAAD2XFLFwAALM8Je56wpUuADXrV1a/a0iUAm8FMIAAAwECEQAAAgIEIgQAAAAMRAgEAAAYiBAIAAAxECAQAABiIEAgAADAQIRAAAGAgQiAAAMBAhEAAAICBCIEAAAADEQIBAAAGIgQCAAAMRAgEAAAYiBAIAAAwECEQAABgIEIgAADAQIRAAACAgQiBAAAAAxECAQAABiIEAgAADEQIBAAAGIgQCAAAMBAhEAAAYCBCIAAAwECEQAAAgIEIgQAAAAMRAgEAAAYiBAIAAAxECAQAABiIEAgAADAQIRAAAGAgQiAAAMBAhEAAAICBCIEAAAADEQIBAAAGIgQCAAAMZMctXcC25IQ9T9jSJcAGverqV23pEgAA2EaYCQQAABiIEAgAADAQIRAAAGAgQiAAAMBAhEAAAICBCIEAAAADEQIBAAAGIgQCAAAMRAgEAAAYiBAIAAAwECEQAABgIAsLgVV1VFV9qaouqKoXbaD/sVV1bVV9bvp66XKPBQAAYHl2XMSbVNWqJK9P8sNJ1iQ5q6pO6+4vrDf0o9395Nt5LAAAAJuwqJnAhye5oLsv6u6bk5ya5KkLOBYAAIAZiwqBq5NcMrO/Ztq2vkdU1eer6v1V9YDNPDZVdVxVnV1VZ19++eUrUTcAAMB2ZVEhsDbQ1uvtfzbJQd394CSvTfKezTh20th9Uncf3t2H77333re3VgAAgO3WokLgmiQHzOzvn2Tt7IDuvq67b5hun55kp6raaznHAgAAsDyLCoFnJTm0qg6pqp2THJPktNkBVXXPqqrp9sOntV25nGMBAABYnoXcHbS7b62q45N8MMmqJCd393lV9fxp/4lJfjLJC6rq1iQ3JjmmuzvJBo9dRN0AAADbm4WEwORbSzxPX6/txJnt1yV53XKPBQAAYPMt7GHxAAAAbHlCIAAAwECEQAAAgIEIgQAAAAMRAgEAAAYiBAIAAAxECAQAABiIEAgAADAQIRAAAGAgQiAAAMBAhEAAAICBCIEAAAADEQIBAAAGIgQCAAAMRAgEAAAYiBAIAAAwECEQAABgIEIgAADAQIRAAACAgQiBAAAAAxECAQAABiIEAgAADEQIBAAAGIgQCAAAMBAhEAAAYCBCIAAAwECEQAAAgIEIgQAAAAMRAgEAAAYiBAIAAAxECAQAABiIEAgAADAQIRAAAGAgQiAAAMBAhEAAAICBCIEAAAADEQIBAAAGIgQCAAAMRAgEAAAYiBAIAAAwECEQAABgIEIgAADAQIRAAACAgQiBAAAAAxECAQAABiIEAgAADEQIBAAAGIgQCAAAMBAhEAAAYCBCIAAAwECEQAAAgIEIgQAAAAMRAgEAAAYiBAIAAAxECAQAABiIEAgAADAQIRAAAGAgQiAAAMBAhEAAAICBCIEAAAADEQIBAAAGIgQCAAAMRAgEAAAYiBAIAAAwECEQAABgIAsLgVV1VFV9qaouqKoXbaD/Z6rqnOnrE1X14Jm+r1TVv1TV56rq7EXVDAAAsL3ZcRFvUlWrkrw+yQ8nWZPkrKo6rbu/MDPs35I8pruvrqqjk5yU5IiZ/sd19xWLqBcAAGB7taiZwIcnuaC7L+rum5OcmuSpswO6+xPdffV091NJ9l9QbQAAAMNYVAhcneSSmf0107al/HyS98/sd5IzquozVXXcUgdV1XFVdXZVnX355ZffoYIBAAC2RwtZDpqkNtDWGxxY9bhMQuCRM82P6u61VbVPkg9V1Re7+8zvOmH3SZksI83hhx++wfMDAACMbFEzgWuSHDCzv3+StesPqqoHJXlTkqd295Xr2rt77fTPy5K8O5PlpQAAAGymRYXAs5IcWlWHVNXOSY5JctrsgKo6MMm7kjyju788075bVd153XaSJyY5d0F1AwAAbFcWshy0u2+tquOTfDDJqiQnd/d5VfX8af+JSV6a5O5J/rSqkuTW7j48yT2SvHvatmOSv+zuDyyibgAAgO3Noq4JTHefnuT09dpOnNl+bpLnbuC4i5I8eP12AAAANt/CHhYPAADAlicEAgAADEQIBAAAGIgQCAAAMBAhEAAAYCBCIAAAwECEQAAAgIEIgQAAAAMRAgEAAAYiBAIAAAxECAQAABiIEAgAADAQIRAAAGAgQiAAAMBAhEAAAICBCIEAAAADEQIBAAAGIgQCAAAMRAgEAAAYiBAIAAAwECEQAABgIEIgAADAQIRAAACAgQiBAAAAAxECAQAABiIEAgAADEQIBAAAGIgQCAAAMBAhEAAAYCBCIAAAwECEQAAAgIEIgQAAAAMRAgEAAAYiBAIAAAxECAQAABiIEAgAADAQIRAAAGAgQiAAAMBAhEAAAICBCIEAAAADEQIBAAAGIgQCAAAMRAgEAAAYiBAIAAAwECEQAABgIEIgAADAQIRAAACAgQiBAAAAAxECAQAABiIEAgAADEQIBAAAGIgQCAAAMBAhEAAAYCBCIAAAwECEQAAAgIEIgQAAAAMRAgEAAAYiBAIAAAxECAQAABiIEAgAADAQIRAAAGAgQiAAAMBAhEAAAICBCIEAAAADEQIBAAAGIgQCAAAMZGEhsKqOqqovVdUFVfWiDfRXVb1m2n9OVT10uccCAACwPAsJgVW1Ksnrkxyd5LAkx1bVYesNOzrJodPXcUn+bDOOBQAAYBkWNRP48CQXdPdF3X1zklOTPHW9MU9N8uc98akke1TVvss8FgAAgGXYcUHvszrJJTP7a5IcsYwxq5d5bJKkqo7LZBYxSW6oqi/dgZqZr72SXLGli9he/En9yZYugcXzGVpBPkPD8jlaIT5Dw/IZWkFz+hwdtKHGRYXA2kBbL3PMco6dNHaflOSkzSuNLaGqzu7uw7d0HbCt8hmCO87nCO4Yn6Ft16JC4JokB8zs759k7TLH7LyMYwEAAFiGRV0TeFaSQ6vqkKraOckxSU5bb8xpSZ45vUvoDyS5tru/usxjAQAAWIaFzAR2961VdXySDyZZleTk7j6vqp4/7T8xyelJnpTkgiTfSPLsjR27iLqZK8t24Y7xGYI7zucI7hifoW1UdW/w8joAAAC2Qwt7WDwAAABbnhAIAAAwECEQYAVU1aM9mxQWo6reX1U/t6XrgBFU1T9W1XOn28+qqo9t6Zq444TAbVBVHVlVn6iqa6vqqqr6eFU9bEvXBdubqnpxVZ2+Xtu/bqgtyeruvt8yz/vYqlqzgqXCVm8lv7u6++jufutK1wgjqKqvVNWNVXXDzGu/LV0XiyUEbmOq6i5J3pfktUnulmR1kt9KctOWrGtzVNWink8Jd9SZSR5VVauSpKrumWSnJA9dr+0+07EL4TPEtmalvrumj5Hybxe4457S3bvPvDyDezD+R7rtuW+SdPc7uvu27r6xu8/o7nOq6uVV9RfrBlbVwVXV6/7BOJ3O/53pb2JvqKr3VtXdq+rtVXVdVZ1VVQfPHN9V9QvTmY/rq+q3q+reVfXJ6fh3Tp/duG78k6vqc1V1zfQ9HjTT95Wq+o2qOifJ1/0jlm3EWZmEvodM938wyT8k+dJ6bRcmue/s7N70v/lfrapzpjMff1VV31NVuyV5f5L9Zn8DW1U7VNWLqurCqrpy+vm62/Rc6z7LP19V/57kw4v44WEFbey761nTWcHXTj8rX6yqx687cPrd9cqq+ngmj5C614aWp1XVH1bV1VX1b1V19Mzxh1TVmdPvsb+vqtfPflfC6Kpqz6p6X1VdPv0Mva+q9t/SdTFfQuC258tJbquqt1bV0VW152Yef0ySZ2TyW9h7J/lkkrdk8pvZ85O8bL3xRyX5/iQ/kOTXM3kezM8kOSDJA5McmyRV9dAkJyd5XpK7J3lDktOq6k4z5zo2yY8m2aO7b93MumHhuvvmJJ/OJOhl+udHk3xsvbalZgF/OpPP0CFJHpTkWd399SRHJ1m73m9gfynJ05I8Jsl+Sa5O8vr1zveYJPdP8iN3+IeDxdrUd9cRSS5Kslcm30PvWvdLkKlnJDkuyZ2TXLyB8x+RyS9n9kry+0neXFU17fvLJP+UyXfTy6fnAr5th0z+LXhQkgOT3JjkdVu0IuZOCNzGdPd1SY5M0knemOTyqjqtqu6xzFO8pbsv7O5rM5mNuLC7/34ayv46yfetN/7/dPd13X1eknOTnNHdF80cv278f0/yhu7+9PS3vG/NZJnPD8yc6zXdfUl333g7fnTYUj6Sbwe+R2cSAj+6XttHljj2Nd29truvSvLefHv2cEOel+R/dfea7r4pk3+s/uR6s+Yv7+6v+wyxrVnGd9dlSf6ku2/p7r/KJND96MwpTunu87r71u6+ZQNvcXF3v7G7b0vy1iT7JrlHVR2Y5GFJXtrdN3f3x5KcNp+fErYp75mu3LomyZu7+2+6+xvdfX2SV2byS0e2Y0LgNqi7z+/uZ3X3/pnMxu2X5E+WefjXZrZv3MD+7rdz/EFJXrjufyjT/6kcMK1tnUuWWSNsTc5McuR05mLv7v7XJJ9I8shp2wOz9Ezgf8xsfyPf/fmadVCSd898fs5PcluS2V/w+AyxzdrEd9el3d0zwy/O5n1/fOuz1t3fmG7uPj3HVTNtyzkXjOBp3b1Hd++R5OlV9YaquriqrsvkO22Pml77zvZJCNzGdfcXk5ySyRfq15PsOtN9zwWWckmSV677H8r0tWt3v2NmTC91MGzFPpnkrpksRft48q1ZjbXTtrXd/W+bec4NfRYuSXL0ep+h7+nuSzdxHGxz1vvuSpLVM8s3k8mStNkbVdze//a/muRuVTX73XjA7TwXbK9emOR+SY7o7rvk2ytdaulD2NYJgduYqvreqnrhugt2q+qATK61+1SSzyX5wao6sKrumuTFCyztjUmeX1VH1MRuVfWjVXXnBdYAK2669PLsJP8zk2Wg63xs2nZ77gr6tSR3n35O1zkxySur6qAkqaq9q+qpt69q2Lps4rsrSfZJ8ktVtVNV/VQm176evuGzLV93X5zJ5/flVbVzVT0iyVPu6HlhO3PnTFZ3XTO9Fnf9+0OwHRICtz3XZ3IB/Ker6uuZfIGem+SF3f2hJH+V5Jwkn8nkdtwL0d1nZ3Jd4OsyuaHFBUmetaj3hzn7SCb/SJ19QO5Hp22bHQKnsyDvSHLRdPnnfklencm1SmdU1fWZfLaPuKOFw1Ziye+uaf+nkxya5IpMrkf6ye6+coXe+2eSPCLJlUl+J5PvyW3msUqwAH+SZJdMPn+fSvKBLVoNC1HfuQQfAGBxqupZSZ7b3Ucu6P3+KskXu9tsBzAsM4EAwHarqh5Wk2fc7lBVRyV5apL3bOGyALYoD+wGALZn90zyrkyeE7gmyQu6+5+3bEkAW5bloAAAAAOxHBQAAGAgQiAAAMBAhEAAAICBCIEAAAADEQIBGFZVHVlVn6iqa6vqqqr6eFU9bEvXBQDz5BERAAypqu6S5H1JXpDknUl2TvLoJDdtyboAYN7MBAIwqvsmSXe/o7tv6+4bu/uM7j4nSarqOVV1flVdXVUfrKqD1h1YVa+uqkuq6rqq+kxVPXqm7+FVdfa072tV9cczfT9WVedV1TVV9Y9Vdf+Zvq9U1a9W1TnTmcm/qqrvmfbtVVXvmx53VVV9tKp8hwNwu/gCAWBUX05yW1W9taqOrqo913VU1dOSvCTJjyfZO8lHk7xj5tizkjwkyd2S/GWSv14X2JK8Osmru/suSe6dySxjquq+03P8yvScpyd5b1XtPHPen05yVJJDkjwoybOm7S/M5EHneye5x7Q2D/oF4HYRAgEYUndfl+TITMLUG5NcXlWnVdU9kjwvye919/ndfWuS303ykHWzgd39F919ZXff2t1/lOROSe43PfUtSe5TVXt19w3d/alp+39L8nfd/aHuviXJHybZJckjZ8p6TXev7e6rkrw3k6C57pz7Jjmou2/p7o92txAIwO0iBAIwrGnIe1Z375/kgUn2S/InSQ5K8urp8strklyVpJKsTpKqeuF0qei10/67Jtlretqfz2Sp6Rer6qyqevK0fb8kF8+89zeTXLLunFP/MbP9jSS7T7f/IMkFSc6oqouq6kUr8fMDMCYhEACSdPcXk5ySSRi8JMnzunuPmdcu3f2J6fV/v5HJ0s09u3uPJNdmEhLT3f/a3ccm2SfJ/0nyf6tqtyRrMwmXSZKqqiQHJLl0GbVd390v7O57JXlKkv9ZVY9fqZ8dgLEIgQAMqaq+dzqjt/90/4Akxyb5VJITk7y4qh4w7btrVf3U9NA7J7k1yeVJdqyqlya5y8x5f7aq9p7O9F0zbb4tk2sDf7SqHl9VO2Vynd9NST6xjFqfXFX3mQbH66bnu+2O/Q0AMCohEIBRXZ/kiCSfrqqvZxL+zk3ywu5+dyazeKdW1XXT9qOnx30wyfszubHMxUn+M5OZw3WOSnJeVd2QyU1ijunu/+zuLyX52SSvTXJFJjN6T+num5dR66FJ/j7JDUk+meRPu/sfb+8PDsDYynXlAAAA4zATCAAAMBAhEAAAYCBCIAAAwECEQAAAgIEIgQAAAAMRAgEAAAYiBAIAAAxECAQAABjI/w8jup/2RuC8cgAAAABJRU5ErkJggg==\n",
      "text/plain": [
       "<Figure size 1080x864 with 1 Axes>"
      ]
     },
     "metadata": {
      "needs_background": "light"
     },
     "output_type": "display_data"
    }
   ],
   "source": [
    "plt.figure(figsize=(15,12))\n",
    "ax= sns.barplot(x=profitable_ranked.loc[0:10, 'Seasons'],y=profitable_ranked.loc[0:10, 'Profit'], \n",
    "            color='purple', label='Profit', ci=None, errwidth=0)\n",
    "plt.xlabel('Seasons', fontsize=12)\n",
    "plt.title(\"Best Season \", fontsize=14)\n",
    "plt.ylabel('Profit (Billions of Dollars)', fontsize=12)\n",
    "plt.xticks(rotation=0, horizontalalignment='right', fontsize=12)\n",
    "plt.legend(fontsize=12)\n",
    "for index, row in profitable_ranked.iterrows():\n",
    "    ax.text(row.name, row.Seasons, round(Profit, 2), color='black', ha=\"center\")\n",
    "plt.savefig('Profitable_movie_seasons');"
   ]
  },
  {
   "cell_type": "code",
   "execution_count": 155,
   "metadata": {},
   "outputs": [
    {
     "data": {
      "text/html": [
       "<div>\n",
       "<style scoped>\n",
       "    .dataframe tbody tr th:only-of-type {\n",
       "        vertical-align: middle;\n",
       "    }\n",
       "\n",
       "    .dataframe tbody tr th {\n",
       "        vertical-align: top;\n",
       "    }\n",
       "\n",
       "    .dataframe thead th {\n",
       "        text-align: right;\n",
       "    }\n",
       "</style>\n",
       "<table border=\"1\" class=\"dataframe\">\n",
       "  <thead>\n",
       "    <tr style=\"text-align: right;\">\n",
       "      <th></th>\n",
       "      <th>index</th>\n",
       "      <th>Movie</th>\n",
       "      <th>Studio</th>\n",
       "      <th>TNWorlwideGross</th>\n",
       "      <th>TNDomesticGross</th>\n",
       "      <th>ComputedForeignGross</th>\n",
       "      <th>Budget</th>\n",
       "      <th>Profit</th>\n",
       "      <th>Year</th>\n",
       "      <th>release_date</th>\n",
       "      <th>Genres</th>\n",
       "      <th>Average Ratings</th>\n",
       "      <th>Profit Margin</th>\n",
       "      <th>Month</th>\n",
       "      <th>Seasons</th>\n",
       "    </tr>\n",
       "  </thead>\n",
       "  <tbody>\n",
       "    <tr>\n",
       "      <th>0</th>\n",
       "      <td>967</td>\n",
       "      <td>The Gallows</td>\n",
       "      <td>WB (NL)</td>\n",
       "      <td>41656474</td>\n",
       "      <td>22764410</td>\n",
       "      <td>18892064</td>\n",
       "      <td>100000</td>\n",
       "      <td>41556474</td>\n",
       "      <td>2015</td>\n",
       "      <td>2015-07-10</td>\n",
       "      <td>Horror,Mystery,Thriller</td>\n",
       "      <td>4.2</td>\n",
       "      <td>0.997599</td>\n",
       "      <td>July</td>\n",
       "      <td>Summer</td>\n",
       "    </tr>\n",
       "    <tr>\n",
       "      <th>1</th>\n",
       "      <td>929</td>\n",
       "      <td>The Devil Inside</td>\n",
       "      <td>Par.</td>\n",
       "      <td>101759490</td>\n",
       "      <td>53262945</td>\n",
       "      <td>48496545</td>\n",
       "      <td>1000000</td>\n",
       "      <td>100759490</td>\n",
       "      <td>2012</td>\n",
       "      <td>2012-01-06</td>\n",
       "      <td>Horror</td>\n",
       "      <td>4.2</td>\n",
       "      <td>0.990173</td>\n",
       "      <td>January</td>\n",
       "      <td>Winter</td>\n",
       "    </tr>\n",
       "  </tbody>\n",
       "</table>\n",
       "</div>"
      ],
      "text/plain": [
       "   index             Movie   Studio  TNWorlwideGross  TNDomesticGross  \\\n",
       "0    967       The Gallows  WB (NL)         41656474         22764410   \n",
       "1    929  The Devil Inside     Par.        101759490         53262945   \n",
       "\n",
       "   ComputedForeignGross   Budget     Profit  Year release_date  \\\n",
       "0              18892064   100000   41556474  2015   2015-07-10   \n",
       "1              48496545  1000000  100759490  2012   2012-01-06   \n",
       "\n",
       "                    Genres  Average Ratings  Profit Margin    Month Seasons  \n",
       "0  Horror,Mystery,Thriller              4.2       0.997599     July  Summer  \n",
       "1                   Horror              4.2       0.990173  January  Winter  "
      ]
     },
     "execution_count": 155,
     "metadata": {},
     "output_type": "execute_result"
    }
   ],
   "source": [
    "profitable_ranked.head(2)"
   ]
  },
  {
   "cell_type": "code",
   "execution_count": 157,
   "metadata": {},
   "outputs": [
    {
     "data": {
      "text/html": [
       "<div>\n",
       "<style scoped>\n",
       "    .dataframe tbody tr th:only-of-type {\n",
       "        vertical-align: middle;\n",
       "    }\n",
       "\n",
       "    .dataframe tbody tr th {\n",
       "        vertical-align: top;\n",
       "    }\n",
       "\n",
       "    .dataframe thead th {\n",
       "        text-align: right;\n",
       "    }\n",
       "</style>\n",
       "<table border=\"1\" class=\"dataframe\">\n",
       "  <thead>\n",
       "    <tr style=\"text-align: right;\">\n",
       "      <th></th>\n",
       "      <th>Seasons</th>\n",
       "      <th>Profit</th>\n",
       "      <th>Profit Margin</th>\n",
       "    </tr>\n",
       "  </thead>\n",
       "  <tbody>\n",
       "    <tr>\n",
       "      <th>2</th>\n",
       "      <td>Summer</td>\n",
       "      <td>61707384.5</td>\n",
       "      <td>0.688173</td>\n",
       "    </tr>\n",
       "    <tr>\n",
       "      <th>3</th>\n",
       "      <td>Winter</td>\n",
       "      <td>57669920.5</td>\n",
       "      <td>0.671241</td>\n",
       "    </tr>\n",
       "    <tr>\n",
       "      <th>1</th>\n",
       "      <td>Spring</td>\n",
       "      <td>55520633.0</td>\n",
       "      <td>0.639187</td>\n",
       "    </tr>\n",
       "    <tr>\n",
       "      <th>0</th>\n",
       "      <td>Fall</td>\n",
       "      <td>51946251.0</td>\n",
       "      <td>0.684355</td>\n",
       "    </tr>\n",
       "  </tbody>\n",
       "</table>\n",
       "</div>"
      ],
      "text/plain": [
       "  Seasons      Profit  Profit Margin\n",
       "2  Summer  61707384.5       0.688173\n",
       "3  Winter  57669920.5       0.671241\n",
       "1  Spring  55520633.0       0.639187\n",
       "0    Fall  51946251.0       0.684355"
      ]
     },
     "execution_count": 157,
     "metadata": {},
     "output_type": "execute_result"
    }
   ],
   "source": [
    "profitable_ranked.groupby('Seasons', as_index=False)[['Profit', 'Profit Margin']].median().sort_values(by='Profit',  ascending=False)"
=======
   "execution_count": null,
   "metadata": {},
   "outputs": [],
   "source": [
    "db_database"
>>>>>>> origin
   ]
  },
  {
   "cell_type": "code",
   "execution_count": null,
   "metadata": {},
   "outputs": [],
   "source": []
  }
 ],
 "metadata": {
  "kernelspec": {
   "display_name": "Python (learn-env)",
   "language": "python",
   "name": "learn-env"
  },
  "language_info": {
   "codemirror_mode": {
    "name": "ipython",
    "version": 3
   },
   "file_extension": ".py",
   "mimetype": "text/x-python",
   "name": "python",
   "nbconvert_exporter": "python",
   "pygments_lexer": "ipython3",
   "version": "3.8.5"
  }
 },
 "nbformat": 4,
 "nbformat_minor": 4
}
